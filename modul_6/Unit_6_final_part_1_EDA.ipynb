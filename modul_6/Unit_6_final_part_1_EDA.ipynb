{
 "cells": [
  {
   "cell_type": "markdown",
   "metadata": {},
   "source": [
    "# Проект 6. Рекомендательные системы.\n",
    "\n",
    "# Часть 1: обработка данных и EDA\n",
    "\n",
    "**Задачи**:\n",
    "1. Изучить тренировочный и тестовый датасеты\n",
    "2. Провести визуальный и статистический анализ датасетов\n",
    "3. Очистить данные от дубликатов, заполнить пропуски и т.п.\n",
    "4. Сгенерировать новые признаки\n",
    "3. Визуализировать данные и установить закономерности\n",
    "4. Дать комментарии и сделать выводы по представленным данным"
   ]
  },
  {
   "cell_type": "markdown",
   "metadata": {},
   "source": [
    "**Название признаков в датасете**\n",
    "- overall - рейтинг, который поставил пользователь\n",
    "- verified - был ли отзыв верифицирован\n",
    "- reviewTime - когда был отзыв написан\n",
    "- reviewerName - имя пользователя\n",
    "- reviewText - текст отзыва\n",
    "- summary - сжатый отзыв\n",
    "- vote - количество голосований за отзыв\n",
    "- style - метаданные\n",
    "- image - изображение продукта\n",
    "- userid - id пользователя\n",
    "- itemid - id товара\n",
    "- id - id для предсказания"
   ]
  },
  {
   "cell_type": "code",
   "execution_count": 1,
   "metadata": {
    "pycharm": {
     "name": "#%%\n"
    }
   },
   "outputs": [],
   "source": [
    "# импортируем все необходимое для работы\n",
    "import warnings\n",
    "\n",
    "import pandas as pd\n",
    "import numpy as np\n",
    "from IPython.core.display import display\n",
    "from tqdm import tqdm\n",
    "from datetime import date"
   ]
  },
  {
   "cell_type": "code",
   "execution_count": 2,
   "metadata": {
    "pycharm": {
     "name": "#%%\n"
    }
   },
   "outputs": [],
   "source": [
    "from datetime import datetime"
   ]
  },
  {
   "cell_type": "code",
   "execution_count": 3,
   "metadata": {
    "pycharm": {
     "name": "#%%\n"
    }
   },
   "outputs": [],
   "source": [
    "import warnings\n",
    "import matplotlib.pyplot as plt\n",
    "import seaborn as sns\n",
    "from prettytable import PrettyTable\n",
    "%matplotlib inline\n",
    "warnings.filterwarnings('ignore')\n",
    "import re\n",
    "from textblob import TextBlob\n",
    "from sklearn import preprocessing"
   ]
  },
  {
   "cell_type": "code",
   "execution_count": 6,
   "metadata": {
    "pycharm": {
     "name": "#%%\n"
    }
   },
   "outputs": [],
   "source": [
    "# функция для построения гистограмм\n",
    "def visual(col, size=6):\n",
    "    fig, (g1) = plt.subplots(1, 1, figsize=(size, size))\n",
    "    fig.suptitle('Histogram for {0} '.format(col), fontsize=18)\n",
    "\n",
    "    g1.hist(train[col], bins=20, histtype='bar', align='mid',\n",
    "            rwidth=0.8, color='lightsteelblue')  # гистограмма\n",
    "    plt.figtext(0.5, 0, col, fontsize=16)\n",
    "    plt.show"
   ]
  },
  {
   "cell_type": "markdown",
   "metadata": {},
   "source": [
    "Импортируем данные и сравним тренировочный и тестовый сеты"
   ]
  },
  {
   "cell_type": "code",
   "execution_count": 7,
   "metadata": {
    "pycharm": {
     "name": "#%%\n"
    }
   },
   "outputs": [],
   "source": [
    "train = pd.read_csv(\n",
    "    '/Users/alexeizh/Alexeizh_DST/Unit_7/final_prjt/final_hakaton/recommendationsv4/train.csv')\n",
    "test = pd.read_csv(\n",
    "    '/Users/alexeizh/Alexeizh_DST/Unit_7/final_prjt/final_hakaton/recommendationsv4/test.csv')"
   ]
  },
  {
   "cell_type": "code",
   "execution_count": 8,
   "metadata": {
    "pycharm": {
     "name": "#%%\n"
    }
   },
   "outputs": [
    {
     "name": "stdout",
     "output_type": "stream",
     "text": [
      "<class 'pandas.core.frame.DataFrame'>\n",
      "RangeIndex: 857895 entries, 0 to 857894\n",
      "Data columns (total 14 columns):\n",
      " #   Column          Non-Null Count   Dtype  \n",
      "---  ------          --------------   -----  \n",
      " 0   overall         857895 non-null  float64\n",
      " 1   verified        857895 non-null  bool   \n",
      " 2   reviewTime      857895 non-null  object \n",
      " 3   asin            857895 non-null  object \n",
      " 4   reviewerName    857719 non-null  object \n",
      " 5   reviewText      857616 non-null  object \n",
      " 6   summary         857725 non-null  object \n",
      " 7   unixReviewTime  857895 non-null  int64  \n",
      " 8   vote            118740 non-null  object \n",
      " 9   style           444406 non-null  object \n",
      " 10  image           7142 non-null    object \n",
      " 11  userid          857895 non-null  int64  \n",
      " 12  itemid          857895 non-null  int64  \n",
      " 13  rating          857895 non-null  float64\n",
      "dtypes: bool(1), float64(2), int64(3), object(8)\n",
      "memory usage: 85.9+ MB\n"
     ]
    }
   ],
   "source": [
    "train.info()"
   ]
  },
  {
   "cell_type": "code",
   "execution_count": 9,
   "metadata": {
    "pycharm": {
     "name": "#%%\n"
    }
   },
   "outputs": [
    {
     "name": "stdout",
     "output_type": "stream",
     "text": [
      "<class 'pandas.core.frame.DataFrame'>\n",
      "RangeIndex: 285965 entries, 0 to 285964\n",
      "Data columns (total 11 columns):\n",
      " #   Column          Non-Null Count   Dtype \n",
      "---  ------          --------------   ----- \n",
      " 0   verified        285965 non-null  bool  \n",
      " 1   reviewTime      285965 non-null  object\n",
      " 2   asin            285965 non-null  object\n",
      " 3   reviewerName    285918 non-null  object\n",
      " 4   unixReviewTime  285965 non-null  int64 \n",
      " 5   vote            39462 non-null   object\n",
      " 6   style           147680 non-null  object\n",
      " 7   image           2368 non-null    object\n",
      " 8   userid          285965 non-null  int64 \n",
      " 9   itemid          285965 non-null  int64 \n",
      " 10  Id              285965 non-null  int64 \n",
      "dtypes: bool(1), int64(4), object(6)\n",
      "memory usage: 22.1+ MB\n"
     ]
    }
   ],
   "source": [
    "test.info()"
   ]
  },
  {
   "cell_type": "markdown",
   "metadata": {
    "pycharm": {
     "name": "#%% md\n"
    }
   },
   "source": [
    "Так как предсказание рейтинга будет вестись по тестовой базе, приведем тренировочную базу в соответствие с тестовой.\n",
    "Придется убрать из тренировочной базы те признаки, которых в тестовой базе нет (а значит, они нам никак не помогут в\n",
    "обучении модели и ее работе)\n",
    "\n",
    "Из тренировочной базы нужно убрать признаки overall, reviewText, summary, rating (целевая переменная), а из тестовой базы\n",
    "убрать признак Id.\n",
    "\n",
    "После этого добавлю в базу признак (тестовая/тренировочная). Объединю базы, чтобы провести необходимую обработку данных,\n",
    "сгенирировать новые признаки, после этого по признаку (тестовая/тренировочная) разделю базы снова и верну признаки rating\n",
    "и Id.\n",
    "\n",
    "После этого базы можно будет передавать в модель для обучения и предсказания."
   ]
  },
  {
   "cell_type": "code",
   "execution_count": 10,
   "metadata": {
    "pycharm": {
     "name": "#%%\n"
    }
   },
   "outputs": [],
   "source": [
    "# убираем \"лишние\" признаки\n",
    "train_for_work = train.drop(\n",
    "    ['overall', 'reviewText', 'summary', 'rating'], axis=1).copy()\n",
    "test_for_work = test.drop(['Id'], axis=1).copy()"
   ]
  },
  {
   "cell_type": "code",
   "execution_count": 11,
   "metadata": {
    "pycharm": {
     "name": "#%%\n"
    }
   },
   "outputs": [],
   "source": [
    "# добавляем метку для последующего разделения\n",
    "train_for_work['train/test'] = 1\n",
    "test_for_work['train/test'] = 0"
   ]
  },
  {
   "cell_type": "code",
   "execution_count": 12,
   "metadata": {
    "pycharm": {
     "name": "#%%\n"
    }
   },
   "outputs": [
    {
     "name": "stdout",
     "output_type": "stream",
     "text": [
      "<class 'pandas.core.frame.DataFrame'>\n",
      "RangeIndex: 857895 entries, 0 to 857894\n",
      "Data columns (total 11 columns):\n",
      " #   Column          Non-Null Count   Dtype \n",
      "---  ------          --------------   ----- \n",
      " 0   verified        857895 non-null  bool  \n",
      " 1   reviewTime      857895 non-null  object\n",
      " 2   asin            857895 non-null  object\n",
      " 3   reviewerName    857719 non-null  object\n",
      " 4   unixReviewTime  857895 non-null  int64 \n",
      " 5   vote            118740 non-null  object\n",
      " 6   style           444406 non-null  object\n",
      " 7   image           7142 non-null    object\n",
      " 8   userid          857895 non-null  int64 \n",
      " 9   itemid          857895 non-null  int64 \n",
      " 10  train/test      857895 non-null  int64 \n",
      "dtypes: bool(1), int64(4), object(6)\n",
      "memory usage: 66.3+ MB\n"
     ]
    }
   ],
   "source": [
    "train_for_work.info()"
   ]
  },
  {
   "cell_type": "code",
   "execution_count": 13,
   "metadata": {
    "pycharm": {
     "name": "#%%\n"
    }
   },
   "outputs": [
    {
     "name": "stdout",
     "output_type": "stream",
     "text": [
      "<class 'pandas.core.frame.DataFrame'>\n",
      "RangeIndex: 285965 entries, 0 to 285964\n",
      "Data columns (total 11 columns):\n",
      " #   Column          Non-Null Count   Dtype \n",
      "---  ------          --------------   ----- \n",
      " 0   verified        285965 non-null  bool  \n",
      " 1   reviewTime      285965 non-null  object\n",
      " 2   asin            285965 non-null  object\n",
      " 3   reviewerName    285918 non-null  object\n",
      " 4   unixReviewTime  285965 non-null  int64 \n",
      " 5   vote            39462 non-null   object\n",
      " 6   style           147680 non-null  object\n",
      " 7   image           2368 non-null    object\n",
      " 8   userid          285965 non-null  int64 \n",
      " 9   itemid          285965 non-null  int64 \n",
      " 10  train/test      285965 non-null  int64 \n",
      "dtypes: bool(1), int64(4), object(6)\n",
      "memory usage: 22.1+ MB\n"
     ]
    }
   ],
   "source": [
    "test_for_work.info()"
   ]
  },
  {
   "cell_type": "code",
   "execution_count": 14,
   "metadata": {
    "pycharm": {
     "name": "#%%\n"
    }
   },
   "outputs": [],
   "source": [
    "# объединяем базы\n",
    "df = pd.concat([train_for_work, test_for_work])"
   ]
  },
  {
   "cell_type": "code",
   "execution_count": 15,
   "metadata": {
    "pycharm": {
     "name": "#%%\n"
    }
   },
   "outputs": [
    {
     "name": "stdout",
     "output_type": "stream",
     "text": [
      "<class 'pandas.core.frame.DataFrame'>\n",
      "Int64Index: 1143860 entries, 0 to 285964\n",
      "Data columns (total 11 columns):\n",
      " #   Column          Non-Null Count    Dtype \n",
      "---  ------          --------------    ----- \n",
      " 0   verified        1143860 non-null  bool  \n",
      " 1   reviewTime      1143860 non-null  object\n",
      " 2   asin            1143860 non-null  object\n",
      " 3   reviewerName    1143637 non-null  object\n",
      " 4   unixReviewTime  1143860 non-null  int64 \n",
      " 5   vote            158202 non-null   object\n",
      " 6   style           592086 non-null   object\n",
      " 7   image           9510 non-null     object\n",
      " 8   userid          1143860 non-null  int64 \n",
      " 9   itemid          1143860 non-null  int64 \n",
      " 10  train/test      1143860 non-null  int64 \n",
      "dtypes: bool(1), int64(4), object(6)\n",
      "memory usage: 97.1+ MB\n"
     ]
    }
   ],
   "source": [
    "# проверяем что получилось\n",
    "df.info()"
   ]
  },
  {
   "cell_type": "code",
   "execution_count": 16,
   "metadata": {
    "pycharm": {
     "name": "#%%\n"
    }
   },
   "outputs": [
    {
     "data": {
      "text/html": [
       "<div>\n",
       "<style scoped>\n",
       "    .dataframe tbody tr th:only-of-type {\n",
       "        vertical-align: middle;\n",
       "    }\n",
       "\n",
       "    .dataframe tbody tr th {\n",
       "        vertical-align: top;\n",
       "    }\n",
       "\n",
       "    .dataframe thead th {\n",
       "        text-align: right;\n",
       "    }\n",
       "</style>\n",
       "<table border=\"1\" class=\"dataframe\">\n",
       "  <thead>\n",
       "    <tr style=\"text-align: right;\">\n",
       "      <th></th>\n",
       "      <th>verified</th>\n",
       "      <th>reviewTime</th>\n",
       "      <th>asin</th>\n",
       "      <th>reviewerName</th>\n",
       "      <th>unixReviewTime</th>\n",
       "      <th>vote</th>\n",
       "      <th>style</th>\n",
       "      <th>image</th>\n",
       "      <th>userid</th>\n",
       "      <th>itemid</th>\n",
       "      <th>train/test</th>\n",
       "    </tr>\n",
       "  </thead>\n",
       "  <tbody>\n",
       "    <tr>\n",
       "      <th>853391</th>\n",
       "      <td>True</td>\n",
       "      <td>05 16, 2013</td>\n",
       "      <td>B000MUVBWY</td>\n",
       "      <td>SFLovely</td>\n",
       "      <td>1368662400</td>\n",
       "      <td>NaN</td>\n",
       "      <td>{'Size:': ' 9 Bars (1 Pack)'}</td>\n",
       "      <td>NaN</td>\n",
       "      <td>68263</td>\n",
       "      <td>3601</td>\n",
       "      <td>1</td>\n",
       "    </tr>\n",
       "    <tr>\n",
       "      <th>470736</th>\n",
       "      <td>True</td>\n",
       "      <td>07 25, 2009</td>\n",
       "      <td>B001AHFVHO</td>\n",
       "      <td>E-Commerce Maven</td>\n",
       "      <td>1248480000</td>\n",
       "      <td>NaN</td>\n",
       "      <td>{'Size:': ' 1.5-Ounce Bags (Pack of 24)', 'Fla...</td>\n",
       "      <td>NaN</td>\n",
       "      <td>36719</td>\n",
       "      <td>6924</td>\n",
       "      <td>1</td>\n",
       "    </tr>\n",
       "    <tr>\n",
       "      <th>418404</th>\n",
       "      <td>True</td>\n",
       "      <td>02 18, 2017</td>\n",
       "      <td>B00LR6KPDS</td>\n",
       "      <td>Michelle A. Cantu</td>\n",
       "      <td>1487376000</td>\n",
       "      <td>NaN</td>\n",
       "      <td>{'Size:': ' 3 Pounds'}</td>\n",
       "      <td>NaN</td>\n",
       "      <td>43094</td>\n",
       "      <td>29669</td>\n",
       "      <td>1</td>\n",
       "    </tr>\n",
       "  </tbody>\n",
       "</table>\n",
       "</div>"
      ],
      "text/plain": [
       "        verified   reviewTime        asin       reviewerName  unixReviewTime  \\\n",
       "853391      True  05 16, 2013  B000MUVBWY           SFLovely      1368662400   \n",
       "470736      True  07 25, 2009  B001AHFVHO   E-Commerce Maven      1248480000   \n",
       "418404      True  02 18, 2017  B00LR6KPDS  Michelle A. Cantu      1487376000   \n",
       "\n",
       "       vote                                              style image  userid  \\\n",
       "853391  NaN                      {'Size:': ' 9 Bars (1 Pack)'}   NaN   68263   \n",
       "470736  NaN  {'Size:': ' 1.5-Ounce Bags (Pack of 24)', 'Fla...   NaN   36719   \n",
       "418404  NaN                             {'Size:': ' 3 Pounds'}   NaN   43094   \n",
       "\n",
       "        itemid  train/test  \n",
       "853391    3601           1  \n",
       "470736    6924           1  \n",
       "418404   29669           1  "
      ]
     },
     "execution_count": 16,
     "metadata": {},
     "output_type": "execute_result"
    }
   ],
   "source": [
    "df.sample(3)"
   ]
  },
  {
   "cell_type": "markdown",
   "metadata": {
    "pycharm": {
     "name": "#%% md\n"
    }
   },
   "source": [
    "Теперь можно приступать к обработке и очистке данных.\n",
    "\n",
    "Для начала посмотрим какое количество пропущенных значений у нас есть по признакам."
   ]
  },
  {
   "cell_type": "code",
   "execution_count": 17,
   "metadata": {
    "pycharm": {
     "name": "#%%\n"
    }
   },
   "outputs": [
    {
     "data": {
      "text/html": [
       "<div>\n",
       "<style scoped>\n",
       "    .dataframe tbody tr th:only-of-type {\n",
       "        vertical-align: middle;\n",
       "    }\n",
       "\n",
       "    .dataframe tbody tr th {\n",
       "        vertical-align: top;\n",
       "    }\n",
       "\n",
       "    .dataframe thead th {\n",
       "        text-align: right;\n",
       "    }\n",
       "</style>\n",
       "<table border=\"1\" class=\"dataframe\">\n",
       "  <thead>\n",
       "    <tr style=\"text-align: right;\">\n",
       "      <th></th>\n",
       "      <th>Признак</th>\n",
       "      <th>Кол-во NA</th>\n",
       "      <th>NA в процентах</th>\n",
       "    </tr>\n",
       "  </thead>\n",
       "  <tbody>\n",
       "    <tr>\n",
       "      <th>0</th>\n",
       "      <td>verified</td>\n",
       "      <td>0</td>\n",
       "      <td>0</td>\n",
       "    </tr>\n",
       "    <tr>\n",
       "      <th>1</th>\n",
       "      <td>reviewTime</td>\n",
       "      <td>0</td>\n",
       "      <td>0</td>\n",
       "    </tr>\n",
       "    <tr>\n",
       "      <th>2</th>\n",
       "      <td>asin</td>\n",
       "      <td>0</td>\n",
       "      <td>0</td>\n",
       "    </tr>\n",
       "    <tr>\n",
       "      <th>3</th>\n",
       "      <td>reviewerName</td>\n",
       "      <td>223</td>\n",
       "      <td>0</td>\n",
       "    </tr>\n",
       "    <tr>\n",
       "      <th>4</th>\n",
       "      <td>unixReviewTime</td>\n",
       "      <td>0</td>\n",
       "      <td>0</td>\n",
       "    </tr>\n",
       "    <tr>\n",
       "      <th>5</th>\n",
       "      <td>vote</td>\n",
       "      <td>985658</td>\n",
       "      <td>86</td>\n",
       "    </tr>\n",
       "    <tr>\n",
       "      <th>6</th>\n",
       "      <td>style</td>\n",
       "      <td>551774</td>\n",
       "      <td>48</td>\n",
       "    </tr>\n",
       "    <tr>\n",
       "      <th>7</th>\n",
       "      <td>image</td>\n",
       "      <td>1134350</td>\n",
       "      <td>99</td>\n",
       "    </tr>\n",
       "    <tr>\n",
       "      <th>8</th>\n",
       "      <td>userid</td>\n",
       "      <td>0</td>\n",
       "      <td>0</td>\n",
       "    </tr>\n",
       "    <tr>\n",
       "      <th>9</th>\n",
       "      <td>itemid</td>\n",
       "      <td>0</td>\n",
       "      <td>0</td>\n",
       "    </tr>\n",
       "    <tr>\n",
       "      <th>10</th>\n",
       "      <td>train/test</td>\n",
       "      <td>0</td>\n",
       "      <td>0</td>\n",
       "    </tr>\n",
       "  </tbody>\n",
       "</table>\n",
       "</div>"
      ],
      "text/plain": [
       "           Признак  Кол-во NA  NA в процентах\n",
       "0         verified          0               0\n",
       "1       reviewTime          0               0\n",
       "2             asin          0               0\n",
       "3     reviewerName        223               0\n",
       "4   unixReviewTime          0               0\n",
       "5             vote     985658              86\n",
       "6            style     551774              48\n",
       "7            image    1134350              99\n",
       "8           userid          0               0\n",
       "9           itemid          0               0\n",
       "10      train/test          0               0"
      ]
     },
     "execution_count": 17,
     "metadata": {},
     "output_type": "execute_result"
    }
   ],
   "source": [
    "missings = pd.DataFrame(df.isna().sum()).reset_index()\n",
    "missings.rename(columns={'index': 'Признак', 0: 'Кол-во NA'}, inplace=True)\n",
    "missings['NA в процентах'] = missings['Кол-во NA'].apply(\n",
    "    lambda x: round(x*100/len(df)))\n",
    "missings"
   ]
  },
  {
   "cell_type": "markdown",
   "metadata": {
    "pycharm": {
     "name": "#%% md\n"
    }
   },
   "source": [
    "Разберемся для начала с признаками, в которых больше всего пропущенных значений.\n",
    "\n",
    "У нас практически полностью пропущены значения в признаке image. Уберем его (тем более, что в этом признаке только ссылка на изображение\n",
    "товара, которая никак не сможет нам помочь)"
   ]
  },
  {
   "cell_type": "code",
   "execution_count": 18,
   "metadata": {
    "pycharm": {
     "name": "#%%\n"
    }
   },
   "outputs": [],
   "source": [
    "df.drop(['image'], axis=1, inplace=True)"
   ]
  },
  {
   "cell_type": "markdown",
   "metadata": {
    "pycharm": {
     "name": "#%% md\n"
    }
   },
   "source": [
    "Посмотрим, что у нас есть в признаке **style**\n",
    "\n",
    "В этом признаке у нас есть некоторые характеристики товара. Размер упаковки и Вкус (Flavor). Жалко терять эту информацию.\n",
    "Может быть можно ее достать из json файла. Пока отложим этот признак"
   ]
  },
  {
   "cell_type": "code",
   "execution_count": 19,
   "metadata": {
    "pycharm": {
     "name": "#%%\n"
    }
   },
   "outputs": [],
   "source": [
    "# df['style'].unique()[3].replace('{','').replace('\\'','').split(',')[1]"
   ]
  },
  {
   "cell_type": "markdown",
   "metadata": {
    "pycharm": {
     "name": "#%% md\n"
    }
   },
   "source": [
    "Признак **vote**. В этом признаке количество голосов, отданных за отзыв о товаре. Тут пропуски заполнить проще всего.\n",
    "Если пропуск, значит за отзыв о товаре никто не голосовал, значит можем ставить 0."
   ]
  },
  {
   "cell_type": "code",
   "execution_count": 20,
   "metadata": {
    "pycharm": {
     "name": "#%%\n"
    }
   },
   "outputs": [],
   "source": [
    "df.vote.fillna(0, inplace=True)"
   ]
  },
  {
   "cell_type": "markdown",
   "metadata": {},
   "source": [
    "Разберемся с **reviewerName**.\n",
    "\n",
    "Не вижу никакой практической пользы от этого признака. У нас есть признак намного более точно идентифицирующий покупателя\n",
    "\\- его **userid**. Избавимся от ненужного признака."
   ]
  },
  {
   "cell_type": "code",
   "execution_count": 21,
   "metadata": {
    "pycharm": {
     "name": "#%%\n"
    }
   },
   "outputs": [],
   "source": [
    "df.drop(['reviewerName'], axis=1, inplace=True)"
   ]
  },
  {
   "cell_type": "code",
   "execution_count": 22,
   "metadata": {
    "pycharm": {
     "name": "#%%\n"
    }
   },
   "outputs": [
    {
     "name": "stdout",
     "output_type": "stream",
     "text": [
      "<class 'pandas.core.frame.DataFrame'>\n",
      "Int64Index: 1143860 entries, 0 to 285964\n",
      "Data columns (total 9 columns):\n",
      " #   Column          Non-Null Count    Dtype \n",
      "---  ------          --------------    ----- \n",
      " 0   verified        1143860 non-null  bool  \n",
      " 1   reviewTime      1143860 non-null  object\n",
      " 2   asin            1143860 non-null  object\n",
      " 3   unixReviewTime  1143860 non-null  int64 \n",
      " 4   vote            1143860 non-null  object\n",
      " 5   style           592086 non-null   object\n",
      " 6   userid          1143860 non-null  int64 \n",
      " 7   itemid          1143860 non-null  int64 \n",
      " 8   train/test      1143860 non-null  int64 \n",
      "dtypes: bool(1), int64(4), object(4)\n",
      "memory usage: 79.6+ MB\n"
     ]
    }
   ],
   "source": [
    "# посмотрим, что у нас осталось к этому моменту\n",
    "df.info()"
   ]
  },
  {
   "cell_type": "markdown",
   "metadata": {
    "pycharm": {
     "name": "#%% md\n"
    }
   },
   "source": [
    "У нас есть два временным признака **reviewTime** и **unixreviewTime**. Они полностью дублируют друг друга,\n",
    "так что от одного из них можно избавиться). Мне привычныее работать с reviewTime"
   ]
  },
  {
   "cell_type": "code",
   "execution_count": 23,
   "metadata": {
    "pycharm": {
     "name": "#%%\n"
    }
   },
   "outputs": [],
   "source": [
    "df.drop(['unixReviewTime'], axis=1, inplace=True)"
   ]
  },
  {
   "cell_type": "markdown",
   "metadata": {
    "pycharm": {
     "name": "#%% md\n"
    }
   },
   "source": [
    "Теперь переведем время написания отзыва в удобную для работы форму"
   ]
  },
  {
   "cell_type": "code",
   "execution_count": 24,
   "metadata": {
    "pycharm": {
     "name": "#%%\n"
    }
   },
   "outputs": [],
   "source": [
    "df['reviewTime'] = df['reviewTime'].apply(lambda x: pd.to_datetime(x))"
   ]
  },
  {
   "cell_type": "markdown",
   "metadata": {
    "pycharm": {
     "name": "#%% md\n"
    }
   },
   "source": [
    "Введем дополнительный признак - разницу между сегодняшним днем и датой написания отзыва. Это даст нам возможность видеть\n",
    "как давно тот или иной userid были в магазине в последний раз, как часто они заходят и т.п."
   ]
  },
  {
   "cell_type": "code",
   "execution_count": 25,
   "metadata": {
    "pycharm": {
     "name": "#%%\n"
    }
   },
   "outputs": [],
   "source": [
    "# для начала поставим этот признак в удобное для восприятия место\n",
    "df.insert(2, 'from_today', np.nan)"
   ]
  },
  {
   "cell_type": "code",
   "execution_count": 26,
   "metadata": {
    "pycharm": {
     "name": "#%%\n"
    }
   },
   "outputs": [],
   "source": [
    "df['from_today'] = df['reviewTime'].apply(lambda x: (datetime.now() - x).days)"
   ]
  },
  {
   "cell_type": "markdown",
   "metadata": {
    "pycharm": {
     "name": "#%% md\n"
    }
   },
   "source": [
    "В большинстве покупок присутствует сезонность и зависимость от дня недели. Для того, чтобы эти зависимости посмотреть,\n",
    "сделаем дополнительные признаки - день недели и сезон (я понимаю, что у нас нет информации о дате покупки,а есть\n",
    "только информация о дате написания отзыва, но можно допустить, что сезон-то точно совпадет, а вот по дням недели\n",
    "ну, будем допускать, что люди написали отзыв в день покупки)"
   ]
  },
  {
   "cell_type": "code",
   "execution_count": 27,
   "metadata": {
    "pycharm": {
     "name": "#%%\n"
    }
   },
   "outputs": [],
   "source": [
    "# сначала поставим колонки признаков в удобное для интерпретации место\n",
    "df.insert(3, 'week-day', np.nan)\n",
    "df.insert(4, 'season', np.nan)"
   ]
  },
  {
   "cell_type": "code",
   "execution_count": 28,
   "metadata": {
    "pycharm": {
     "name": "#%%\n"
    }
   },
   "outputs": [
    {
     "name": "stderr",
     "output_type": "stream",
     "text": [
      "100%|██████████| 1143860/1143860 [2:15:01<00:00, 141.20it/s] \n"
     ]
    }
   ],
   "source": [
    "for i in tqdm(range(len(df))):\n",
    "    wd = df['reviewTime'].iloc[i].isoweekday()\n",
    "\n",
    "    if wd == 1:\n",
    "        df['week-day'].iloc[i] = 'mon'\n",
    "    elif wd == 2:\n",
    "        df['week-day'].iloc[i] = 'tue'\n",
    "    elif wd == 3:\n",
    "        df['week-day'].iloc[i] = 'wed'\n",
    "    elif wd == 4:\n",
    "        df['week-day'].iloc[i] = 'thu'\n",
    "    elif wd == 5:\n",
    "        df['week-day'].iloc[i] = 'fri'\n",
    "    elif wd == 6:\n",
    "        df['week-day'].iloc[i] = 'sat'\n",
    "    else:\n",
    "        df['week-day'].iloc[i] = 'sun'\n",
    "\n",
    "    month = df['reviewTime'].iloc[i].month\n",
    "\n",
    "    if month == 12 or month == 1 or month == 2:\n",
    "        df['season'].iloc[i] = 'winter'\n",
    "    elif month == 3 or month == 4 or month == 5:\n",
    "        df['season'].iloc[i] = 'spring'\n",
    "    elif month == 6 or month == 7 or month == 8:\n",
    "        df['season'].iloc[i] = 'summer'\n",
    "    else:\n",
    "        df['season'].iloc[i] = 'fall'"
   ]
  },
  {
   "cell_type": "code",
   "execution_count": 29,
   "metadata": {
    "pycharm": {
     "name": "#%%\n"
    }
   },
   "outputs": [
    {
     "data": {
      "text/html": [
       "<div>\n",
       "<style scoped>\n",
       "    .dataframe tbody tr th:only-of-type {\n",
       "        vertical-align: middle;\n",
       "    }\n",
       "\n",
       "    .dataframe tbody tr th {\n",
       "        vertical-align: top;\n",
       "    }\n",
       "\n",
       "    .dataframe thead th {\n",
       "        text-align: right;\n",
       "    }\n",
       "</style>\n",
       "<table border=\"1\" class=\"dataframe\">\n",
       "  <thead>\n",
       "    <tr style=\"text-align: right;\">\n",
       "      <th></th>\n",
       "      <th>verified</th>\n",
       "      <th>reviewTime</th>\n",
       "      <th>from_today</th>\n",
       "      <th>week-day</th>\n",
       "      <th>season</th>\n",
       "      <th>asin</th>\n",
       "      <th>vote</th>\n",
       "      <th>style</th>\n",
       "      <th>userid</th>\n",
       "      <th>itemid</th>\n",
       "      <th>train/test</th>\n",
       "    </tr>\n",
       "  </thead>\n",
       "  <tbody>\n",
       "    <tr>\n",
       "      <th>0</th>\n",
       "      <td>True</td>\n",
       "      <td>2016-10-04</td>\n",
       "      <td>1694</td>\n",
       "      <td>tue</td>\n",
       "      <td>fall</td>\n",
       "      <td>B01CPNIEQG</td>\n",
       "      <td>0</td>\n",
       "      <td>NaN</td>\n",
       "      <td>102179</td>\n",
       "      <td>37138</td>\n",
       "      <td>1</td>\n",
       "    </tr>\n",
       "    <tr>\n",
       "      <th>1</th>\n",
       "      <td>True</td>\n",
       "      <td>2016-03-01</td>\n",
       "      <td>1911</td>\n",
       "      <td>tue</td>\n",
       "      <td>spring</td>\n",
       "      <td>B006F63M8U</td>\n",
       "      <td>0</td>\n",
       "      <td>{'Size:': ' 60-0.73 oz Envelopes'}</td>\n",
       "      <td>3625</td>\n",
       "      <td>17322</td>\n",
       "      <td>1</td>\n",
       "    </tr>\n",
       "    <tr>\n",
       "      <th>2</th>\n",
       "      <td>True</td>\n",
       "      <td>2016-06-26</td>\n",
       "      <td>1794</td>\n",
       "      <td>sun</td>\n",
       "      <td>summer</td>\n",
       "      <td>B00112O8NG</td>\n",
       "      <td>28</td>\n",
       "      <td>NaN</td>\n",
       "      <td>39495</td>\n",
       "      <td>5600</td>\n",
       "      <td>1</td>\n",
       "    </tr>\n",
       "  </tbody>\n",
       "</table>\n",
       "</div>"
      ],
      "text/plain": [
       "   verified reviewTime  from_today week-day  season        asin vote  \\\n",
       "0      True 2016-10-04        1694      tue    fall  B01CPNIEQG    0   \n",
       "1      True 2016-03-01        1911      tue  spring  B006F63M8U    0   \n",
       "2      True 2016-06-26        1794      sun  summer  B00112O8NG   28   \n",
       "\n",
       "                                style  userid  itemid  train/test  \n",
       "0                                 NaN  102179   37138           1  \n",
       "1  {'Size:': ' 60-0.73 oz Envelopes'}    3625   17322           1  \n",
       "2                                 NaN   39495    5600           1  "
      ]
     },
     "execution_count": 29,
     "metadata": {},
     "output_type": "execute_result"
    }
   ],
   "source": [
    "# посмотрим, что получилось\n",
    "df.head(3)"
   ]
  },
  {
   "cell_type": "markdown",
   "metadata": {
    "pycharm": {
     "name": "#%% md\n"
    }
   },
   "source": [
    "Посмотрим, что мы можем вытащить из джейсоновской даты. Там по каждому asin есть какое-то количество характеристик"
   ]
  },
  {
   "cell_type": "code",
   "execution_count": 30,
   "metadata": {
    "pycharm": {
     "name": "#%%\n"
    }
   },
   "outputs": [],
   "source": [
    "# загруим данные\n",
    "with open('/Users/alexeizh/Alexeizh_DST/Unit_7/final_prjt/final_hakaton/recommendationsv4/meta_Grocery_and_Gourmet_Food.json', 'r') as file:\n",
    "    data = pd.read_json(file, lines=True)"
   ]
  },
  {
   "cell_type": "code",
   "execution_count": 32,
   "metadata": {
    "pycharm": {
     "name": "#%%\n"
    }
   },
   "outputs": [
    {
     "data": {
      "text/html": [
       "<div>\n",
       "<style scoped>\n",
       "    .dataframe tbody tr th:only-of-type {\n",
       "        vertical-align: middle;\n",
       "    }\n",
       "\n",
       "    .dataframe tbody tr th {\n",
       "        vertical-align: top;\n",
       "    }\n",
       "\n",
       "    .dataframe thead th {\n",
       "        text-align: right;\n",
       "    }\n",
       "</style>\n",
       "<table border=\"1\" class=\"dataframe\">\n",
       "  <thead>\n",
       "    <tr style=\"text-align: right;\">\n",
       "      <th></th>\n",
       "      <th>category</th>\n",
       "      <th>description</th>\n",
       "      <th>title</th>\n",
       "      <th>brand</th>\n",
       "      <th>rank</th>\n",
       "      <th>also_view</th>\n",
       "      <th>main_cat</th>\n",
       "      <th>price</th>\n",
       "      <th>asin</th>\n",
       "      <th>also_buy</th>\n",
       "      <th>image</th>\n",
       "      <th>date</th>\n",
       "      <th>feature</th>\n",
       "      <th>details</th>\n",
       "      <th>similar_item</th>\n",
       "      <th>tech1</th>\n",
       "      <th>fit</th>\n",
       "    </tr>\n",
       "  </thead>\n",
       "  <tbody>\n",
       "    <tr>\n",
       "      <th>0</th>\n",
       "      <td>[Grocery &amp; Gourmet Food, Dairy, Cheese &amp; Eggs,...</td>\n",
       "      <td>[BEEMSTER GOUDA CHEESE AGED 18/24 MONTHS, Stat...</td>\n",
       "      <td>Beemster Gouda - Aged 18/24 Months - App. 1.5 Lbs</td>\n",
       "      <td>Ariola Imports</td>\n",
       "      <td>165,181inGroceryGourmetFood(</td>\n",
       "      <td>[B0000D9MYM, B0000D9MYL, B00ADHIGBA, B00H9OX59...</td>\n",
       "      <td>Grocery</td>\n",
       "      <td>$41.91</td>\n",
       "      <td>0681727810</td>\n",
       "      <td>NaN</td>\n",
       "      <td>NaN</td>\n",
       "      <td>NaN</td>\n",
       "      <td>NaN</td>\n",
       "      <td>NaN</td>\n",
       "      <td>NaN</td>\n",
       "      <td>NaN</td>\n",
       "      <td>NaN</td>\n",
       "    </tr>\n",
       "    <tr>\n",
       "      <th>1</th>\n",
       "      <td>[Grocery &amp; Gourmet Food, Cooking &amp; Baking, Sug...</td>\n",
       "      <td>[Shipped from UK, please allow 10 to 21 busine...</td>\n",
       "      <td>Trim Healthy Mama Xylitol</td>\n",
       "      <td>NaN</td>\n",
       "      <td>315,867inGroceryGourmetFood(</td>\n",
       "      <td>NaN</td>\n",
       "      <td>Grocery</td>\n",
       "      <td>NaN</td>\n",
       "      <td>0853347867</td>\n",
       "      <td>[B01898YHXK, B01BCM6LAC, B00Q4OL47O, B00Q4OL5Q...</td>\n",
       "      <td>[https://images-na.ssl-images-amazon.com/image...</td>\n",
       "      <td>NaN</td>\n",
       "      <td>NaN</td>\n",
       "      <td>NaN</td>\n",
       "      <td>NaN</td>\n",
       "      <td>NaN</td>\n",
       "      <td>NaN</td>\n",
       "    </tr>\n",
       "    <tr>\n",
       "      <th>2</th>\n",
       "      <td>[Grocery &amp; Gourmet Food, Cooking &amp; Baking, Fro...</td>\n",
       "      <td>[Jazz up your cakes with a sparkling monogram ...</td>\n",
       "      <td>Letter C - Swarovski Crystal Monogram Wedding ...</td>\n",
       "      <td>Unik Occasions</td>\n",
       "      <td>&gt;#669,941 in Kitchen &amp; Dining (See Top 100 in ...</td>\n",
       "      <td>[B07DXN65TF]</td>\n",
       "      <td>Amazon Home</td>\n",
       "      <td>$29.95</td>\n",
       "      <td>1888861118</td>\n",
       "      <td>NaN</td>\n",
       "      <td>NaN</td>\n",
       "      <td>September 21, 2010</td>\n",
       "      <td>NaN</td>\n",
       "      <td>NaN</td>\n",
       "      <td>NaN</td>\n",
       "      <td>NaN</td>\n",
       "      <td>NaN</td>\n",
       "    </tr>\n",
       "  </tbody>\n",
       "</table>\n",
       "</div>"
      ],
      "text/plain": [
       "                                            category  \\\n",
       "0  [Grocery & Gourmet Food, Dairy, Cheese & Eggs,...   \n",
       "1  [Grocery & Gourmet Food, Cooking & Baking, Sug...   \n",
       "2  [Grocery & Gourmet Food, Cooking & Baking, Fro...   \n",
       "\n",
       "                                         description  \\\n",
       "0  [BEEMSTER GOUDA CHEESE AGED 18/24 MONTHS, Stat...   \n",
       "1  [Shipped from UK, please allow 10 to 21 busine...   \n",
       "2  [Jazz up your cakes with a sparkling monogram ...   \n",
       "\n",
       "                                               title           brand  \\\n",
       "0  Beemster Gouda - Aged 18/24 Months - App. 1.5 Lbs  Ariola Imports   \n",
       "1                          Trim Healthy Mama Xylitol             NaN   \n",
       "2  Letter C - Swarovski Crystal Monogram Wedding ...  Unik Occasions   \n",
       "\n",
       "                                                rank  \\\n",
       "0                       165,181inGroceryGourmetFood(   \n",
       "1                       315,867inGroceryGourmetFood(   \n",
       "2  >#669,941 in Kitchen & Dining (See Top 100 in ...   \n",
       "\n",
       "                                           also_view     main_cat   price  \\\n",
       "0  [B0000D9MYM, B0000D9MYL, B00ADHIGBA, B00H9OX59...      Grocery  $41.91   \n",
       "1                                                NaN      Grocery     NaN   \n",
       "2                                       [B07DXN65TF]  Amazon Home  $29.95   \n",
       "\n",
       "         asin                                           also_buy  \\\n",
       "0  0681727810                                                NaN   \n",
       "1  0853347867  [B01898YHXK, B01BCM6LAC, B00Q4OL47O, B00Q4OL5Q...   \n",
       "2  1888861118                                                NaN   \n",
       "\n",
       "                                               image                date  \\\n",
       "0                                                NaN                 NaN   \n",
       "1  [https://images-na.ssl-images-amazon.com/image...                 NaN   \n",
       "2                                                NaN  September 21, 2010   \n",
       "\n",
       "  feature details similar_item tech1  fit  \n",
       "0     NaN     NaN          NaN   NaN  NaN  \n",
       "1     NaN     NaN          NaN   NaN  NaN  \n",
       "2     NaN     NaN          NaN   NaN  NaN  "
      ]
     },
     "execution_count": 32,
     "metadata": {},
     "output_type": "execute_result"
    }
   ],
   "source": [
    "data.head(3)"
   ]
  },
  {
   "cell_type": "markdown",
   "metadata": {
    "pycharm": {
     "name": "#%% md\n"
    }
   },
   "source": [
    "Итак, мы можем достать категории, в которых представлен товар и их количество, основную категорию, в которой представлен\n",
    "товар, рейтинг в основной категории, цену товара, описание товара (можем потом посмотреть с помощью TextBlob насколько\n",
    "\"объективным\" выглядит описание товара (потом посмотрим насколько сильно это влияет на совершение покупки), цену товара.\n",
    "\n",
    "Для удобства работы создадим словарь, где ключом будет asin, а значениями все вышеперечисленное"
   ]
  },
  {
   "cell_type": "code",
   "execution_count": 35,
   "metadata": {
    "pycharm": {
     "name": "#%%\n"
    }
   },
   "outputs": [],
   "source": [
    "# в словарь (для ускорения работы) буду включать только те asin, которые есть в рабочей базе.\n",
    "# создам список таких asin\n",
    "asins_list = list(df.asin.unique())"
   ]
  },
  {
   "cell_type": "code",
   "execution_count": 41,
   "metadata": {
    "pycharm": {
     "name": "#%%\n"
    }
   },
   "outputs": [
    {
     "data": {
      "text/plain": [
       "list"
      ]
     },
     "execution_count": 41,
     "metadata": {},
     "output_type": "execute_result"
    }
   ],
   "source": [
    "type(data.category.iloc[0])"
   ]
  },
  {
   "cell_type": "code",
   "execution_count": 42,
   "metadata": {
    "pycharm": {
     "name": "#%%\n"
    }
   },
   "outputs": [
    {
     "name": "stderr",
     "output_type": "stream",
     "text": [
      "100%|██████████| 287209/287209 [03:56<00:00, 1213.26it/s]\n"
     ]
    }
   ],
   "source": [
    "data_dict = {}\n",
    "for i in tqdm(range(len(data))):\n",
    "    if data.asin.iloc[i] in asins_list:\n",
    "        name = data.asin.iloc[i]  # буду использовать в качестве ключа\n",
    "        # категории в которых представлен товар\n",
    "        categories = data.category.iloc[i]\n",
    "        # количество категорий, в которых представлен товар\n",
    "        cat_numbers = len(data.category.iloc[i])\n",
    "        if str(data.main_cat.iloc[i]) != 'nan':\n",
    "            main_cat = data.main_cat.iloc[i]  # основная категория товара\n",
    "        else:\n",
    "            main_cat = categories[0]\n",
    "        if str(data.price.iloc[i]) != 'nan':\n",
    "            if len(data.price.iloc[i].replace('$', '').split(' - ')) == 1:\n",
    "                price = float(data.price.iloc[i].replace(\n",
    "                    '$', ''))  # цена товара\n",
    "            else:\n",
    "                # иногда цена представлена диапазоном цен. тогда возьмем среднюю\n",
    "                price = (float(data.price.iloc[i].replace('$', '').split(\n",
    "                    ' - ')[1])-float(data.price.iloc[i].replace('$', '').split(' - ')[0]))/2\n",
    "        else:\n",
    "            price = np.nan\n",
    "        if str(data['rank'].iloc[i]) != 'nan':\n",
    "            text = str(data['rank'].iloc[i])  # рейтинг в основной категории\n",
    "            rank_in_cat = int(re.findall(r'\\d+\\,*\\d*', text)\n",
    "                              [0].replace(',', ''))\n",
    "        else:\n",
    "            rank_in_cat = np.nan\n",
    "        if str(data.description.iloc[i]) != 'nan':\n",
    "            desc_text = str(data.description.iloc[i])\n",
    "            testimonial = TextBlob(desc_text)\n",
    "            testimonial.sentiment\n",
    "            desc_subj = testimonial.sentiment.subjectivity  # оцениваем объективность описания\n",
    "        else:\n",
    "            desc_subj = 1  # отуствие описания считаем описанием крайне субъективным\n",
    "        # теперь все заносим в словарь\n",
    "        data_dict[name] = [categories, cat_numbers,\n",
    "                           main_cat, rank_in_cat, price, desc_subj]"
   ]
  },
  {
   "cell_type": "markdown",
   "metadata": {
    "pycharm": {
     "name": "#%% md\n"
    }
   },
   "source": [
    "внесем полученные данные в нашу таблицу\n"
   ]
  },
  {
   "cell_type": "code",
   "execution_count": 44,
   "metadata": {
    "pycharm": {
     "name": "#%%\n"
    }
   },
   "outputs": [],
   "source": [
    "# для начала создадим колонки в нужных местах\n",
    "df.insert(8, 'categories', np.nan)  # категории, в которых представлен товар\n",
    "df.insert(9, 'numb_of_cat', np.nan)  # количество этих категорий\n",
    "df.insert(10, 'main_cat', np.nan)  # основная категория\n",
    "df.insert(11, 'rank_in_main', np.nan)  # рейтинг в основной категории\n",
    "df.insert(12, 'price', np.nan)  # цена товара\n",
    "df.insert(13, 'desc_subj', np.nan)  # субъективность его описания"
   ]
  },
  {
   "cell_type": "code",
   "execution_count": 45,
   "metadata": {
    "pycharm": {
     "name": "#%%\n"
    }
   },
   "outputs": [
    {
     "name": "stderr",
     "output_type": "stream",
     "text": [
      "100%|██████████| 1143860/1143860 [7:12:02<00:00, 44.13it/s]  \n"
     ]
    }
   ],
   "source": [
    "# теперь собственно заполняем данными из словаря\n",
    "for i in tqdm(range(len(df))):\n",
    "    asin = df.asin.iloc[i]\n",
    "    df.categories.iloc[i] = data_dict[asin][0]\n",
    "    df.numb_of_cat.iloc[i] = data_dict[asin][1]\n",
    "    df.main_cat.iloc[i] = data_dict[asin][2]\n",
    "    df.rank_in_main.iloc[i] = data_dict[asin][3]\n",
    "    df.price.iloc[i] = data_dict[asin][4]\n",
    "    df.desc_subj.iloc[i] = data_dict[asin][5]"
   ]
  },
  {
   "cell_type": "code",
   "execution_count": 46,
   "metadata": {
    "pycharm": {
     "name": "#%%\n"
    }
   },
   "outputs": [],
   "source": [
    "df.to_csv('df.csv')"
   ]
  },
  {
   "cell_type": "code",
   "execution_count": 47,
   "metadata": {
    "pycharm": {
     "name": "#%%\n"
    }
   },
   "outputs": [
    {
     "data": {
      "text/html": [
       "<div>\n",
       "<style scoped>\n",
       "    .dataframe tbody tr th:only-of-type {\n",
       "        vertical-align: middle;\n",
       "    }\n",
       "\n",
       "    .dataframe tbody tr th {\n",
       "        vertical-align: top;\n",
       "    }\n",
       "\n",
       "    .dataframe thead th {\n",
       "        text-align: right;\n",
       "    }\n",
       "</style>\n",
       "<table border=\"1\" class=\"dataframe\">\n",
       "  <thead>\n",
       "    <tr style=\"text-align: right;\">\n",
       "      <th></th>\n",
       "      <th>verified</th>\n",
       "      <th>reviewTime</th>\n",
       "      <th>from_today</th>\n",
       "      <th>week-day</th>\n",
       "      <th>season</th>\n",
       "      <th>asin</th>\n",
       "      <th>vote</th>\n",
       "      <th>style</th>\n",
       "      <th>categories</th>\n",
       "      <th>numb_of_cat</th>\n",
       "      <th>main_cat</th>\n",
       "      <th>rank_in_main</th>\n",
       "      <th>price</th>\n",
       "      <th>desc_subj</th>\n",
       "      <th>userid</th>\n",
       "      <th>itemid</th>\n",
       "      <th>train/test</th>\n",
       "    </tr>\n",
       "  </thead>\n",
       "  <tbody>\n",
       "    <tr>\n",
       "      <th>0</th>\n",
       "      <td>True</td>\n",
       "      <td>2016-10-04</td>\n",
       "      <td>1694</td>\n",
       "      <td>tue</td>\n",
       "      <td>fall</td>\n",
       "      <td>B01CPNIEQG</td>\n",
       "      <td>0</td>\n",
       "      <td>NaN</td>\n",
       "      <td>[Grocery &amp; Gourmet Food, Herbs, Spices &amp; Seaso...</td>\n",
       "      <td>4.0</td>\n",
       "      <td>Grocery</td>\n",
       "      <td>19771.0</td>\n",
       "      <td>9.95</td>\n",
       "      <td>0.503788</td>\n",
       "      <td>102179</td>\n",
       "      <td>37138</td>\n",
       "      <td>1</td>\n",
       "    </tr>\n",
       "    <tr>\n",
       "      <th>1</th>\n",
       "      <td>True</td>\n",
       "      <td>2016-03-01</td>\n",
       "      <td>1911</td>\n",
       "      <td>tue</td>\n",
       "      <td>spring</td>\n",
       "      <td>B006F63M8U</td>\n",
       "      <td>0</td>\n",
       "      <td>{'Size:': ' 60-0.73 oz Envelopes'}</td>\n",
       "      <td>[Grocery &amp; Gourmet Food, Beverages, Coffee, Te...</td>\n",
       "      <td>4.0</td>\n",
       "      <td>Grocery</td>\n",
       "      <td>5591.0</td>\n",
       "      <td>18.49</td>\n",
       "      <td>0.638889</td>\n",
       "      <td>3625</td>\n",
       "      <td>17322</td>\n",
       "      <td>1</td>\n",
       "    </tr>\n",
       "    <tr>\n",
       "      <th>2</th>\n",
       "      <td>True</td>\n",
       "      <td>2016-06-26</td>\n",
       "      <td>1794</td>\n",
       "      <td>sun</td>\n",
       "      <td>summer</td>\n",
       "      <td>B00112O8NG</td>\n",
       "      <td>28</td>\n",
       "      <td>NaN</td>\n",
       "      <td>[Grocery &amp; Gourmet Food, Beverages, Bottled Be...</td>\n",
       "      <td>4.0</td>\n",
       "      <td>Grocery</td>\n",
       "      <td>NaN</td>\n",
       "      <td>NaN</td>\n",
       "      <td>0.800000</td>\n",
       "      <td>39495</td>\n",
       "      <td>5600</td>\n",
       "      <td>1</td>\n",
       "    </tr>\n",
       "  </tbody>\n",
       "</table>\n",
       "</div>"
      ],
      "text/plain": [
       "   verified reviewTime  from_today week-day  season        asin vote  \\\n",
       "0      True 2016-10-04        1694      tue    fall  B01CPNIEQG    0   \n",
       "1      True 2016-03-01        1911      tue  spring  B006F63M8U    0   \n",
       "2      True 2016-06-26        1794      sun  summer  B00112O8NG   28   \n",
       "\n",
       "                                style  \\\n",
       "0                                 NaN   \n",
       "1  {'Size:': ' 60-0.73 oz Envelopes'}   \n",
       "2                                 NaN   \n",
       "\n",
       "                                          categories  numb_of_cat main_cat  \\\n",
       "0  [Grocery & Gourmet Food, Herbs, Spices & Seaso...          4.0  Grocery   \n",
       "1  [Grocery & Gourmet Food, Beverages, Coffee, Te...          4.0  Grocery   \n",
       "2  [Grocery & Gourmet Food, Beverages, Bottled Be...          4.0  Grocery   \n",
       "\n",
       "   rank_in_main  price  desc_subj  userid  itemid  train/test  \n",
       "0       19771.0   9.95   0.503788  102179   37138           1  \n",
       "1        5591.0  18.49   0.638889    3625   17322           1  \n",
       "2           NaN    NaN   0.800000   39495    5600           1  "
      ]
     },
     "execution_count": 47,
     "metadata": {},
     "output_type": "execute_result"
    }
   ],
   "source": [
    "# посмотрим, что получилось\n",
    "df.head(3)\n",
    "# отлично, все \"проставилось\" :)"
   ]
  },
  {
   "cell_type": "code",
   "execution_count": 49,
   "metadata": {
    "pycharm": {
     "name": "#%%\n"
    }
   },
   "outputs": [
    {
     "data": {
      "text/html": [
       "<div>\n",
       "<style scoped>\n",
       "    .dataframe tbody tr th:only-of-type {\n",
       "        vertical-align: middle;\n",
       "    }\n",
       "\n",
       "    .dataframe tbody tr th {\n",
       "        vertical-align: top;\n",
       "    }\n",
       "\n",
       "    .dataframe thead th {\n",
       "        text-align: right;\n",
       "    }\n",
       "</style>\n",
       "<table border=\"1\" class=\"dataframe\">\n",
       "  <thead>\n",
       "    <tr style=\"text-align: right;\">\n",
       "      <th></th>\n",
       "      <th>Признак</th>\n",
       "      <th>Кол-во NA</th>\n",
       "      <th>NA в процентах</th>\n",
       "    </tr>\n",
       "  </thead>\n",
       "  <tbody>\n",
       "    <tr>\n",
       "      <th>0</th>\n",
       "      <td>verified</td>\n",
       "      <td>0</td>\n",
       "      <td>0</td>\n",
       "    </tr>\n",
       "    <tr>\n",
       "      <th>1</th>\n",
       "      <td>reviewTime</td>\n",
       "      <td>0</td>\n",
       "      <td>0</td>\n",
       "    </tr>\n",
       "    <tr>\n",
       "      <th>2</th>\n",
       "      <td>from_today</td>\n",
       "      <td>0</td>\n",
       "      <td>0</td>\n",
       "    </tr>\n",
       "    <tr>\n",
       "      <th>3</th>\n",
       "      <td>week-day</td>\n",
       "      <td>0</td>\n",
       "      <td>0</td>\n",
       "    </tr>\n",
       "    <tr>\n",
       "      <th>4</th>\n",
       "      <td>season</td>\n",
       "      <td>0</td>\n",
       "      <td>0</td>\n",
       "    </tr>\n",
       "    <tr>\n",
       "      <th>5</th>\n",
       "      <td>asin</td>\n",
       "      <td>0</td>\n",
       "      <td>0</td>\n",
       "    </tr>\n",
       "    <tr>\n",
       "      <th>6</th>\n",
       "      <td>vote</td>\n",
       "      <td>0</td>\n",
       "      <td>0</td>\n",
       "    </tr>\n",
       "    <tr>\n",
       "      <th>7</th>\n",
       "      <td>style</td>\n",
       "      <td>551774</td>\n",
       "      <td>48</td>\n",
       "    </tr>\n",
       "    <tr>\n",
       "      <th>8</th>\n",
       "      <td>categories</td>\n",
       "      <td>0</td>\n",
       "      <td>0</td>\n",
       "    </tr>\n",
       "    <tr>\n",
       "      <th>9</th>\n",
       "      <td>numb_of_cat</td>\n",
       "      <td>0</td>\n",
       "      <td>0</td>\n",
       "    </tr>\n",
       "    <tr>\n",
       "      <th>10</th>\n",
       "      <td>main_cat</td>\n",
       "      <td>0</td>\n",
       "      <td>0</td>\n",
       "    </tr>\n",
       "    <tr>\n",
       "      <th>11</th>\n",
       "      <td>rank_in_main</td>\n",
       "      <td>49510</td>\n",
       "      <td>4</td>\n",
       "    </tr>\n",
       "    <tr>\n",
       "      <th>12</th>\n",
       "      <td>price</td>\n",
       "      <td>348139</td>\n",
       "      <td>30</td>\n",
       "    </tr>\n",
       "    <tr>\n",
       "      <th>13</th>\n",
       "      <td>desc_subj</td>\n",
       "      <td>0</td>\n",
       "      <td>0</td>\n",
       "    </tr>\n",
       "    <tr>\n",
       "      <th>14</th>\n",
       "      <td>userid</td>\n",
       "      <td>0</td>\n",
       "      <td>0</td>\n",
       "    </tr>\n",
       "    <tr>\n",
       "      <th>15</th>\n",
       "      <td>itemid</td>\n",
       "      <td>0</td>\n",
       "      <td>0</td>\n",
       "    </tr>\n",
       "    <tr>\n",
       "      <th>16</th>\n",
       "      <td>train/test</td>\n",
       "      <td>0</td>\n",
       "      <td>0</td>\n",
       "    </tr>\n",
       "  </tbody>\n",
       "</table>\n",
       "</div>"
      ],
      "text/plain": [
       "         Признак  Кол-во NA  NA в процентах\n",
       "0       verified          0               0\n",
       "1     reviewTime          0               0\n",
       "2     from_today          0               0\n",
       "3       week-day          0               0\n",
       "4         season          0               0\n",
       "5           asin          0               0\n",
       "6           vote          0               0\n",
       "7          style     551774              48\n",
       "8     categories          0               0\n",
       "9    numb_of_cat          0               0\n",
       "10      main_cat          0               0\n",
       "11  rank_in_main      49510               4\n",
       "12         price     348139              30\n",
       "13     desc_subj          0               0\n",
       "14        userid          0               0\n",
       "15        itemid          0               0\n",
       "16    train/test          0               0"
      ]
     },
     "execution_count": 49,
     "metadata": {},
     "output_type": "execute_result"
    }
   ],
   "source": [
    "# проверим количество пропусков в получившейся базе\n",
    "missings_df = pd.DataFrame(df.isna().sum()).reset_index()\n",
    "missings_df.rename(columns={'index': 'Признак', 0: 'Кол-во NA'}, inplace=True)\n",
    "missings_df['NA в процентах'] = missings_df['Кол-во NA'].apply(\n",
    "    lambda x: round(x*100/len(df)))\n",
    "missings_df"
   ]
  },
  {
   "cell_type": "markdown",
   "metadata": {
    "pycharm": {
     "name": "#%% md\n"
    }
   },
   "source": [
    "Видим, что много (30%) пропусков в признаке **price**. Заполним пропуски медианной ценой продукта в соответствии с\n",
    "основной категорией, в которой он представлен.\n",
    "\n",
    "Для начала посмотрим, что у нас с категориями. Нет ли дублирующих."
   ]
  },
  {
   "cell_type": "code",
   "execution_count": 50,
   "metadata": {
    "pycharm": {
     "name": "#%%\n"
    }
   },
   "outputs": [
    {
     "data": {
      "text/plain": [
       "array(['Grocery', 'Health & Personal Care', 'Office Products',\n",
       "       'Sports & Outdoors', 'Amazon Home', 'Toys & Games',\n",
       "       'Grocery & Gourmet Food', 'Industrial & Scientific', 'All Beauty',\n",
       "       'Tools & Home Improvement', 'Baby', 'Pet Supplies',\n",
       "       'Home Audio & Theater', 'Arts, Crafts & Sewing', 'Camera & Photo',\n",
       "       'Cell Phones & Accessories', 'Software', 'Musical Instruments'],\n",
       "      dtype=object)"
      ]
     },
     "execution_count": 50,
     "metadata": {},
     "output_type": "execute_result"
    }
   ],
   "source": [
    "df.main_cat.unique()"
   ]
  },
  {
   "cell_type": "code",
   "execution_count": 51,
   "metadata": {
    "pycharm": {
     "name": "#%%\n"
    }
   },
   "outputs": [],
   "source": [
    "# В \"основных категориях\" есть две дублирующие категории Grocery и Grocery & Gourmet Food. Переименуем вторую категорию\n",
    "# в просто Grocery\n",
    "for item in df.main_cat:\n",
    "    if item == 'Grocery & Gourmet Food':\n",
    "        item = 'Grocery'"
   ]
  },
  {
   "cell_type": "code",
   "execution_count": 52,
   "metadata": {
    "pycharm": {
     "name": "#%%\n"
    }
   },
   "outputs": [],
   "source": [
    "df_groupped = df.groupby(['main_cat'])['price'].median()"
   ]
  },
  {
   "cell_type": "code",
   "execution_count": 53,
   "metadata": {
    "pycharm": {
     "name": "#%%\n"
    }
   },
   "outputs": [
    {
     "data": {
      "text/plain": [
       "main_cat\n",
       "All Beauty                   12.63\n",
       "Amazon Home                  13.45\n",
       "Arts, Crafts & Sewing         9.95\n",
       "Baby                          8.49\n",
       "Camera & Photo                 NaN\n",
       "Cell Phones & Accessories      NaN\n",
       "Grocery                      16.99\n",
       "Grocery & Gourmet Food       13.95\n",
       "Health & Personal Care       15.53\n",
       "Home Audio & Theater           NaN\n",
       "Industrial & Scientific      20.99\n",
       "Musical Instruments            NaN\n",
       "Office Products              16.97\n",
       "Pet Supplies                 36.68\n",
       "Software                       NaN\n",
       "Sports & Outdoors             9.12\n",
       "Tools & Home Improvement     34.99\n",
       "Toys & Games                  9.17\n",
       "Name: price, dtype: float64"
      ]
     },
     "execution_count": 53,
     "metadata": {},
     "output_type": "execute_result"
    }
   ],
   "source": [
    "df_groupped"
   ]
  },
  {
   "cell_type": "markdown",
   "metadata": {
    "pycharm": {
     "name": "#%% md\n"
    }
   },
   "source": [
    "Есть пропуски в средней цене в нескольких категориях.Посмотрим, что за товары там представлены"
   ]
  },
  {
   "cell_type": "code",
   "execution_count": 57,
   "metadata": {
    "pycharm": {
     "name": "#%%\n"
    }
   },
   "outputs": [],
   "source": [
    "df[df.main_cat == 'Camera & Photo']\n",
    "# в этой категории представлен только один товар с asin B01E4GD3P4. Это солнцезащитный экран на лобовое стекло машины.\n",
    "# Товар сейчас отсутствует в продаже, но его аналог стоит 19.99. Заполним это значение в базе\n",
    "df_groupped.loc['Camera & Photo'] = 19.99"
   ]
  },
  {
   "cell_type": "code",
   "execution_count": 62,
   "metadata": {
    "pycharm": {
     "name": "#%%\n"
    }
   },
   "outputs": [],
   "source": [
    "df[df.main_cat == 'Cell Phones & Accessories']\n",
    "# В категории 'Cell Phones & Accessories' есть только зарядка для телефона.\n",
    "# Ее нет в продаже. Аналоги стоят около 9.99. Заполним этим значением табличку\n",
    "df_groupped.loc['Cell Phones & Accessories'] = 9.99"
   ]
  },
  {
   "cell_type": "code",
   "execution_count": 63,
   "metadata": {
    "pycharm": {
     "name": "#%%\n"
    }
   },
   "outputs": [],
   "source": [
    "df[df.main_cat == 'Home Audio & Theater']\n",
    "# в категории Home Audio & Theater есть только один товар - накладные ресницы\n",
    "# его цена отсутствует. В интернете нашел, что на Amazon она составляет 9.99. Заполним это\n",
    "df_groupped.loc['Home Audio & Theater'] = 9.99"
   ]
  },
  {
   "cell_type": "code",
   "execution_count": 65,
   "metadata": {
    "pycharm": {
     "name": "#%%\n"
    }
   },
   "outputs": [],
   "source": [
    "df[df.main_cat == 'Musical Instruments']\n",
    "# В категории 'Musical Instruments' есть только один товар - гитара стоимостью 83.14\n",
    "# заполним это значение\n",
    "df_groupped.loc['Musical Instruments'] = 9.99"
   ]
  },
  {
   "cell_type": "code",
   "execution_count": 67,
   "metadata": {
    "pycharm": {
     "name": "#%%\n"
    }
   },
   "outputs": [],
   "source": [
    "df[df.main_cat == 'Software']\n",
    "# В категории 'Software' есть только один товар - программа, которая стоит на сайте производителя 59.99\n",
    "# заполним\n",
    "df_groupped.loc['Software'] = 59.99"
   ]
  },
  {
   "cell_type": "code",
   "execution_count": 69,
   "metadata": {
    "pycharm": {
     "name": "#%%\n"
    }
   },
   "outputs": [
    {
     "name": "stderr",
     "output_type": "stream",
     "text": [
      "100%|██████████| 1143860/1143860 [02:38<00:00, 7197.60it/s]\n"
     ]
    }
   ],
   "source": [
    "# теперь заполним пропуски в цене в табличке полученными средними данными\n",
    "for i in tqdm(range(len(df))):\n",
    "    if str(df.price.iloc[i]) == 'nan':\n",
    "        cat = df.main_cat.iloc[i]\n",
    "        res = df_groupped.loc[cat]\n",
    "        df.price.iloc[i] = res"
   ]
  },
  {
   "cell_type": "code",
   "execution_count": 70,
   "metadata": {
    "pycharm": {
     "name": "#%%\n"
    }
   },
   "outputs": [
    {
     "data": {
      "text/plain": [
       "0"
      ]
     },
     "execution_count": 70,
     "metadata": {},
     "output_type": "execute_result"
    }
   ],
   "source": [
    "# проверим - не осталось ли пропусков\n",
    "df.price.isna().sum()\n",
    "# не осталось, ура!"
   ]
  },
  {
   "cell_type": "markdown",
   "metadata": {
    "pycharm": {
     "name": "#%% md\n"
    }
   },
   "source": [
    "У нас есть некоторое количество пропусков в категории **rank_in_main**. Есть разные варианты заполнения этих пропусков.\n",
    "Пока остановимся на том, что раз данных по рейтингу этих товаров нет - значит рейтинг 0. (Потом можно будет попробовать\n",
    "заменить эти данные на средний рейтинг по категории)."
   ]
  },
  {
   "cell_type": "code",
   "execution_count": 76,
   "metadata": {
    "pycharm": {
     "name": "#%%\n"
    }
   },
   "outputs": [
    {
     "name": "stderr",
     "output_type": "stream",
     "text": [
      "100%|██████████| 1143860/1143860 [00:33<00:00, 34261.46it/s]\n"
     ]
    }
   ],
   "source": [
    "# чтобы было потом проще искать строки, в которых мы заполнили rank нулевым значением, введем еще одну\n",
    "# колонку - rank_na. 1 - если rank был пропущен\n",
    "df['rank_na'] = 0\n",
    "for i in tqdm(range(len(df))):\n",
    "    if str(df.rank_in_main.iloc[i]) == 'nan':\n",
    "        df.rank_na.iloc[i] = 1"
   ]
  },
  {
   "cell_type": "code",
   "execution_count": 80,
   "metadata": {
    "pycharm": {
     "name": "#%%\n"
    }
   },
   "outputs": [],
   "source": [
    "df.rank_in_main.fillna(0, inplace=True)"
   ]
  },
  {
   "cell_type": "markdown",
   "metadata": {
    "pycharm": {
     "name": "#%% md\n"
    }
   },
   "source": [
    "К сожалению, не придумал никакого способа заполнить недостающую информацию в признаке **style**. Так как пропущено\n",
    "почти половина значений признака - уберем его вовсе."
   ]
  },
  {
   "cell_type": "code",
   "execution_count": 82,
   "metadata": {
    "pycharm": {
     "name": "#%%\n"
    }
   },
   "outputs": [],
   "source": [
    "# df.drop(['style'], axis = 1, inplace = True)"
   ]
  },
  {
   "cell_type": "code",
   "execution_count": 81,
   "metadata": {
    "pycharm": {
     "name": "#%%\n"
    }
   },
   "outputs": [
    {
     "name": "stdout",
     "output_type": "stream",
     "text": [
      "<class 'pandas.core.frame.DataFrame'>\n",
      "Int64Index: 1143860 entries, 0 to 285964\n",
      "Data columns (total 17 columns):\n",
      " #   Column        Non-Null Count    Dtype         \n",
      "---  ------        --------------    -----         \n",
      " 0   verified      1143860 non-null  bool          \n",
      " 1   reviewTime    1143860 non-null  datetime64[ns]\n",
      " 2   from_today    1143860 non-null  int64         \n",
      " 3   week-day      1143860 non-null  object        \n",
      " 4   season        1143860 non-null  object        \n",
      " 5   asin          1143860 non-null  object        \n",
      " 6   vote          1143860 non-null  object        \n",
      " 7   categories    1143860 non-null  object        \n",
      " 8   numb_of_cat   1143860 non-null  float64       \n",
      " 9   main_cat      1143860 non-null  object        \n",
      " 10  rank_in_main  1143860 non-null  float64       \n",
      " 11  price         1143860 non-null  float64       \n",
      " 12  desc_subj     1143860 non-null  float64       \n",
      " 13  userid        1143860 non-null  int64         \n",
      " 14  itemid        1143860 non-null  int64         \n",
      " 15  train/test    1143860 non-null  int64         \n",
      " 16  rank_na       1143860 non-null  int64         \n",
      "dtypes: bool(1), datetime64[ns](1), float64(4), int64(5), object(6)\n",
      "memory usage: 181.7+ MB\n"
     ]
    }
   ],
   "source": [
    "# Итак, посмотрим в очередной раз что получилось\n",
    "df.info()"
   ]
  },
  {
   "cell_type": "markdown",
   "metadata": {
    "pycharm": {
     "name": "#%% md\n"
    }
   },
   "source": [
    "Признак **verified** у нас булевый. Переведем его в числовой, так как модель все равно работает только\n",
    "с числовыми признаками. Соответственно - True = 1, False = 0"
   ]
  },
  {
   "cell_type": "code",
   "execution_count": 104,
   "metadata": {
    "pycharm": {
     "name": "#%%\n"
    }
   },
   "outputs": [
    {
     "name": "stderr",
     "output_type": "stream",
     "text": [
      "100%|██████████| 1143860/1143860 [1:00:07<00:00, 317.08it/s]\n"
     ]
    }
   ],
   "source": [
    "for i in tqdm(range(len(df.verified))):\n",
    "    if df.verified.iloc[i] == True:\n",
    "        df.verified.iloc[i] = 1\n",
    "    else:\n",
    "        df.verified.iloc[i] = 0"
   ]
  },
  {
   "cell_type": "code",
   "execution_count": 133,
   "metadata": {
    "pycharm": {
     "name": "#%%\n"
    }
   },
   "outputs": [],
   "source": [
    "df.vote = df.vote.apply(lambda x: int(x.replace(',', ''))\n",
    "                        if type(x) == str else int(x))"
   ]
  },
  {
   "cell_type": "code",
   "execution_count": 134,
   "metadata": {
    "pycharm": {
     "name": "#%%\n"
    }
   },
   "outputs": [
    {
     "name": "stdout",
     "output_type": "stream",
     "text": [
      "<class 'pandas.core.frame.DataFrame'>\n",
      "Int64Index: 1143860 entries, 0 to 285964\n",
      "Data columns (total 17 columns):\n",
      " #   Column        Non-Null Count    Dtype         \n",
      "---  ------        --------------    -----         \n",
      " 0   verified      1143860 non-null  object        \n",
      " 1   reviewTime    1143860 non-null  datetime64[ns]\n",
      " 2   from_today    1143860 non-null  int64         \n",
      " 3   week-day      1143860 non-null  object        \n",
      " 4   season        1143860 non-null  object        \n",
      " 5   asin          1143860 non-null  object        \n",
      " 6   vote          1143860 non-null  int64         \n",
      " 7   categories    1143860 non-null  object        \n",
      " 8   numb_of_cat   1143860 non-null  float64       \n",
      " 9   main_cat      1143860 non-null  object        \n",
      " 10  rank_in_main  1143860 non-null  float64       \n",
      " 11  price         1143860 non-null  float64       \n",
      " 12  desc_subj     1143860 non-null  float64       \n",
      " 13  userid        1143860 non-null  int64         \n",
      " 14  itemid        1143860 non-null  int64         \n",
      " 15  train/test    1143860 non-null  int64         \n",
      " 16  rank_na       1143860 non-null  int64         \n",
      "dtypes: datetime64[ns](1), float64(4), int64(6), object(6)\n",
      "memory usage: 189.3+ MB\n"
     ]
    }
   ],
   "source": [
    "df.info()"
   ]
  },
  {
   "cell_type": "markdown",
   "metadata": {
    "pycharm": {
     "name": "#%% md\n"
    }
   },
   "source": [
    "Итак, добавлены признаки:\n",
    "- **from_today** как давно был написан отзыв (дни от текущей даты (26 мая 2021))\n",
    "- **week-day** день недели написания отзыва\n",
    "- **season** время года написания отзыва\n",
    "- **categories** категории, в которых представлен товар\n",
    "- **numb_of_cat** количество категорий, в которых представлен товар\n",
    "- **main_cat** основная категория товара\n",
    "- **rank_in_main** рейтинг в основной категории\n",
    "- **price** цена товара\n",
    "- **desc_subj** оценка \"объективности\" описания товара\n",
    "\n",
    "признак **vote** переведен из строк в числа\n",
    "\n",
    "Пропуски заполнены\n",
    "\n",
    "Дубликаты не убираю - предварительная работа с моделью показала, что при этом ухудшаeтся точность предсказаний\n",
    "\n",
    "Теперь разделим базы вновь на тренировочную и тестовую. В тренировочную базу вернем признак **rating**,\n",
    "в тестовую базу - признак **Id**"
   ]
  },
  {
   "cell_type": "code",
   "execution_count": 135,
   "metadata": {
    "pycharm": {
     "name": "#%%\n"
    }
   },
   "outputs": [],
   "source": [
    "# разделяем базы\n",
    "train_new = df[df['train/test'] == 1].copy()\n",
    "test_new = df[df['train/test'] == 0].copy()"
   ]
  },
  {
   "cell_type": "code",
   "execution_count": 136,
   "metadata": {
    "pycharm": {
     "name": "#%%\n"
    }
   },
   "outputs": [
    {
     "name": "stdout",
     "output_type": "stream",
     "text": [
      "<class 'pandas.core.frame.DataFrame'>\n",
      "Int64Index: 857895 entries, 0 to 857894\n",
      "Data columns (total 17 columns):\n",
      " #   Column        Non-Null Count   Dtype         \n",
      "---  ------        --------------   -----         \n",
      " 0   verified      857895 non-null  object        \n",
      " 1   reviewTime    857895 non-null  datetime64[ns]\n",
      " 2   from_today    857895 non-null  int64         \n",
      " 3   week-day      857895 non-null  object        \n",
      " 4   season        857895 non-null  object        \n",
      " 5   asin          857895 non-null  object        \n",
      " 6   vote          857895 non-null  int64         \n",
      " 7   categories    857895 non-null  object        \n",
      " 8   numb_of_cat   857895 non-null  float64       \n",
      " 9   main_cat      857895 non-null  object        \n",
      " 10  rank_in_main  857895 non-null  float64       \n",
      " 11  price         857895 non-null  float64       \n",
      " 12  desc_subj     857895 non-null  float64       \n",
      " 13  userid        857895 non-null  int64         \n",
      " 14  itemid        857895 non-null  int64         \n",
      " 15  train/test    857895 non-null  int64         \n",
      " 16  rank_na       857895 non-null  int64         \n",
      "dtypes: datetime64[ns](1), float64(4), int64(6), object(6)\n",
      "memory usage: 117.8+ MB\n"
     ]
    }
   ],
   "source": [
    "train_new.info()"
   ]
  },
  {
   "cell_type": "code",
   "execution_count": 137,
   "metadata": {
    "pycharm": {
     "name": "#%%\n"
    }
   },
   "outputs": [
    {
     "name": "stdout",
     "output_type": "stream",
     "text": [
      "<class 'pandas.core.frame.DataFrame'>\n",
      "Int64Index: 285965 entries, 0 to 285964\n",
      "Data columns (total 17 columns):\n",
      " #   Column        Non-Null Count   Dtype         \n",
      "---  ------        --------------   -----         \n",
      " 0   verified      285965 non-null  object        \n",
      " 1   reviewTime    285965 non-null  datetime64[ns]\n",
      " 2   from_today    285965 non-null  int64         \n",
      " 3   week-day      285965 non-null  object        \n",
      " 4   season        285965 non-null  object        \n",
      " 5   asin          285965 non-null  object        \n",
      " 6   vote          285965 non-null  int64         \n",
      " 7   categories    285965 non-null  object        \n",
      " 8   numb_of_cat   285965 non-null  float64       \n",
      " 9   main_cat      285965 non-null  object        \n",
      " 10  rank_in_main  285965 non-null  float64       \n",
      " 11  price         285965 non-null  float64       \n",
      " 12  desc_subj     285965 non-null  float64       \n",
      " 13  userid        285965 non-null  int64         \n",
      " 14  itemid        285965 non-null  int64         \n",
      " 15  train/test    285965 non-null  int64         \n",
      " 16  rank_na       285965 non-null  int64         \n",
      "dtypes: datetime64[ns](1), float64(4), int64(6), object(6)\n",
      "memory usage: 39.3+ MB\n"
     ]
    }
   ],
   "source": [
    "test_new.info()"
   ]
  },
  {
   "cell_type": "code",
   "execution_count": 138,
   "metadata": {
    "pycharm": {
     "name": "#%%\n"
    }
   },
   "outputs": [],
   "source": [
    "# добавляем необходимые колонки\n",
    "train_new['rating'] = train['rating']\n",
    "test_new['Id'] = test['Id']"
   ]
  },
  {
   "cell_type": "markdown",
   "metadata": {
    "pycharm": {
     "name": "#%% md\n"
    }
   },
   "source": [
    "### Сделаем небольшой анализ признаков\n",
    "\n",
    "В этой части я хочу посмотреть как покупки распределялись по дням недели и временам года, насколько\n",
    "существенным было влияние объективности описания товара и количество людей, проголосовавших за отзыв\n",
    " на совершение покупки, товары в какой категории составили большинство среди совершенных покупок.\n",
    "\n",
    "\n",
    "##### Посмотрим как покупки совершались по дням недели"
   ]
  },
  {
   "cell_type": "code",
   "execution_count": 139,
   "metadata": {
    "pycharm": {
     "name": "#%%\n"
    }
   },
   "outputs": [
    {
     "data": {
      "text/plain": [
       "<function matplotlib.pyplot.show(close=None, block=None)>"
      ]
     },
     "execution_count": 139,
     "metadata": {},
     "output_type": "execute_result"
    },
    {
     "data": {
      "image/png": "[encoded data removed]",
      "text/plain": [
       "<Figure size 432x432 with 1 Axes>"
      ]
     },
     "metadata": {},
     "output_type": "display_data"
    }
   ],
   "source": [
    "fig, (g1) = plt.subplots(1, 1, figsize=(6, 6))\n",
    "fig.suptitle('Распределение покупок по дням недели', fontsize=18)\n",
    "\n",
    "g1.hist(train_new[train_new.rating == 1]['week-day'], bins=20, histtype='bar', align='mid',\n",
    "        rwidth=0.8, color='lightsteelblue')  # гистограмма\n",
    "plt.show"
   ]
  },
  {
   "cell_type": "markdown",
   "metadata": {
    "pycharm": {
     "name": "#%% md\n"
    }
   },
   "source": [
    "Видим, что есть некоторые изменения в количестве покупок (на самом деле в количестве оставленных отзывов!) в зависимости\n",
    "от дня недели. Небольшое падение активности в субботу и воскресенье, максимальная активность - понедельник, но\n",
    "колебания не слишком существенные\n",
    "\n",
    "##### Посмотрим как покупки совершались по временам года"
   ]
  },
  {
   "cell_type": "code",
   "execution_count": 140,
   "metadata": {
    "pycharm": {
     "name": "#%%\n"
    }
   },
   "outputs": [
    {
     "data": {
      "text/plain": [
       "<function matplotlib.pyplot.show(close=None, block=None)>"
      ]
     },
     "execution_count": 140,
     "metadata": {},
     "output_type": "execute_result"
    },
    {
     "data": {
      "image/png": "[encoded data removed]",
      "text/plain": [
       "<Figure size 432x432 with 1 Axes>"
      ]
     },
     "metadata": {},
     "output_type": "display_data"
    }
   ],
   "source": [
    "fig, (g1) = plt.subplots(1, 1, figsize=(6, 6))\n",
    "fig.suptitle('Распределение покупок по временам года', fontsize=18)\n",
    "\n",
    "g1.hist(train_new[train_new.rating == 1]['season'], bins=20, histtype='bar', align='mid',\n",
    "        rwidth=0.8, color='lightsteelblue')  # гистограмма\n",
    "plt.show"
   ]
  },
  {
   "cell_type": "markdown",
   "metadata": {},
   "source": [
    "Есть небольшие сезонные колебания активности. Наименьшая активность - осенью, максимальная активность зимой и весной.\n",
    "\n",
    "##### Посмотрим распределение давности оставленных отзывов"
   ]
  },
  {
   "cell_type": "code",
   "execution_count": 164,
   "metadata": {
    "pycharm": {
     "name": "#%%\n"
    }
   },
   "outputs": [
    {
     "data": {
      "text/plain": [
       "<function matplotlib.pyplot.show(close=None, block=None)>"
      ]
     },
     "execution_count": 164,
     "metadata": {},
     "output_type": "execute_result"
    },
    {
     "data": {
      "image/png": "[encoded data removed]",
      "text/plain": [
       "<Figure size 432x432 with 1 Axes>"
      ]
     },
     "metadata": {},
     "output_type": "display_data"
    }
   ],
   "source": [
    "fig, (g1) = plt.subplots(1, 1, figsize=(6, 6))\n",
    "fig.suptitle('Распределение давности оставленных отзывов', fontsize=18)\n",
    "\n",
    "g1.hist(train_new['from_today'], bins=20, histtype='bar', align='mid',\n",
    "        rwidth=0.8, color='lightsteelblue')  # гистограмма\n",
    "plt.show"
   ]
  },
  {
   "cell_type": "markdown",
   "metadata": {},
   "source": [
    "Видим, что активность покупателей в последнее время существенно снижается. Она была максимальной 5-6 лет назад\n",
    "и после этого начала ощутимо уменьшаться. Тенденция к падению интереса сохраняется и руководству магазина нужно бы\n",
    "обратить на это внимание\n",
    "\n",
    "##### Посмотрим как влияла оценка субъективности описания товара на покупку"
   ]
  },
  {
   "cell_type": "code",
   "execution_count": 141,
   "metadata": {
    "pycharm": {
     "name": "#%%\n"
    }
   },
   "outputs": [
    {
     "data": {
      "text/plain": [
       "<AxesSubplot:title={'center':'Решения о покупке с объективностью описания'}, xlabel='rating', ylabel='desc_subj'>"
      ]
     },
     "execution_count": 141,
     "metadata": {},
     "output_type": "execute_result"
    },
    {
     "data": {
      "image/png": "[encoded data removed]",
      "text/plain": [
       "<Figure size 648x360 with 1 Axes>"
      ]
     },
     "metadata": {},
     "output_type": "display_data"
    }
   ],
   "source": [
    "sns.set(style=\"white\")\n",
    "plt.figure(figsize=(9, 5))\n",
    "plt.title('Решения о покупке с объективностью описания', fontsize=18)\n",
    "sns.boxplot(x=\"rating\", y='desc_subj', data=train_new, palette='rainbow')"
   ]
  },
  {
   "cell_type": "markdown",
   "metadata": {
    "pycharm": {
     "name": "#%% md\n"
    }
   },
   "source": [
    "Видим, что очевидной сильной зависимости между описанием товара и его покупкой (или отказом от покупки) нет, но все равно\n",
    "оставлю этот признак, так как реальная связь может быть не настолько очевидной\n",
    "\n",
    "##### Посмотрим как влияло количество людей, проголосовавших за отзыв, на покупку"
   ]
  },
  {
   "cell_type": "code",
   "execution_count": 142,
   "metadata": {
    "pycharm": {
     "name": "#%%\n"
    }
   },
   "outputs": [
    {
     "data": {
      "text/plain": [
       "<AxesSubplot:title={'center':'Решения о покупке с количеством проголосовавших за отзыв'}, xlabel='rating', ylabel='vote'>"
      ]
     },
     "execution_count": 142,
     "metadata": {},
     "output_type": "execute_result"
    },
    {
     "data": {
      "image/png": "[encoded data removed]",
      "text/plain": [
       "<Figure size 648x360 with 1 Axes>"
      ]
     },
     "metadata": {},
     "output_type": "display_data"
    }
   ],
   "source": [
    "sns.set(style=\"white\")\n",
    "plt.figure(figsize=(9, 5))\n",
    "plt.title('Решения о покупке с количеством проголосовавших за отзыв', fontsize=18)\n",
    "sns.boxplot(x=\"rating\", y='vote', data=train_new, palette='rainbow')"
   ]
  },
  {
   "cell_type": "markdown",
   "metadata": {
    "pycharm": {
     "name": "#%% md\n"
    }
   },
   "source": [
    "Вот тут очевидно, что люди, совершившие покупку выбирали товар, ориентируясь на количество голосов,\n",
    "отданых за отзыв о товаре.\n",
    "\n",
    "##### Посмотрим насколько важной была верифицированность написавшего отзыв покупателя"
   ]
  },
  {
   "cell_type": "code",
   "execution_count": 146,
   "metadata": {
    "pycharm": {
     "name": "#%%\n"
    }
   },
   "outputs": [
    {
     "data": {
      "text/plain": [
       "<function matplotlib.pyplot.show(close=None, block=None)>"
      ]
     },
     "execution_count": 146,
     "metadata": {},
     "output_type": "execute_result"
    },
    {
     "data": {
      "image/png": "[encoded data removed]",
      "text/plain": [
       "<Figure size 864x432 with 2 Axes>"
      ]
     },
     "metadata": {},
     "output_type": "display_data"
    }
   ],
   "source": [
    "fig, (g1, g2) = plt.subplots(1, 2, figsize=(12, 6))\n",
    "fig.suptitle('Верифицированность пользователя, оставившего отзыв', fontsize=18)\n",
    "\n",
    "# совершили покупку\n",
    "g1.hist(train_new[train_new.rating == 1]['verified'], bins=20, histtype='bar', align='mid',\n",
    "        rwidth=0.8, color='lightsteelblue')\n",
    "\n",
    "# не совершили покупку\n",
    "g2.hist(train_new[train_new.rating == 0]['verified'], bins=20, histtype='bar', align='mid',\n",
    "        rwidth=0.8, color='lightsteelblue')\n",
    "# plt.figtext(0.5, 0, col, fontsize=16)\n",
    "plt.show"
   ]
  },
  {
   "cell_type": "markdown",
   "metadata": {
    "pycharm": {
     "name": "#%% md\n"
    }
   },
   "source": [
    "Видим некоторое преобладание неверифицированных отзывов среди отказов от покупки товара\n",
    "\n",
    "##### Посмотрим в каких основных категориях было совершено больше покупок и было больше отказов от покупки"
   ]
  },
  {
   "cell_type": "code",
   "execution_count": 149,
   "metadata": {
    "pycharm": {
     "name": "#%%\n"
    }
   },
   "outputs": [
    {
     "data": {
      "text/plain": [
       "Grocery                      688141\n",
       "Health & Personal Care        29179\n",
       "Amazon Home                    6182\n",
       "All Beauty                     1239\n",
       "Sports & Outdoors               967\n",
       "Industrial & Scientific         796\n",
       "Grocery & Gourmet Food          768\n",
       "Office Products                 542\n",
       "Toys & Games                    272\n",
       "Pet Supplies                     95\n",
       "Tools & Home Improvement         41\n",
       "Baby                             31\n",
       "Arts, Crafts & Sewing            16\n",
       "Home Audio & Theater              8\n",
       "Camera & Photo                    7\n",
       "Musical Instruments               3\n",
       "Cell Phones & Accessories         2\n",
       "Software                          1\n",
       "Name: main_cat, dtype: int64"
      ]
     },
     "execution_count": 149,
     "metadata": {},
     "output_type": "execute_result"
    }
   ],
   "source": [
    "train_new[train_new.rating == 1].main_cat.value_counts(ascending=False)"
   ]
  },
  {
   "cell_type": "code",
   "execution_count": 150,
   "metadata": {
    "pycharm": {
     "name": "#%%\n"
    }
   },
   "outputs": [
    {
     "data": {
      "text/plain": [
       "Grocery                     122415\n",
       "Health & Personal Care        5158\n",
       "Amazon Home                   1142\n",
       "All Beauty                     234\n",
       "Grocery & Gourmet Food         197\n",
       "Sports & Outdoors              143\n",
       "Industrial & Scientific        107\n",
       "Office Products                100\n",
       "Toys & Games                    44\n",
       "Pet Supplies                    32\n",
       "Baby                            14\n",
       "Tools & Home Improvement        12\n",
       "Arts, Crafts & Sewing            3\n",
       "Software                         2\n",
       "Home Audio & Theater             1\n",
       "Camera & Photo                   1\n",
       "Name: main_cat, dtype: int64"
      ]
     },
     "execution_count": 150,
     "metadata": {},
     "output_type": "execute_result"
    }
   ],
   "source": [
    "train_new[train_new.rating == 0].main_cat.value_counts(ascending=False)"
   ]
  },
  {
   "cell_type": "markdown",
   "metadata": {
    "pycharm": {
     "name": "#%% md\n"
    }
   },
   "source": [
    "Видим, что \"популярность\" категорий среди совершенных покупок и отказов примерно одинакова, наибольшее количество \"операций\"\n",
    "совершалось в категориях Grocery, Health & Personal Care и Amazon Home\n",
    "\n",
    "##### Посмотрим влияет ли рейтинг в категории на решение о покупке"
   ]
  },
  {
   "cell_type": "code",
   "execution_count": 151,
   "metadata": {
    "pycharm": {
     "name": "#%%\n"
    }
   },
   "outputs": [
    {
     "data": {
      "text/plain": [
       "<AxesSubplot:title={'center':'Решения о покупке с рейтингом в основной категории'}, xlabel='rating', ylabel='rank_in_main'>"
      ]
     },
     "execution_count": 151,
     "metadata": {},
     "output_type": "execute_result"
    },
    {
     "data": {
      "image/png": "[encoded data removed]",
      "text/plain": [
       "<Figure size 648x360 with 1 Axes>"
      ]
     },
     "metadata": {},
     "output_type": "display_data"
    }
   ],
   "source": [
    "sns.set(style=\"white\")\n",
    "plt.figure(figsize=(9, 5))\n",
    "plt.title('Решения о покупке с рейтингом в основной категории', fontsize=18)\n",
    "sns.boxplot(x=\"rating\", y='rank_in_main', data=train_new, palette='rainbow')"
   ]
  },
  {
   "cell_type": "markdown",
   "metadata": {
    "pycharm": {
     "name": "#%% md\n"
    }
   },
   "source": [
    "Разница заметна, хоть и не слишком существенна. Самое забавное - среди отказов от покупки\n",
    "чуть больше товаров с более высоким рейтингом.\n",
    "\n",
    "##### Посмотрим влияет ли цена на решение о покупке"
   ]
  },
  {
   "cell_type": "code",
   "execution_count": 152,
   "metadata": {
    "pycharm": {
     "name": "#%%\n"
    }
   },
   "outputs": [
    {
     "data": {
      "text/plain": [
       "<AxesSubplot:title={'center':'Решения о покупке с рейтингом в основной категории'}, xlabel='rating', ylabel='price'>"
      ]
     },
     "execution_count": 152,
     "metadata": {},
     "output_type": "execute_result"
    },
    {
     "data": {
      "image/png": "[encoded data removed]",
      "text/plain": [
       "<Figure size 648x360 with 1 Axes>"
      ]
     },
     "metadata": {},
     "output_type": "display_data"
    }
   ],
   "source": [
    "sns.set(style=\"white\")\n",
    "plt.figure(figsize=(9, 5))\n",
    "plt.title('Решения о покупке с рейтингом в основной категории', fontsize=18)\n",
    "sns.boxplot(x=\"rating\", y='price', data=train_new, palette='rainbow')"
   ]
  },
  {
   "cell_type": "markdown",
   "metadata": {},
   "source": [
    "Показатели примерно одинаковы\n",
    "\n",
    "##### Посмотрим влияет ли цена на рейтинг товара"
   ]
  },
  {
   "cell_type": "code",
   "execution_count": 169,
   "metadata": {
    "pycharm": {
     "name": "#%%\n"
    }
   },
   "outputs": [
    {
     "data": {
      "text/plain": [
       "<AxesSubplot:title={'center':'Зависимость между ценой и рейтингом в основной категории (цена до 100)'}, xlabel='price', ylabel='rank_in_main'>"
      ]
     },
     "execution_count": 169,
     "metadata": {},
     "output_type": "execute_result"
    },
    {
     "data": {
      "image/png": "[encoded data removed]",
      "text/plain": [
       "<Figure size 648x360 with 1 Axes>"
      ]
     },
     "metadata": {},
     "output_type": "display_data"
    }
   ],
   "source": [
    "sns.set(style=\"white\")\n",
    "plt.figure(figsize=(9, 5))\n",
    "plt.title('Зависимость между ценой и рейтингом в основной категории (цена до 100)', fontsize=18)\n",
    "# ограничиваем диапазоп значений предиктора для улучшения визуализации (если нужно)\n",
    "data1 = train_new[train_new['price'] < 100]\n",
    "sns.regplot('price', \"rank_in_main\", data=data1,\n",
    "            scatter_kws={'s': 25, \"alpha\": 0.5})"
   ]
  },
  {
   "cell_type": "markdown",
   "metadata": {
    "pycharm": {
     "name": "#%% md\n"
    }
   },
   "source": [
    "График показывает, что существенного влияния цена на рейтинг товара в его основной категории не оказывает.\n",
    "Данные распределены достаточно плотно и равномерно, хотя и наблюдается некоторое снижение рейтинга при увеличении цены.\n",
    "\n",
    "### Нормализация данных"
   ]
  },
  {
   "cell_type": "code",
   "execution_count": 155,
   "metadata": {
    "pycharm": {
     "name": "#%%\n"
    }
   },
   "outputs": [],
   "source": [
    "scaler = preprocessing.StandardScaler()"
   ]
  },
  {
   "cell_type": "code",
   "execution_count": 158,
   "metadata": {
    "pycharm": {
     "name": "#%%\n"
    }
   },
   "outputs": [],
   "source": [
    "# отберем признаки для нормализации (оценку субъективности отзыва не буду нормализовать - она по определению\n",
    "# в пределах от 0 до 1\n",
    "train_for_scaler = train_new[['from_today',\n",
    "                              'vote', 'numb_of_cat', 'rank_in_main', 'price']]"
   ]
  },
  {
   "cell_type": "code",
   "execution_count": 159,
   "metadata": {
    "pycharm": {
     "name": "#%%\n"
    }
   },
   "outputs": [],
   "source": [
    "train_for_scaler = scaler.fit_transform(train_for_scaler)"
   ]
  },
  {
   "cell_type": "code",
   "execution_count": 162,
   "metadata": {
    "pycharm": {
     "name": "#%%\n"
    }
   },
   "outputs": [],
   "source": [
    "train_scaled = pd.DataFrame(train_for_scaler, columns=[\n",
    "                            'from_today', 'vote', 'numb_of_cat', 'rank_in_main', 'price'])"
   ]
  },
  {
   "cell_type": "code",
   "execution_count": 163,
   "metadata": {
    "pycharm": {
     "name": "#%%\n"
    }
   },
   "outputs": [
    {
     "data": {
      "text/html": [
       "<div>\n",
       "<style scoped>\n",
       "    .dataframe tbody tr th:only-of-type {\n",
       "        vertical-align: middle;\n",
       "    }\n",
       "\n",
       "    .dataframe tbody tr th {\n",
       "        vertical-align: top;\n",
       "    }\n",
       "\n",
       "    .dataframe thead th {\n",
       "        text-align: right;\n",
       "    }\n",
       "</style>\n",
       "<table border=\"1\" class=\"dataframe\">\n",
       "  <thead>\n",
       "    <tr style=\"text-align: right;\">\n",
       "      <th></th>\n",
       "      <th>from_today</th>\n",
       "      <th>vote</th>\n",
       "      <th>numb_of_cat</th>\n",
       "      <th>rank_in_main</th>\n",
       "      <th>price</th>\n",
       "    </tr>\n",
       "  </thead>\n",
       "  <tbody>\n",
       "    <tr>\n",
       "      <th>0</th>\n",
       "      <td>0.109837</td>\n",
       "      <td>0.00000</td>\n",
       "      <td>0.222222</td>\n",
       "      <td>0.019794</td>\n",
       "      <td>0.009950</td>\n",
       "    </tr>\n",
       "    <tr>\n",
       "      <th>1</th>\n",
       "      <td>0.142577</td>\n",
       "      <td>0.00000</td>\n",
       "      <td>0.222222</td>\n",
       "      <td>0.005598</td>\n",
       "      <td>0.018499</td>\n",
       "    </tr>\n",
       "    <tr>\n",
       "      <th>2</th>\n",
       "      <td>0.124925</td>\n",
       "      <td>0.01722</td>\n",
       "      <td>0.222222</td>\n",
       "      <td>0.000000</td>\n",
       "      <td>0.016997</td>\n",
       "    </tr>\n",
       "    <tr>\n",
       "      <th>3</th>\n",
       "      <td>0.279572</td>\n",
       "      <td>0.00000</td>\n",
       "      <td>0.222222</td>\n",
       "      <td>0.169115</td>\n",
       "      <td>0.044985</td>\n",
       "    </tr>\n",
       "    <tr>\n",
       "      <th>4</th>\n",
       "      <td>0.112855</td>\n",
       "      <td>0.00000</td>\n",
       "      <td>0.222222</td>\n",
       "      <td>0.061762</td>\n",
       "      <td>0.016997</td>\n",
       "    </tr>\n",
       "    <tr>\n",
       "      <th>...</th>\n",
       "      <td>...</td>\n",
       "      <td>...</td>\n",
       "      <td>...</td>\n",
       "      <td>...</td>\n",
       "      <td>...</td>\n",
       "    </tr>\n",
       "    <tr>\n",
       "      <th>857890</th>\n",
       "      <td>0.303108</td>\n",
       "      <td>0.00000</td>\n",
       "      <td>0.111111</td>\n",
       "      <td>0.026339</td>\n",
       "      <td>0.022182</td>\n",
       "    </tr>\n",
       "    <tr>\n",
       "      <th>857891</th>\n",
       "      <td>0.154496</td>\n",
       "      <td>0.00000</td>\n",
       "      <td>0.333333</td>\n",
       "      <td>0.720370</td>\n",
       "      <td>0.016997</td>\n",
       "    </tr>\n",
       "    <tr>\n",
       "      <th>857892</th>\n",
       "      <td>0.111798</td>\n",
       "      <td>0.00000</td>\n",
       "      <td>0.222222</td>\n",
       "      <td>0.014631</td>\n",
       "      <td>0.022463</td>\n",
       "    </tr>\n",
       "    <tr>\n",
       "      <th>857893</th>\n",
       "      <td>0.160833</td>\n",
       "      <td>0.00000</td>\n",
       "      <td>0.222222</td>\n",
       "      <td>0.000018</td>\n",
       "      <td>0.013674</td>\n",
       "    </tr>\n",
       "    <tr>\n",
       "      <th>857894</th>\n",
       "      <td>0.064122</td>\n",
       "      <td>0.00000</td>\n",
       "      <td>0.222222</td>\n",
       "      <td>0.006024</td>\n",
       "      <td>0.023464</td>\n",
       "    </tr>\n",
       "  </tbody>\n",
       "</table>\n",
       "<p>857895 rows × 5 columns</p>\n",
       "</div>"
      ],
      "text/plain": [
       "        from_today     vote  numb_of_cat  rank_in_main     price\n",
       "0         0.109837  0.00000     0.222222      0.019794  0.009950\n",
       "1         0.142577  0.00000     0.222222      0.005598  0.018499\n",
       "2         0.124925  0.01722     0.222222      0.000000  0.016997\n",
       "3         0.279572  0.00000     0.222222      0.169115  0.044985\n",
       "4         0.112855  0.00000     0.222222      0.061762  0.016997\n",
       "...            ...      ...          ...           ...       ...\n",
       "857890    0.303108  0.00000     0.111111      0.026339  0.022182\n",
       "857891    0.154496  0.00000     0.333333      0.720370  0.016997\n",
       "857892    0.111798  0.00000     0.222222      0.014631  0.022463\n",
       "857893    0.160833  0.00000     0.222222      0.000018  0.013674\n",
       "857894    0.064122  0.00000     0.222222      0.006024  0.023464\n",
       "\n",
       "[857895 rows x 5 columns]"
      ]
     },
     "execution_count": 163,
     "metadata": {},
     "output_type": "execute_result"
    }
   ],
   "source": [
    "train_scaled"
   ]
  },
  {
   "cell_type": "markdown",
   "metadata": {
    "pycharm": {
     "name": "#%% md\n"
    }
   },
   "source": [
    "Присоединим к этим нормализованным данным **userid**, **itemid**, **rating**, **verified**, **desc_subj** и преобразованные\n",
    "в dummies данные о днях недели, сезонах и основных категориях\n",
    "\n",
    "Для начала получим dummies"
   ]
  },
  {
   "cell_type": "code",
   "execution_count": 172,
   "metadata": {
    "pycharm": {
     "name": "#%%\n"
    }
   },
   "outputs": [],
   "source": [
    "train_dummies = pd.get_dummies(train_new[['week-day', 'season', 'main_cat']])"
   ]
  },
  {
   "cell_type": "code",
   "execution_count": 173,
   "metadata": {
    "pycharm": {
     "name": "#%%\n"
    }
   },
   "outputs": [
    {
     "data": {
      "text/html": [
       "<div>\n",
       "<style scoped>\n",
       "    .dataframe tbody tr th:only-of-type {\n",
       "        vertical-align: middle;\n",
       "    }\n",
       "\n",
       "    .dataframe tbody tr th {\n",
       "        vertical-align: top;\n",
       "    }\n",
       "\n",
       "    .dataframe thead th {\n",
       "        text-align: right;\n",
       "    }\n",
       "</style>\n",
       "<table border=\"1\" class=\"dataframe\">\n",
       "  <thead>\n",
       "    <tr style=\"text-align: right;\">\n",
       "      <th></th>\n",
       "      <th>week-day_fri</th>\n",
       "      <th>week-day_mon</th>\n",
       "      <th>week-day_sat</th>\n",
       "      <th>week-day_sun</th>\n",
       "      <th>week-day_thu</th>\n",
       "      <th>week-day_tue</th>\n",
       "      <th>week-day_wed</th>\n",
       "      <th>season_fall</th>\n",
       "      <th>season_spring</th>\n",
       "      <th>season_summer</th>\n",
       "      <th>...</th>\n",
       "      <th>main_cat_Health &amp; Personal Care</th>\n",
       "      <th>main_cat_Home Audio &amp; Theater</th>\n",
       "      <th>main_cat_Industrial &amp; Scientific</th>\n",
       "      <th>main_cat_Musical Instruments</th>\n",
       "      <th>main_cat_Office Products</th>\n",
       "      <th>main_cat_Pet Supplies</th>\n",
       "      <th>main_cat_Software</th>\n",
       "      <th>main_cat_Sports &amp; Outdoors</th>\n",
       "      <th>main_cat_Tools &amp; Home Improvement</th>\n",
       "      <th>main_cat_Toys &amp; Games</th>\n",
       "    </tr>\n",
       "  </thead>\n",
       "  <tbody>\n",
       "    <tr>\n",
       "      <th>0</th>\n",
       "      <td>0</td>\n",
       "      <td>0</td>\n",
       "      <td>0</td>\n",
       "      <td>0</td>\n",
       "      <td>0</td>\n",
       "      <td>1</td>\n",
       "      <td>0</td>\n",
       "      <td>1</td>\n",
       "      <td>0</td>\n",
       "      <td>0</td>\n",
       "      <td>...</td>\n",
       "      <td>0</td>\n",
       "      <td>0</td>\n",
       "      <td>0</td>\n",
       "      <td>0</td>\n",
       "      <td>0</td>\n",
       "      <td>0</td>\n",
       "      <td>0</td>\n",
       "      <td>0</td>\n",
       "      <td>0</td>\n",
       "      <td>0</td>\n",
       "    </tr>\n",
       "    <tr>\n",
       "      <th>1</th>\n",
       "      <td>0</td>\n",
       "      <td>0</td>\n",
       "      <td>0</td>\n",
       "      <td>0</td>\n",
       "      <td>0</td>\n",
       "      <td>1</td>\n",
       "      <td>0</td>\n",
       "      <td>0</td>\n",
       "      <td>1</td>\n",
       "      <td>0</td>\n",
       "      <td>...</td>\n",
       "      <td>0</td>\n",
       "      <td>0</td>\n",
       "      <td>0</td>\n",
       "      <td>0</td>\n",
       "      <td>0</td>\n",
       "      <td>0</td>\n",
       "      <td>0</td>\n",
       "      <td>0</td>\n",
       "      <td>0</td>\n",
       "      <td>0</td>\n",
       "    </tr>\n",
       "    <tr>\n",
       "      <th>2</th>\n",
       "      <td>0</td>\n",
       "      <td>0</td>\n",
       "      <td>0</td>\n",
       "      <td>1</td>\n",
       "      <td>0</td>\n",
       "      <td>0</td>\n",
       "      <td>0</td>\n",
       "      <td>0</td>\n",
       "      <td>0</td>\n",
       "      <td>1</td>\n",
       "      <td>...</td>\n",
       "      <td>0</td>\n",
       "      <td>0</td>\n",
       "      <td>0</td>\n",
       "      <td>0</td>\n",
       "      <td>0</td>\n",
       "      <td>0</td>\n",
       "      <td>0</td>\n",
       "      <td>0</td>\n",
       "      <td>0</td>\n",
       "      <td>0</td>\n",
       "    </tr>\n",
       "    <tr>\n",
       "      <th>3</th>\n",
       "      <td>0</td>\n",
       "      <td>0</td>\n",
       "      <td>0</td>\n",
       "      <td>0</td>\n",
       "      <td>1</td>\n",
       "      <td>0</td>\n",
       "      <td>0</td>\n",
       "      <td>1</td>\n",
       "      <td>0</td>\n",
       "      <td>0</td>\n",
       "      <td>...</td>\n",
       "      <td>0</td>\n",
       "      <td>0</td>\n",
       "      <td>0</td>\n",
       "      <td>0</td>\n",
       "      <td>0</td>\n",
       "      <td>0</td>\n",
       "      <td>0</td>\n",
       "      <td>0</td>\n",
       "      <td>0</td>\n",
       "      <td>0</td>\n",
       "    </tr>\n",
       "    <tr>\n",
       "      <th>4</th>\n",
       "      <td>0</td>\n",
       "      <td>0</td>\n",
       "      <td>0</td>\n",
       "      <td>0</td>\n",
       "      <td>0</td>\n",
       "      <td>0</td>\n",
       "      <td>1</td>\n",
       "      <td>1</td>\n",
       "      <td>0</td>\n",
       "      <td>0</td>\n",
       "      <td>...</td>\n",
       "      <td>0</td>\n",
       "      <td>0</td>\n",
       "      <td>0</td>\n",
       "      <td>0</td>\n",
       "      <td>0</td>\n",
       "      <td>0</td>\n",
       "      <td>0</td>\n",
       "      <td>0</td>\n",
       "      <td>0</td>\n",
       "      <td>0</td>\n",
       "    </tr>\n",
       "    <tr>\n",
       "      <th>...</th>\n",
       "      <td>...</td>\n",
       "      <td>...</td>\n",
       "      <td>...</td>\n",
       "      <td>...</td>\n",
       "      <td>...</td>\n",
       "      <td>...</td>\n",
       "      <td>...</td>\n",
       "      <td>...</td>\n",
       "      <td>...</td>\n",
       "      <td>...</td>\n",
       "      <td>...</td>\n",
       "      <td>...</td>\n",
       "      <td>...</td>\n",
       "      <td>...</td>\n",
       "      <td>...</td>\n",
       "      <td>...</td>\n",
       "      <td>...</td>\n",
       "      <td>...</td>\n",
       "      <td>...</td>\n",
       "      <td>...</td>\n",
       "      <td>...</td>\n",
       "    </tr>\n",
       "    <tr>\n",
       "      <th>857890</th>\n",
       "      <td>0</td>\n",
       "      <td>0</td>\n",
       "      <td>0</td>\n",
       "      <td>0</td>\n",
       "      <td>0</td>\n",
       "      <td>1</td>\n",
       "      <td>0</td>\n",
       "      <td>0</td>\n",
       "      <td>1</td>\n",
       "      <td>0</td>\n",
       "      <td>...</td>\n",
       "      <td>0</td>\n",
       "      <td>0</td>\n",
       "      <td>0</td>\n",
       "      <td>0</td>\n",
       "      <td>0</td>\n",
       "      <td>0</td>\n",
       "      <td>0</td>\n",
       "      <td>0</td>\n",
       "      <td>0</td>\n",
       "      <td>0</td>\n",
       "    </tr>\n",
       "    <tr>\n",
       "      <th>857891</th>\n",
       "      <td>0</td>\n",
       "      <td>0</td>\n",
       "      <td>0</td>\n",
       "      <td>1</td>\n",
       "      <td>0</td>\n",
       "      <td>0</td>\n",
       "      <td>0</td>\n",
       "      <td>0</td>\n",
       "      <td>0</td>\n",
       "      <td>0</td>\n",
       "      <td>...</td>\n",
       "      <td>0</td>\n",
       "      <td>0</td>\n",
       "      <td>0</td>\n",
       "      <td>0</td>\n",
       "      <td>0</td>\n",
       "      <td>0</td>\n",
       "      <td>0</td>\n",
       "      <td>0</td>\n",
       "      <td>0</td>\n",
       "      <td>0</td>\n",
       "    </tr>\n",
       "    <tr>\n",
       "      <th>857892</th>\n",
       "      <td>0</td>\n",
       "      <td>0</td>\n",
       "      <td>0</td>\n",
       "      <td>0</td>\n",
       "      <td>0</td>\n",
       "      <td>0</td>\n",
       "      <td>1</td>\n",
       "      <td>1</td>\n",
       "      <td>0</td>\n",
       "      <td>0</td>\n",
       "      <td>...</td>\n",
       "      <td>0</td>\n",
       "      <td>0</td>\n",
       "      <td>0</td>\n",
       "      <td>0</td>\n",
       "      <td>0</td>\n",
       "      <td>0</td>\n",
       "      <td>0</td>\n",
       "      <td>0</td>\n",
       "      <td>0</td>\n",
       "      <td>0</td>\n",
       "    </tr>\n",
       "    <tr>\n",
       "      <th>857893</th>\n",
       "      <td>0</td>\n",
       "      <td>0</td>\n",
       "      <td>0</td>\n",
       "      <td>1</td>\n",
       "      <td>0</td>\n",
       "      <td>0</td>\n",
       "      <td>0</td>\n",
       "      <td>1</td>\n",
       "      <td>0</td>\n",
       "      <td>0</td>\n",
       "      <td>...</td>\n",
       "      <td>0</td>\n",
       "      <td>0</td>\n",
       "      <td>0</td>\n",
       "      <td>0</td>\n",
       "      <td>0</td>\n",
       "      <td>0</td>\n",
       "      <td>0</td>\n",
       "      <td>0</td>\n",
       "      <td>0</td>\n",
       "      <td>0</td>\n",
       "    </tr>\n",
       "    <tr>\n",
       "      <th>857894</th>\n",
       "      <td>0</td>\n",
       "      <td>0</td>\n",
       "      <td>0</td>\n",
       "      <td>0</td>\n",
       "      <td>1</td>\n",
       "      <td>0</td>\n",
       "      <td>0</td>\n",
       "      <td>0</td>\n",
       "      <td>0</td>\n",
       "      <td>1</td>\n",
       "      <td>...</td>\n",
       "      <td>0</td>\n",
       "      <td>0</td>\n",
       "      <td>0</td>\n",
       "      <td>0</td>\n",
       "      <td>0</td>\n",
       "      <td>0</td>\n",
       "      <td>0</td>\n",
       "      <td>0</td>\n",
       "      <td>0</td>\n",
       "      <td>0</td>\n",
       "    </tr>\n",
       "  </tbody>\n",
       "</table>\n",
       "<p>857895 rows × 29 columns</p>\n",
       "</div>"
      ],
      "text/plain": [
       "        week-day_fri  week-day_mon  week-day_sat  week-day_sun  week-day_thu  \\\n",
       "0                  0             0             0             0             0   \n",
       "1                  0             0             0             0             0   \n",
       "2                  0             0             0             1             0   \n",
       "3                  0             0             0             0             1   \n",
       "4                  0             0             0             0             0   \n",
       "...              ...           ...           ...           ...           ...   \n",
       "857890             0             0             0             0             0   \n",
       "857891             0             0             0             1             0   \n",
       "857892             0             0             0             0             0   \n",
       "857893             0             0             0             1             0   \n",
       "857894             0             0             0             0             1   \n",
       "\n",
       "        week-day_tue  week-day_wed  season_fall  season_spring  season_summer  \\\n",
       "0                  1             0            1              0              0   \n",
       "1                  1             0            0              1              0   \n",
       "2                  0             0            0              0              1   \n",
       "3                  0             0            1              0              0   \n",
       "4                  0             1            1              0              0   \n",
       "...              ...           ...          ...            ...            ...   \n",
       "857890             1             0            0              1              0   \n",
       "857891             0             0            0              0              0   \n",
       "857892             0             1            1              0              0   \n",
       "857893             0             0            1              0              0   \n",
       "857894             0             0            0              0              1   \n",
       "\n",
       "        ...  main_cat_Health & Personal Care  main_cat_Home Audio & Theater  \\\n",
       "0       ...                                0                              0   \n",
       "1       ...                                0                              0   \n",
       "2       ...                                0                              0   \n",
       "3       ...                                0                              0   \n",
       "4       ...                                0                              0   \n",
       "...     ...                              ...                            ...   \n",
       "857890  ...                                0                              0   \n",
       "857891  ...                                0                              0   \n",
       "857892  ...                                0                              0   \n",
       "857893  ...                                0                              0   \n",
       "857894  ...                                0                              0   \n",
       "\n",
       "        main_cat_Industrial & Scientific  main_cat_Musical Instruments  \\\n",
       "0                                      0                             0   \n",
       "1                                      0                             0   \n",
       "2                                      0                             0   \n",
       "3                                      0                             0   \n",
       "4                                      0                             0   \n",
       "...                                  ...                           ...   \n",
       "857890                                 0                             0   \n",
       "857891                                 0                             0   \n",
       "857892                                 0                             0   \n",
       "857893                                 0                             0   \n",
       "857894                                 0                             0   \n",
       "\n",
       "        main_cat_Office Products  main_cat_Pet Supplies  main_cat_Software  \\\n",
       "0                              0                      0                  0   \n",
       "1                              0                      0                  0   \n",
       "2                              0                      0                  0   \n",
       "3                              0                      0                  0   \n",
       "4                              0                      0                  0   \n",
       "...                          ...                    ...                ...   \n",
       "857890                         0                      0                  0   \n",
       "857891                         0                      0                  0   \n",
       "857892                         0                      0                  0   \n",
       "857893                         0                      0                  0   \n",
       "857894                         0                      0                  0   \n",
       "\n",
       "        main_cat_Sports & Outdoors  main_cat_Tools & Home Improvement  \\\n",
       "0                                0                                  0   \n",
       "1                                0                                  0   \n",
       "2                                0                                  0   \n",
       "3                                0                                  0   \n",
       "4                                0                                  0   \n",
       "...                            ...                                ...   \n",
       "857890                           0                                  0   \n",
       "857891                           0                                  0   \n",
       "857892                           0                                  0   \n",
       "857893                           0                                  0   \n",
       "857894                           0                                  0   \n",
       "\n",
       "        main_cat_Toys & Games  \n",
       "0                           0  \n",
       "1                           0  \n",
       "2                           0  \n",
       "3                           0  \n",
       "4                           0  \n",
       "...                       ...  \n",
       "857890                      0  \n",
       "857891                      0  \n",
       "857892                      0  \n",
       "857893                      0  \n",
       "857894                      0  \n",
       "\n",
       "[857895 rows x 29 columns]"
      ]
     },
     "execution_count": 173,
     "metadata": {},
     "output_type": "execute_result"
    }
   ],
   "source": [
    "train_dummies"
   ]
  },
  {
   "cell_type": "markdown",
   "metadata": {
    "pycharm": {
     "name": "#%% md\n"
    }
   },
   "source": [
    "Итак, собираем базу, с которой будем обучать модель."
   ]
  },
  {
   "cell_type": "code",
   "execution_count": 174,
   "metadata": {
    "pycharm": {
     "name": "#%%\n"
    }
   },
   "outputs": [],
   "source": [
    "train_for_model = pd.concat([train_new[['rating', 'userid', 'itemid',\n",
    "                                        'verified', 'desc_subj']], train_scaled, train_dummies], axis=1)"
   ]
  },
  {
   "cell_type": "code",
   "execution_count": 176,
   "metadata": {
    "pycharm": {
     "name": "#%%\n"
    }
   },
   "outputs": [],
   "source": [
    "train_for_model.to_csv('train_for_model.csv')"
   ]
  },
  {
   "cell_type": "code",
   "execution_count": 181,
   "metadata": {
    "pycharm": {
     "name": "#%%\n"
    }
   },
   "outputs": [
    {
     "name": "stdout",
     "output_type": "stream",
     "text": [
      "<class 'pandas.core.frame.DataFrame'>\n",
      "Int64Index: 285965 entries, 0 to 285964\n",
      "Data columns (total 18 columns):\n",
      " #   Column        Non-Null Count   Dtype         \n",
      "---  ------        --------------   -----         \n",
      " 0   verified      285965 non-null  object        \n",
      " 1   reviewTime    285965 non-null  datetime64[ns]\n",
      " 2   from_today    285965 non-null  int64         \n",
      " 3   week-day      285965 non-null  object        \n",
      " 4   season        285965 non-null  object        \n",
      " 5   asin          285965 non-null  object        \n",
      " 6   vote          285965 non-null  int64         \n",
      " 7   categories    285965 non-null  object        \n",
      " 8   numb_of_cat   285965 non-null  float64       \n",
      " 9   main_cat      285965 non-null  object        \n",
      " 10  rank_in_main  285965 non-null  float64       \n",
      " 11  price         285965 non-null  float64       \n",
      " 12  desc_subj     285965 non-null  float64       \n",
      " 13  userid        285965 non-null  int64         \n",
      " 14  itemid        285965 non-null  int64         \n",
      " 15  train/test    285965 non-null  int64         \n",
      " 16  rank_na       285965 non-null  int64         \n",
      " 17  Id            285965 non-null  int64         \n",
      "dtypes: datetime64[ns](1), float64(4), int64(7), object(6)\n",
      "memory usage: 41.5+ MB\n"
     ]
    }
   ],
   "source": [
    "test_new.info()"
   ]
  },
  {
   "cell_type": "code",
   "execution_count": 182,
   "metadata": {
    "pycharm": {
     "name": "#%%\n"
    }
   },
   "outputs": [],
   "source": [
    "test_new.to_csv('test_new.csv')"
   ]
  },
  {
   "cell_type": "markdown",
   "metadata": {
    "pycharm": {
     "name": "#%% md\n"
    }
   },
   "source": [
    "Полученные и сохраненные базы будем использовать в новом ноутбуке для обучения и работы модели.\n",
    "\n",
    "Для последующего использования в рекомендательной системе мне нужно создать базу, в которой каждому itemid\n",
    "будет соответствовать название товара.\n",
    "\n",
    "Сначала выделим все itemid и свяжем их с asin\n"
   ]
  },
  {
   "cell_type": "code",
   "execution_count": 199,
   "metadata": {
    "pycharm": {
     "name": "#%%\n"
    }
   },
   "outputs": [],
   "source": [
    "df_item_asin = df.groupby('itemid').asin.value_counts()"
   ]
  },
  {
   "cell_type": "code",
   "execution_count": 211,
   "metadata": {
    "pycharm": {
     "name": "#%%\n"
    }
   },
   "outputs": [
    {
     "data": {
      "text/plain": [
       "41320"
      ]
     },
     "execution_count": 211,
     "metadata": {},
     "output_type": "execute_result"
    }
   ],
   "source": [
    "len(df_item_asin)"
   ]
  },
  {
   "cell_type": "code",
   "execution_count": 210,
   "metadata": {
    "pycharm": {
     "name": "#%%\n"
    }
   },
   "outputs": [
    {
     "data": {
      "text/plain": [
       "'B01H8ET97A'"
      ]
     },
     "execution_count": 210,
     "metadata": {},
     "output_type": "execute_result"
    }
   ],
   "source": [
    "df_item_asin.loc[41315].index[0]"
   ]
  },
  {
   "cell_type": "code",
   "execution_count": 212,
   "metadata": {
    "pycharm": {
     "name": "#%%\n"
    }
   },
   "outputs": [
    {
     "name": "stdout",
     "output_type": "stream",
     "text": [
      "41320 5430\n"
     ]
    }
   ],
   "source": [
    "item_list = list(df.itemid.unique())\n",
    "print(len(item_list))"
   ]
  },
  {
   "cell_type": "code",
   "execution_count": 214,
   "metadata": {
    "pycharm": {
     "name": "#%%\n"
    }
   },
   "outputs": [],
   "source": [
    "# Сделаю табличку в которой будет itemid, asin, title\n",
    "titles = pd.DataFrame(np.nan, index=[0, len(item_list)], columns=[\n",
    "                      'itemid', 'asin', 'title'])"
   ]
  },
  {
   "cell_type": "code",
   "execution_count": null,
   "metadata": {
    "pycharm": {
     "name": "#%%\n"
    }
   },
   "outputs": [],
   "source": [
    "# \"Выташим\" названия товара в словарь - asin = title\n",
    "titiles_dict = {}\n",
    "for i in tqdm(range(len(data))):\n",
    "    titiles_dict[data.asin.iloc[i]]=data.title.iloc[i]\n",
    "\n",
    "# а теперь заполним, наконец таблицу\n",
    "for i in tqdm(range(len(titles))):\n",
    "    item_list[i] = item\n",
    "    titles.itemid.iloc[i] = item\n",
    "    titles.asin.iloc[i] = df_item_asin.loc[item].index[0]\n",
    "    titles.title.iloc[i] = titiles_dict[df_item_asin.loc[item].index[0]]\n",
    "# Сохраним табличку для последующего использования\n",
    "titles.to_csv('titles.csv')\n",
    "    "
   ]
  },
  {
   "cell_type": "markdown",
   "metadata": {
    "pycharm": {
     "name": "#%% md\n"
    }
   },
   "source": [
    "Все ранее сохраненные данные будем использовать в следующих ноутбуках для обучения модели, получения и\n",
    "интерпретации предсказаний."
   ]
  }
 ],
 "metadata": {
  "kernelspec": {
   "display_name": "Python 3",
   "language": "python",
   "name": "python3"
  },
  "language_info": {
   "codemirror_mode": {
    "name": "ipython",
    "version": 3
   },
   "file_extension": ".py",
   "mimetype": "text/x-python",
   "name": "python",
   "nbconvert_exporter": "python",
   "pygments_lexer": "ipython3",
   "version": "3.8.3"
  }
 },
 "nbformat": 4,
 "nbformat_minor": 1
}