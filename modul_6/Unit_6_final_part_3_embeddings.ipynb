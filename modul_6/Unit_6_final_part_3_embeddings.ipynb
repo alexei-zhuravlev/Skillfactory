{
 "cells": [
  {
   "cell_type": "markdown",
   "metadata": {
    "collapsed": true,
    "pycharm": {
     "name": "#%% md\n"
    }
   },
   "source": [
    "В этом ноутбуке я хочу сделать рекомендательную систему для последующей публикации через Streamlit и Heroku\n",
    "\n",
    "Смысл модели - мы вводим itemid товара, система рекомендует itemid других товаров, которые могут подойти\n",
    "\n",
    "Чтобы это было более \"человечески\" нужно сделать баз данных где itemid соответствует название товара.\n",
    "Тогда получится так - вводим itemid (не более __ цифр), система говорит - Вы ввели (название товара),\n",
    "рекомендуем посмотреть так же - список рекомендаций тоже с названием товаров\n",
    "\n",
    "\n",
    "Итак, для начала сделаем базу, в которой каждому itemid будет соответствовать название товара.\n",
    "Сделать это придется через asin (сделал это предварительно в другом ноутбуке)"
   ]
  },
  {
   "cell_type": "code",
   "execution_count": 1,
   "metadata": {
    "pycharm": {
     "name": "#%%\n"
    }
   },
   "outputs": [],
   "source": [
    "# Импортируем библиотеки\n",
    "import pandas as pd\n",
    "from tqdm import tqdm\n",
    "import numpy as np\n",
    "import nmslib\n",
    "import pickle"
   ]
  },
  {
   "cell_type": "code",
   "execution_count": 57,
   "metadata": {
    "pycharm": {
     "name": "#%%\n"
    }
   },
   "outputs": [],
   "source": [
    "# подтянем базу данных\n",
    "titles = pd.read_csv(\n",
    "    '/Users/alexeizh/Alexeizh_DST/Unit_7/final_prjt/titles.csv')"
   ]
  },
  {
   "cell_type": "code",
   "execution_count": 59,
   "metadata": {
    "pycharm": {
     "name": "#%%\n"
    }
   },
   "outputs": [],
   "source": [
    "titles.drop(['Unnamed: 0'], axis=1, inplace=True)"
   ]
  },
  {
   "cell_type": "code",
   "execution_count": 62,
   "metadata": {
    "pycharm": {
     "name": "#%%\n"
    }
   },
   "outputs": [
    {
     "data": {
      "text/html": [
       "<div>\n",
       "<style scoped>\n",
       "    .dataframe tbody tr th:only-of-type {\n",
       "        vertical-align: middle;\n",
       "    }\n",
       "\n",
       "    .dataframe tbody tr th {\n",
       "        vertical-align: top;\n",
       "    }\n",
       "\n",
       "    .dataframe thead th {\n",
       "        text-align: right;\n",
       "    }\n",
       "</style>\n",
       "<table border=\"1\" class=\"dataframe\">\n",
       "  <thead>\n",
       "    <tr style=\"text-align: right;\">\n",
       "      <th></th>\n",
       "      <th>itemid</th>\n",
       "      <th>asin</th>\n",
       "      <th>title</th>\n",
       "    </tr>\n",
       "  </thead>\n",
       "  <tbody>\n",
       "    <tr>\n",
       "      <th>0</th>\n",
       "      <td>37138.0</td>\n",
       "      <td>B01CPNIEQG</td>\n",
       "      <td>['Primal Palate Organic Spices Adobo Seasoning...</td>\n",
       "    </tr>\n",
       "    <tr>\n",
       "      <th>1</th>\n",
       "      <td>17322.0</td>\n",
       "      <td>B006F63M8U</td>\n",
       "      <td>['Milk Chocolate Swiss Miss Hot Cocoa Mix 60-0...</td>\n",
       "    </tr>\n",
       "    <tr>\n",
       "      <th>2</th>\n",
       "      <td>5600.0</td>\n",
       "      <td>B00112O8NG</td>\n",
       "      <td>['Torani Syrup, Sugar Free Vanilla, 25.4 oz']</td>\n",
       "    </tr>\n",
       "  </tbody>\n",
       "</table>\n",
       "</div>"
      ],
      "text/plain": [
       "    itemid        asin                                              title\n",
       "0  37138.0  B01CPNIEQG  ['Primal Palate Organic Spices Adobo Seasoning...\n",
       "1  17322.0  B006F63M8U  ['Milk Chocolate Swiss Miss Hot Cocoa Mix 60-0...\n",
       "2   5600.0  B00112O8NG      ['Torani Syrup, Sugar Free Vanilla, 25.4 oz']"
      ]
     },
     "execution_count": 62,
     "metadata": {},
     "output_type": "execute_result"
    }
   ],
   "source": [
    "titles.head(3)"
   ]
  },
  {
   "cell_type": "code",
   "execution_count": 64,
   "metadata": {
    "pycharm": {
     "name": "#%%\n"
    }
   },
   "outputs": [],
   "source": [
    "titles_for_system = titles.set_index('itemid')"
   ]
  },
  {
   "cell_type": "code",
   "execution_count": 88,
   "metadata": {
    "pycharm": {
     "name": "#%%\n"
    }
   },
   "outputs": [],
   "source": [
    "titles.title = titles.title.apply(\n",
    "    lambda x: x.replace('[', '').replace(']', ''))"
   ]
  },
  {
   "cell_type": "markdown",
   "metadata": {
    "pycharm": {
     "name": "#%% md\n"
    }
   },
   "source": [
    "База готова. Теперь перенесем из ноутбука с моделью эмбеддинги и займемся предсказаниями."
   ]
  },
  {
   "cell_type": "code",
   "execution_count": 66,
   "metadata": {
    "pycharm": {
     "name": "#%%\n"
    }
   },
   "outputs": [],
   "source": [
    "with open('embeddings.pickle', 'rb') as f:\n",
    "    item_embeddings = pickle.load(f)"
   ]
  },
  {
   "cell_type": "code",
   "execution_count": 67,
   "metadata": {
    "pycharm": {
     "name": "#%%\n"
    }
   },
   "outputs": [
    {
     "data": {
      "text/plain": [
       "array([[-0.01912594, -0.0308455 ,  0.01930645, ..., -0.03762782,\n",
       "        -0.02805207, -0.00589758],\n",
       "       [ 0.2525154 ,  0.33672673,  0.02435321, ..., -0.17207813,\n",
       "        -0.23986737, -0.04260866],\n",
       "       [ 0.0412655 ,  0.07120393,  0.06147807, ...,  0.00400613,\n",
       "         0.03309305,  0.01852722],\n",
       "       ...,\n",
       "       [-0.02006457,  0.0324237 ,  0.16484843, ...,  0.1166116 ,\n",
       "         0.04248474,  0.10554128],\n",
       "       [-0.01973687, -0.03226512, -0.02077842, ..., -0.03738605,\n",
       "         0.01635616, -0.04132549],\n",
       "       [-0.005621  ,  0.00618175,  0.00581868, ..., -0.01509469,\n",
       "         0.02181922,  0.01129925]], dtype=float32)"
      ]
     },
     "execution_count": 67,
     "metadata": {},
     "output_type": "execute_result"
    }
   ],
   "source": [
    "item_embeddings"
   ]
  },
  {
   "cell_type": "code",
   "execution_count": 68,
   "metadata": {
    "pycharm": {
     "name": "#%%\n"
    }
   },
   "outputs": [],
   "source": [
    "# import nmslib\n",
    "\n",
    "# Создаём наш граф для поиска\n",
    "nms_idx = nmslib.init(method='hnsw', space='cosinesimil')\n",
    "\n",
    "# Начинаем добавлять наши товары в граф\n",
    "nms_idx.addDataPointBatch(item_embeddings)\n",
    "nms_idx.createIndex(print_progress=True)"
   ]
  },
  {
   "cell_type": "code",
   "execution_count": 72,
   "metadata": {
    "pycharm": {
     "name": "#%%\n"
    }
   },
   "outputs": [],
   "source": [
    "# Вспомогательная функция для поиска по графу\n",
    "def nearest_item_nms(itemid, index, n=5):\n",
    "    nn = index.knnQuery(item_embeddings[itemid], k=n)\n",
    "    return nn"
   ]
  },
  {
   "cell_type": "code",
   "execution_count": 94,
   "metadata": {
    "pycharm": {
     "name": "#%%\n"
    }
   },
   "outputs": [
    {
     "data": {
      "text/plain": [
       "array([   58, 19567, 29327, 11288, 34440], dtype=int32)"
      ]
     },
     "execution_count": 94,
     "metadata": {},
     "output_type": "execute_result"
    }
   ],
   "source": [
    "# Попробуем найти товары, похожие на товар с неким itemid\n",
    "nbm = nearest_item_nms(58, nms_idx)[0]\n",
    "nbm"
   ]
  },
  {
   "cell_type": "code",
   "execution_count": 95,
   "metadata": {
    "pycharm": {
     "name": "#%%\n"
    }
   },
   "outputs": [
    {
     "name": "stdout",
     "output_type": "stream",
     "text": [
      "Для 'San Francisco Bay OneCup Decaf French Roast (36 Count) Single Serve Coffee Compatible with Keurig K-cup Brewers Single Serve Coffee Pods, Compatible with Cuisinart, Bunn, iCoffee single serve brewers'\n",
      "\n",
      " Рекомендуем Вам посмотреть на 'San Francisco Bay OneCup Decaf French Roast (36 Count) Single Serve Coffee Compatible with Keurig K-cup Brewers Single Serve Coffee Pods, Compatible with Cuisinart, Bunn, iCoffee single serve brewers'\n",
      "\n",
      " Рекомендуем Вам посмотреть на 'var aPageStart = (new Date()).getTime();\\nvar ue_t0=ue_t0||+new Date();\\n\\nwindow.ue_ihb = (window.ue_ihb || window.ueinit || 0) + 1;\\nif (window.ue_ihb === 1) {\\n\\nvar ue_csm = window,\\n    ue_hob = +new Date();\\n(function(d){var e=d.ue=d.ue||{},f=Date.now||function(){return+new Date};e.d=function(b){return f()-(b?0:d.ue_t0)};e.stub=function(b,a){if(!ba){var c=;ba=function(){c.push(c.slice.call(arguments),e.d(),d.ue_id)};ba.replay=function(b){for(var a;a=c.shift();)b(a0,a1,a2)};ba.isStub=1}};e.exec=function(b,a){return function(){if(1==window.ueinit)try{return b.apply(this,arguments)}catch(c){ueLogError(c,{attribution:a||\"undefined\",logLevel:\"WARN\"})}}}})(ue_csm);\\n\\n\\n    var ue_err_chan = \\'jserr-rw\\';\\n(function(d,e){function h(f,b){if(!(a.ec>a.mxe)&&f){a.ter.push(f);b=b||{};var c=f.logLevel||b.logLevel;c&&c!==k&&c!==m&&c!==n&&c!==p||a.ec++;c&&c!=k||a.ecf++;b.pageURL=\"\"+(e.location?e.location.href:\"\");b.logLevel=c;b.attribution=f.attribution||b.attribution;a.erl.push({ex:f,info:b})}}function l(a,b,c,e,g){d.ueLogError({m:a,f:b,l:c,c:\"\"+e,err:g,fromOnError:1,args:arguments},g?{attribution:g.attribution,logLevel:g.logLevel}:void 0);return!1}var k=\"FATAL\",m=\"ERROR\",n=\"WARN\",p=\"DOWNGRADED\",a={ec:0,ecf:0,\\npec:0,ts:0,erl:,ter:,mxe:50,startTimer:function(){a.ts++;setInterval(function(){d.ue&&a.pec<a.ec&&d.uex(\"at\");a.pec=a.ec},1E4)}};l.skipTrace=1;h.skipTrace=1;h.isStub=1;d.ueLogError=h;d.ue_err=a;e.onerror=l})(ue_csm,window);\\n\\n\\nvar ue_id = \\'MAH9CZ0470KFJ6M4TD4W\\',\\n    ue_url = \\'/gp/uedata\\',\\n    ue_navtiming = 1,\\n    ue_mid = \\'ATVPDKIKX0DER\\',\\n    ue_sid = \\'144-9395456-0839349\\',\\n    ue_sn = \\'www.amazon.com\\',\\n    ue_furl = \\'fls-na.amazon.com\\',\\n    ue_surl = \\'https://unagi-na.amazon.com/1/events/com.amazon.csm.nexusclient.prod\\',\\n    ue_int = 0,\\n    ue_fcsn = 1,\\n    ue_urt = 3,\\n    ue_rpl_ns = \\'cel-rpl\\',\\n    ue_ddq = 1,\\n    ue_fpf = \\'//fls-na.amazon.com/1/batch/1/OP/ATVPDKIKX0DER:144-9395456-0839349:MAH9CZ0470KFJ6M4TD4W$uedata=s:\\',\\n    ue_rsc = 0,\\n    ue_mcimp = 3,\\n    ue_sbuimp = 1,\\n\\n    ue_swi = 1;\\nfunction ue_viz(){(function(c,e,a){function k(b){if(c.ue.viz.length<p&&!l){var a=b.type;b=b.originalEvent;/^focus./.test(a)&&b&&(b.toElement||b.fromElement||b.relatedTarget)||(a=em||(\"blur\"==a||\"focusout\"==a?\"hidden\":\"visible\"),c.ue.viz.push(a+\":\"+(+new Date-c.ue.t0)),\"visible\"==a&&(ue.isl&&uex(\"at\"),l=1))}}for(var l=0,f,g,m,n=\"\",\"webkit\",\"o\",\"ms\",\"moz\",d=0,p=20,h=0;h<n.length&&!d;h++)if(a=nh,f=(a?a+\"H\":\"h\")+\"idden\",d=\"boolean\"==typeof ef)g=a+\"visibilitychange\",m=(a?a+\"V\":\"v\")+\"isibilityState\";\\nk({});d&&e.addEventListener(g,k,0);c.ue&&d&&(c.ue.pageViz={event:g,propHid:f})})(ue_csm,document,window)};\\n\\n(function(a,g,u){function x(a){return a&&a.replace&&a.replace(/^\\\\s+|\\\\s+$/g,\"\")}function q(a){return\"undefined\"===typeof a}function y(a){try{var b=u.cookie.match(RegExp(\"(^| )\"+a+\"=(^;+)\"));if(b)return b2.trim()}catch(c){}}function A(d,b){d&&(a.ue_id=h.id=h.rid=d,a.ue_fpf=a.ue_fpf.replace(/((.*?:){2})(\\\\w+)/,function(a,b){return b+d}));b&&(a.ue_fpf=a.ue_fpf.replace(/(.*?:)(\\\\w|-)+/,function(a,d){return d+b}),a.ue_sid=b);a.ue.tag(\"accelerated-experience\")}function t(d,b,c,k){var g=k||+new Date,n;\\na.ueam&&a.ueam(b,d,k);if(b||q(c)){if(d)for(n in k=b?f(\"t\",b)||f(\"t\",b,{}):a.ue.t,kd=g,c)c.hasOwnProperty(n)&&f(n,b,cn);return g}}function f(d,b,c){var f=a.ue,g=b&&b!=f.id?f.scb:f;g||(g=f.scb={});\"id\"==d&&c&&(f.cfa2=1);return gd=c||gd}function C(d,b,c,f,g){c=\"on\"+c;var n=bc;\"function\"===typeof n?d&&(a.ue.hd=n):n=function(){};bc=g?function(a){f(a);n(a)}:function(a){n(a);f(a)};bc&&(bc.isUeh=1)}function D(d,b,c){function k(b,c){var e=b,J=0,g={},n,k;c?(e.push(\"m=1\"),gc=1):g=a.ue.sc;\\nfor(k in g)if(g.hasOwnProperty(k)){var l=f(\"wb\",k),h=f(\"t\",k)||{},p=f(\"t0\",k)||a.ue.t0,m;if(c||2==l){l=l?J++:\"\";e.push(\"sc\"+l+\"=\"+k);for(m in h)3>=m.length&&!q(hm)&&null!==hm&&e.push(m+l+\"=\"+(hm-p));e.push(\"t\"+l+\"=\"+hd);if(f(\"ctb\",k)||f(\"wb\",k))n=1}}!z&&n&&e.push(\"ctb=1\");return e.join(\"&\")}function B(b,c,d,e){if(b){var f=a.ue_err,k;a.ue_url&&(!e||!a.ue.log)&&b&&0<b.length&&(k=new Image,a.ue.iel.push(k),k.src=b);K?a.ue_fpf&&g.encodeURIComponent&&b&&(e=new Image,b=\"\"+a.ue_fpf+g.encodeURIComponent(b)+\\n\":\"+(+new Date-a.ue_t0),a.ue.iel.push(e),e.src=b):a.ue.log&&(k=g.chrome&&\"ul\"==c,a.ue.log(b,\"uedata\",a.ue_svi?{n:1,img:!e&&k?1:0}:{n:1}),a.ue.ielf.push(b));f&&!f.ts&&f.startTimer();a.ue.b&&(f=a.ue.b,a.ue.b=\"\",B(f,c,d,1))}}function n(b){if(!ue.collected){var c=b.timing,e=b.navigation,d=ue.t;c&&(d.na_=c.navigationStart,d.ul_=c.unloadEventStart,d._ul=c.unloadEventEnd,d.rd_=c.redirectStart,d._rd=c.redirectEnd,d.fe_=c.fetchStart,d.lk_=c.domainLookupStart,d._lk=c.domainLookupEnd,d.co_=c.connectStart,d._co=\\nc.connectEnd,d.sc_=c.secureConnectionStart,d.rq_=c.requestStart,d.rs_=c.responseStart,d._rs=c.responseEnd,d.dl_=c.domLoading,d.di_=c.domInteractive,d.de_=c.domContentLoadedEventStart,d._de=c.domContentLoadedEventEnd,d._dc=c.domComplete,d.ld_=c.loadEventStart,d._ld=c.loadEventEnd,c=d.na_,b=\"function\"!==typeof b.now||q(c)?0:new Date(c+b.now())-new Date,d.ntd=b+a.ue.t0);e&&(d.ty=e.type+a.ue.t0,d.rc=e.redirectCount+a.ue.t0);ue.collected=1}}function s(b){var c=r&&r.navigation?r.navigation.type:w,d=c&&\\n2!=c,e=a.ue.bfini;a.ue.cfa2||(e&&1<e&&(b+=\"&bfform=1\",d||(a.ue.isBFT=e-1)),2==c&&(b+=\"&bfnt=1\",a.ue.isBFT=a.ue.isBFT||1),a.ue.ssw&&a.ue.isBFT&&(q(a.ue.isNRBF)&&(c=a.ue.ssw(a.ue.oid),c.e||q(c.val)||(a.ue.isNRBF=1<c.val?0:1)),q(a.ue.isNRBF)||(b+=\"&nrbf=\"+a.ue.isNRBF)),a.ue.isBFT&&!a.ue.isNRBF&&(b+=\"&bft=\"+a.ue.isBFT));return b}if(!h.paused&&(b||q(c))){for(var p in c)c.hasOwnProperty(p)&&f(p,b,cp);t(\"pc\",b,c);p=f(\"id\",b)||a.ue.id;var e=a.ue.url+\"?\"+d+\"&v=\"+a.ue.v+\"&id=\"+p,z=f(\"ctb\",b)||f(\"wb\",b),r=\\ng.performance||g.webkitPerformance,l,m;z&&(e+=\"&ctb=\"+z);1<a.ueinit&&(e+=\"&ic=\"+a.ueinit);!a.ue._fi||\"at\"!=d||b&&b!=p||(e+=a.ue._fi());if(!(\"ld\"!=d&&\"ul\"!=d||b&&b!=p)){if(\"ld\"==d){try{g.onbeforeunload&&g.onbeforeunload.isUeh&&(g.onbeforeunload=null)}catch(y){}if(g.chrome)for(m=0;m<ue.ulh.length;m++)E(\"beforeunload\",ue.ulhm);(m=u.ue_backdetect)&&m.ue_back&&m.ue_back.value++;a._uess&&(l=a._uess());a.ue.isl=1}ue._bf&&(e+=\"&bf=\"+ue._bf());a.ue_navtiming&&r&&r.timing&&(f(\"ctb\",p,\"1\"),1==a.ue_navtiming&&\\nt(\"tc\",w,w,r.timing.navigationStart));r&&n(r);a.ue.t.hob=a.ue_hob;a.ue.t.hoe=a.ue_hoe;a.ue.ifr&&(e+=\"&ifr=1\")}t(d,b,c);c=\"ld\"==d&&b&&f(\"wb\",b);var v;c||b&&b!==p||L(b);c||p==a.ue.oid||M((f(\"t\",b)||{}).tc||+f(\"t0\",b),+f(\"t0\",b));a.ue_mbl&&a.ue_mbl.cnt&&!c&&(e+=a.ue_mbl.cnt());c?f(\"wb\",b,2):\"ld\"==d&&(h.lid=x(p));for(v in a.ue.sc)if(1==f(\"wb\",v))break;if(c){if(a.ue.s)return;e=k(e,null)}else m=k(e,null),m!=e&&(m=s(m),a.ue.b=m),l&&(e+=l),e=k(e,b||a.ue.id);e=s(e);if(a.ue.b||c)for(v in a.ue.sc)2==f(\"wb\",\\nv)&&delete a.ue.scv;l=0;ue._rt&&(e+=\"&rt=\"+ue._rt());c||(a.ue.s=0,(l=a.ue_err)&&0<l.ec&&l.pec<l.ec&&(l.pec=l.ec,e+=\"&ec=\"+l.ec+\"&ecf=\"+l.ecf),l=f(\"ctb\",b),f(\"t\",b,{}));e&&a.ue.tag&&0<a.ue.tag().length&&(e+=\"&csmtags=\"+a.ue.tag().join(\"|\"),a.ue.tag=a.ue.tagC());e&&a.ue.viz&&0<a.ue.viz.length&&(e+=\"&viz=\"+a.ue.viz.join(\"|\"),a.ue.viz=);e&&!q(a.ue_pty)&&(e+=\"&pty=\"+a.ue_pty+\"&spty=\"+a.ue_spty+\"&pti=\"+a.ue_pti);e&&a.ue.tabid&&(e+=\"&tid=\"+a.ue.tabid);e&&a.ue.aftb&&(e+=\"&aftb=1\");e&&a.ue.sbf&&(e+=\"&sbf=1\");\\n!a.ue._ui||b&&b!=p||(e+=a.ue._ui());a.ue.a=e;B(e,d,l,c)}}function L(a){var b=g.ue_csm_markers||{},c;for(c in b)b.hasOwnProperty(c)&&t(c,a,w,bc)}function s(d,b,c){c=c||g;a.ue_pel&&window.EventTarget&&window.EventTarget.prototype&&window.EventTarget.prototype.addEventListener?window.EventTarget.prototype.addEventListener.call(c,d,b,!!window.ue_clf):c.addEventListener?c.addEventListener(d,b,!!window.ue_clf):c.attachEvent&&c.attachEvent(\"on\"+d,b)}function E(d,b,c){c=c||g;a.ue_pel&&window.EventTarget&&\\nwindow.EventTarget.prototype&&window.EventTarget.prototype.removeEventListener?window.EventTarget.prototype.removeEventListener.call(c,d,b,!!window.ue_clf):c.removeEventListener?c.removeEventListener(d,b,!!window.ue_clf):c.detachEvent&&c.detachEvent(\"on\"+d,b)}function F(){function d(){a.onUl()}function b(a){return function(){ca||(ca=1,D(a))}}var c=a.ue.r,f,h;a.onLd=b(\"ld\");a.onLdEnd=b(\"ld\");a.onUl=b(\"ul\");f={stop:b(\"os\")};g.chrome?(s(\"beforeunload\",d),ue.ulh.push(d)):fN=a.onUl;for(h in f)f.hasOwnProperty(h)&&\\nC(0,g,h,fh);a.ue_viz&&ue_viz();O&&s(\"readystatechange\",P,u);s(\"load\",a.onLd);t(\"ue\")}function P(){\"complete\"===u.readyState&&(Q?setTimeout(G,0):G())}function G(){var d;if(!(d=ue.isl)&&(d=R))a:{d=u.images||;for(var b=0;b<d.length;b++)if(!1===db.complete){d=!1;break a}d=!0}if(!d)a.onUl()}function M(d,b){a.ue_mbl&&a.ue_mbl.ajax&&a.ue_mbl.ajax(d,b);a.ue.tag(\"ajax-transition\")}a.ueinit=(a.ueinit||0)+1;var h={t0:g.aPageStart||a.ue_t0,id:a.ue_id,url:a.ue_url,rid:a.ue_id,a:\"\",b:\"\",h:{},r:{ld:0,oe:0,\\nul:0},s:1,t:{},sc:{},iel:,ielf:,fc_idx:{},viz:,v:\"0.202589.0\",d:a.ue&&a.ue.d,log:a.ue&&a.ue.log,clog:a.ue&&a.ue.clog,onflush:a.ue&&a.ue.onflush,onunload:a.ue&&a.ue.onunload,stub:a.ue&&a.ue.stub,lr:a.ue&&a.ue.lr,exec:a.ue&&a.ue.exec,event:a.ue&&a.ue.event,onSushiUnload:a.ue&&a.ue.onSushiUnload,onSushiFlush:a.ue&&a.ue.onSushiFlush,ulh:,cfa2:0,paused:!1},K=a.ue_fpf?1:0,O=1===a.ue_rsc||3===a.ue_rsc,Q=3===a.ue_rsc,R=1===a.ue_rsc,N=\"beforeunload\",w;h.oid=x(h.id);h.lid=x(h.id);a.ue=h;a.ue._t0=a.ue.t0;\\na.ue.tagC=function(){var a={};return function(b){b&&(ab=1);b=;for(var c in a)a.hasOwnProperty(c)&&b.push(c);return b}};a.ue.tag=a.ue.tagC();a.ue.ifr=g.top!==g.self||g.frameElement?1:0;ue.attach=s;ue.detach=E;if(\"000-0000000-8675309\"===a.ue_sid){var H=y(\"cdn-rid\"),I=y(\"session-id\");H&&I&&A(H,I)}a.uei=F;a.ueh=C;a.ues=f;a.uet=t;a.uex=D;h.reset=A;h.pause=function(a){h.paused=a};F()})(ue_csm,window,ue_csm.document);\\n\\n\\nue.stub(ue,\"event\");ue.stub(ue,\"onSushiUnload\");ue.stub(ue,\"onSushiFlush\");\\n\\nue.stub(ue,\"log\");ue.stub(ue,\"onunload\");ue.stub(ue,\"onflush\");\\n(function(c){var a=c.ue;a.cv={};a.cv.scopes={};a.count=function(d,c,b){var e={},f=a.cv,g=b&&0===b.c;e.counter=d;e.value=c;e.t=a.d();b&&b.scope&&(f=a.cv.scopesb.scope=a.cv.scopesb.scope||{},e.scope=b.scope);if(void 0===c)return fd;fd=c;d=0;b&&b.bf&&(d=1);ue_csm.ue_sclog||!a.clog||0!==d||g?a.log&&a.log(e,\"csmcount\",{c:1,bf:d}):a.clog(e,\"csmcount\",{bf:d})};a.count(\"baselineCounter2\",1);a&&a.event&&(a.event({requestId:c.ue_id||\"rid\",server:c.ue_sn||\"sn\",obfuscatedMarketplaceId:c.ue_mid||\"mid\"},\\n\"csm\",\"csm.CSMBaselineEvent.4\"),a.count(\"nexusBaselineCounter\",1,{bf:1}))})(ue_csm);\\n\\n\\n\\nvar ue_hoe = +new Date();\\n}\\nwindow.ueinit = window.ue_ihb;\\n\\n\\n\\n\\n(function(g,h,O,pa){function k(a){w&&w.tag&&w.tag(q(\":\",\"aui\",a))}function v(a,b){w&&w.count&&w.count(\"aui:\"+a,0===b?0:b||(w.count(\"aui:\"+a)||0)+1)}function l(a){try{return a.test(navigator.userAgent)}catch(b){return!1}}function x(a,b,c){a.addEventListener?a.addEventListener(b,c,!1):a.attachEvent&&a.attachEvent(\"on\"+b,c)}function q(a,b,c,d){b=b&&c?b+a+c:b||c;return d?q(a,b,d):b}function F(a,b,c){try{Object.defineProperty(a,b,{value:c,writable:!1})}catch(d){ab=c}return c}function P(){return setTimeout(Y,\\n0)}function qa(a,b){var c=a.length,d=c,f=function(){d--||(Q.push(b),R||(P(),R=!0))};for(f();c--;)Zac?f():(zac=zac||).push(f)}function ra(a,b,c,d,f){var e=h.createElement(a?\"script\":\"link\");x(e,\"error\",d);f&&x(e,\"load\",f);if(a){e.type=\"text/javascript\";e.async=!0;if(a=c)a=-1!==b.indexOf(\"images/I\")||/AUIClients/.test(b);a&&e.setAttribute(\"crossorigin\",\"anonymous\");e.src=b}else e.rel=\"stylesheet\",e.href=b;h.getElementsByTagName(\"head\")0.appendChild(e)}function aa(a,b){function c(c,d){function f(){ra(b,\\nc,h,function(b){!G&&h?(h=!1,v(\"resource_retry\"),f()):(v(\"resource_error\"),a.log(\"Asset failed to load: \"+c,G?\"WARN\":void 0));b&&b.stopPropagation?b.stopPropagation():g.event&&(g.event.cancelBubble=!0)},d)}if(bac)return!1;bac=!0;v(\"resource_count\");var h=!0;return!f()}if(b){var d=0,f=0;c.andConfirm=function(a,b){return c(a,function(){d++;b&&b.apply(this,arguments)})};c.confirm=function(){f++};c.getCsriCounters=function(){return{reqs:d,full:f}}}return c}function sa(a,b,c){for(var d={name:a,guard:function(c){return b.guardFatal(a,\\nc)},logError:function(c,d,f){b.logError(c,d,f,a)}},f=,e=0;e<c.length;e++)H.hasOwnProperty(ce)&&(fe=S.hasOwnProperty(ce)?Sce(Hce,d):Hce);return f}function A(a,b,c,d,f){return function(e,h){function n(){var a=null;d?a=h:\"function\"===typeof h&&(p.start=B(),a=h.apply(g,sa(e,k,l)),p.end=B());if(b){He=a;a=e;for(Za=!0;(za||).length;)za.shift()();delete za}p.done=!0}var k=f||this;\"function\"===typeof e&&(h=e,e=void 0);b&&(e=e?e.replace(ca,\"\"):\"__NONAME__\",T.hasOwnProperty(e)&&\\nk.error(q(\", reregistered by \",q(\" by \",e+\" already registered\",Te),k.attribution),e),Te=k.attribution);for(var l=,m=0;m<a.length;m++)lm=am.replace(ca,\"\");var p=dae||\"anon\"+ ++ta={depend:l,registered:B(),namespace:k.namespace};c?n():qa(l,k.guardFatal(e,n));return{decorate:function(a){Se=k.guardFatal(e,a)}}}}function ea(a){return function(){var b=Array.prototype.slice.call(arguments);return{execute:A(b,!1,a,!1,this),register:A(b,!0,a,!1,this)}}}function U(a,b){return function(c,d){d||\\n(d=c,c=void 0);var f=this.attribution;return function(){y.push(b||{attribution:f,name:c,logLevel:a});var e=d.apply(this,arguments);y.pop();return e}}}function I(a,b){this.load={js:aa(this,!0),css:aa(this)};F(this,\"namespace\",b);F(this,\"attribution\",a)}function fa(){h.body?r.trigger(\"a-bodyBegin\"):setTimeout(fa,20)}function C(a,b){if(b){for(var c=a.className.split(\" \"),d=c.length;d--;)if(cd===b)return;a.className+=\" \"+b}}function ga(a,b){for(var c=a.className.split(\" \"),d=,f;void 0!==(f=c.pop());)f&&\\nf!==b&&d.push(f);a.className=d.join(\" \")}function ha(a){try{return a()}catch(b){return!1}}function J(){if(K){var a=g.innerWidth?{w:g.innerWidth,h:g.innerHeight}:{w:m.clientWidth,h:m.clientHeight};5<Math.abs(a.w-V.w)||50<a.h-V.h?(V=a,L=4,(a=n.mobile||n.tablet?450<a.w&&a.w>a.h:1250<=a.w)?C(m,\"a-ws\"):ga(m,\"a-ws\")):0<L&&(L--,ia=setTimeout(J,16))}}function ua(a){(K=void 0===a?!K:!!a)&&J()}function va(){return K}function t(a,b){return\"sw:\"+(b||\"\")+\":\"+a+\":\"}function ja(a,b,c,d){if(c){b=l(/Chrome/i)&&!l(/Edge/i)&&\\n!l(/OPR/i)&&!a.capabilities.isAmazonApp;var f=t(d,\"browser\"),e=t(d,\"prod_mshop\"),g=t(d,\"beta_mshop\");!a.capabilities.isAmazonApp&&c.browser&&b&&(k(f+\"supported\"),c.browser.action(f,d));!b&&c.browser&&k(f+\"unsupported\");c.prodMshop&&k(e+\"unsupported\");c.betaMshop&&k(g+\"unsupported\")}}\"use strict\";var M=O.now=O.now||function(){return+new O},B=function(a){return a&&a.now?a.now.bind(a):M}(g.performance);pa=B();var u=g.AmazonUIPageJS||g.P;if(u&&u.when&&u.register)throw Error(\"A copy of P has already been loaded on this page.\");\\nvar w=g.ue;k();k(\"aui_build_date:3.18.16-2018-12-25\");var Q=,R=!1,Y;Y=function(){for(var a=P(),b=M();Q.length;)if(Q.shift()(),50<M()-b)return;clearTimeout(a);R=!1};l(/OS 6_0-9+ like Mac OS X/i)&&x(g,\"scroll\",P);var Z={},z={},ba={},G=!1;x(g,\"beforeunload\",function(){G=!0;setTimeout(function(){G=!1},1E4)});var ca=/^prv:/,T={},H={},S={},da={},ta=0,D,y=,ka=g.onerror;g.onerror=function(a,b,c,d,f){f&&\"object\"===typeof f||(f=Error(a,b,c),f.columnNumber=d,f.stack=b||c||d?q(String.fromCharCode(92),f.message,\\n\"at \"+q(\":\",b,c,d)):void 0);var e=y.pop()||{};f.attribution=q(\":\",f.attribution||e.attribution,e.name);f.logLevel=e.logLevel;f.attribution&&console&&console.log&&console.log(f.logLevel||\"ERROR\",a,\"thrown by\",f.attribution.join(\" \"));y=;ka&&(e=.slice.call(arguments),e4=f,ka.apply(g,e))};I.prototype={logError:function(a,b,c,d){b={message:b,logLevel:c||\"ERROR\",attribution:q(\":\",this.attribution,d)};if(g.ueLogError)return g.ueLogError(a||b,a?b:null),!0;console&&console.error&&(console.log(b),\\nconsole.error(a));return!1},error:function(a,b,c,d){a=Error(q(\":\",d,a,c));a.attribution=q(\":\",this.attribution,b);throw a;},guardError:U(),guardFatal:U(\"FATAL\"),guardCurrent:function(a){var b=yy.length-1;return b?U(b.logLevel,b).call(this,a):a},log:function(a,b,c){return this.logError(null,a,b,c)},declare:A(,!0,!0,!0),register:A(,!0),execute:A(),AUI_BUILD_DATE:\"3.18.16-2018-12-25\",when:ea(),now:ea(!0),trigger:function(a,b,c){var d=M();this.declare(a,{data:b,pageElapsedTime:d-(g.aPageStart||\\nNaN),triggerTime:d});c&&c.instrument&&D.when(\"prv:a-logTrigger\").execute(function(b){b(a)})},handleTriggers:function(){this.log(\"handleTriggers deprecated\")},attributeErrors:function(a){return new I(a)},_namespace:function(a,b){return new I(a,b)}};var r=F(g,\"AmazonUIPageJS\",new I);D=r._namespace(\"PageJS\",\"AmazonUI\");D.declare(\"prv:p-debug\",da);r.declare(\"p-recorder-events\",);r.declare(\"p-recorder-stop\",function(){});F(g,\"P\",r);fa();if(h.addEventListener){var la;h.addEventListener(\"DOMContentLoaded\",\\nla=function(){r.trigger(\"a-domready\");h.removeEventListener(\"DOMContentLoaded\",la,!1)},!1)}var m=h.documentElement,W=function(){var a=\"O\",\"ms\",\"Moz\",\"Webkit\",b=h.createElement(\"div\");return{testGradients:function(){b.style.cssText=\"background-image:-webkit-gradient(linear,left top,right bottom,from(#9f9),to(white));background-image:-webkit-linear-gradient(left top,#9f9,white);background-image:linear-gradient(left top,#9f9,white);\";return-1<b.style.backgroundImage.indexOf(\"gradient\")},test:function(c){var d=\\nc.charAt(0).toUpperCase()+c.substr(1);c=(a.join(d+\" \")+d+\" \"+c).split(\" \");for(d=c.length;d--;)if(\"\"===b.stylecd)return!0;return!1},testTransform3d:function(){var a=!1;g.matchMedia&&(a=g.matchMedia(\"(-webkit-transform-3d)\").matches);return a}}}(),u=m.className,ma=/(^| )a-mobile( |$)/.test(u),na=/(^| )a-tablet( |$)/.test(u),n={audio:function(){return!!h.createElement(\"audio\").canPlayType},video:function(){return!!h.createElement(\"video\").canPlayType},canvas:function(){return!!h.createElement(\"canvas\").getContext},\\nsvg:function(){return!!h.createElementNS&&!!h.createElementNS(\"http://www.w3.org/2000/svg\",\"svg\").createSVGRect},offline:function(){return navigator.hasOwnProperty&&navigator.hasOwnProperty(\"onLine\")&&navigator.onLine},dragDrop:function(){return\"draggable\"in h.createElement(\"span\")},geolocation:function(){return!!navigator.geolocation},history:function(){return!(!g.history||!g.history.pushState)},webworker:function(){return!!g.Worker},autofocus:function(){return\"autofocus\"in h.createElement(\"input\")},\\ninputPlaceholder:function(){return\"placeholder\"in h.createElement(\"input\")},textareaPlaceholder:function(){return\"placeholder\"in h.createElement(\"textarea\")},localStorage:function(){return\"localStorage\"in g&&null!==g.localStorage},orientation:function(){return\"orientation\"in g},touch:function(){return\"ontouchend\"in h},gradients:function(){return W.testGradients()},hires:function(){var a=g.devicePixelRatio&&1.5<=g.devicePixelRatio||g.matchMedia&&g.matchMedia(\"(min-resolution:144dpi)\").matches;v(\"hiRes\"+\\n(ma?\"Mobile\":na?\"Tablet\":\"Desktop\"),a?1:0);return a},transform3d:function(){return W.testTransform3d()},touchScrolling:function(){return l(/Windowshop|android.(3-9|L-Z)|OS (5-9|1-90-9+)(_0-9{1,2})+ like Mac OS X|Chrome|Silk|Firefox|Trident.+?; Touch/i)},ios:function(){return l(/OS 1-90-9*(_0-9*)+ like Mac OS X/i)&&!l(/trident|Edge/i)},android:function(){return l(/android.(1-9|L-Z)/i)&&!l(/trident|Edge/i)},mobile:function(){return ma},tablet:function(){return na}},p;for(p in n)n.hasOwnProperty(p)&&\\n(np=ha(np));for(var X=\"textShadow textStroke boxShadow borderRadius borderImage opacity transform transition\".split(\" \"),N=0;N<X.length;N++)nXN=ha(function(){return W.test(XN)});var K=!0,ia=0,V={w:0,h:0},L=4;J();x(g,\"resize\",function(){clearTimeout(ia);L=4;J()});var oa={getItem:function(a){try{return g.localStorage.getItem(a)}catch(b){}},setItem:function(a,b){try{return g.localStorage.setItem(a,b)}catch(c){}}};ga(m,\"a-no-js\");C(m,\"a-js\");!l(/OS 1-8(_0-9*)+ like Mac OS X/i)||g.navigator.standalone||\\nl(/safari/i)||C(m,\"a-ember\");u=;for(p in n)n.hasOwnProperty(p)&&np&&u.push(\"a-\"+p.replace(/(A-Z)/g,function(a){return\"-\"+a.toLowerCase()}));C(m,u.join(\" \"));m.setAttribute(\"data-aui-build-date\",\"3.18.16-2018-12-25\");r.register(\"p-detect\",function(){return{capabilities:n,localStorage:n.localStorage&&oa,toggleResponsiveGrid:ua,responsiveGridEnabled:va}});l(/UCBrowser/i)||n.localStorage&&C(m,oa.getItem(\"a-font-class\"));r.declare(\"a-event-revised-handling\",!1);var E=navigator.serviceWorker;E&&x(E,\\n\"message\",function(a){a&&a.data&&v(a.data.k,a.data.v)});p={reg:{},unreg:{}};p.unreg.browser={action:function(a,b){var c=E.getRegistrations();c&&c.then(function(c){c.forEach(function(c){c.unregister().then(function(){v(a+\"success\")}).catch(function(c){r.logError(c,\"AUI SW Failed to \"+b+\" service worker: \");v(a+\"failure\")})})})}};(function(a){var b=a.reg,c=a.unreg;E&&E.getRegistrations?(D.when(\"A\",\"a-util\").execute(function(a,b){ja(a,b,c,\"unregister\")}),x(g,\"load\",function(){D.when(\"A\",\"a-util\").execute(function(a,\\nc){ja(a,c,b,\"register\")})})):(b&&(b.browser&&k(t(\"register\",\"browser\")+\"unsupported\"),b.prodMshop&&k(t(\"register\",\"prod_mshop\")+\"unsupported\"),b.betaMshop&&k(t(\"register\",\"beta_mshop\")+\"unsupported\")),c&&(c.browser&&k(t(\"unregister\",\"browser\")+\"unsupported\"),c.prodMshop&&k(t(\"unregister\",\"prod_mshop\")+\"unsupported\"),c.betaMshop&&k(t(\"unregister\",\"beta_mshop\")+\"unsupported\")))})(p);r.declare(\"a-fix-event-off\",!1);v(\"pagejs:pkgExecTime\",B()-NaN)})(window,document,Date);\\n(window.AmazonUIPageJS ? AmazonUIPageJS : P).when(\\'sp.load.js\\').execute(function() {\\n  (window.AmazonUIPageJS ? AmazonUIPageJS : P).load.js(\\'https://images-na.ssl-images-amazon.com/images/I/61o5HuBKUHL._RC|11IYhapguOL.js,61VQRvc280L.js,21iSNz47xoL.js,012FVc3131L.js,119KAWlHU6L.js,31fv8bqHLoL.js,31ReKJl2X6L.js,51WivJzk7vL.js,11AHlQhPRjL.js,01NATrwbNUL.js,11aNYFFS5hL.js,116tgw9TSaL.js,21auxuI+dRL.js,01PoLXBDXWL.js,61GDyZ5kYqL.js,01mi-J86cyL.js,11BOgvnnntL.js,31SG6rlHlbL.js,01rpauTep4L.js,01iyxuSGj4L.js,01XI-Ief5sL.js_.js?AUIClients/AmazonUI#168183-T1.177619-T1.144375-T1\\');\\n});\\n\\n\\n.nav-sprite-v1 .nav-sprite, .nav-sprite-v1 .nav-icon {\\n  background-image: url(https://images-na.ssl-images-amazon.com/images/G/01/gno/sprites/nav-sprite-global_bluebeacon-V3-1x_optimized._CB483188077_.png);\\n  background-position: 0 1000px;\\n  background-repeat: repeat-x;\\n}\\n.nav-spinner {\\n  background-image: url(https://images-na.ssl-images-amazon.com/images/G/01/javascripts/lib/popover/images/snake._CB192571611_.gif);\\n  background-position: center center;\\n  background-repeat: no-repeat;\\n}\\n.nav-timeline-icon, .nav-access-image, .nav-timeline-prime-icon {\\n  background-image: url(https://images-na.ssl-images-amazon.com/images/G/01/gno/sprites/timeline_sprite_1x._CB276239408_.png);\\n  background-repeat: no-repeat;\\n}\\n\\n\\n\\n\\n\\n.ap_popover_unsprited .ap_body .ap_left{background-image:url(https://images-na.ssl-images-amazon.com/images/G/01/javascripts/lib/popover/images/po_left_17._V1_.png)}.ap_popover_unsprited .ap_body .ap_right{background-image:url(https://images-na.ssl-images-amazon.com/images/G/01/javascripts/lib/popover/images/po_right_17._V1_.png)}.ap_popover_unsprited .ap_header .ap_left{background-image:url(https://images-na.ssl-images-amazon.com/images/G/01/javascripts/lib/popover/images/po_top_left._V1_.png)}.ap_popover_unsprited .ap_header .ap_right{background-image:url(https://images-na.ssl-images-amazon.com/images/G/01/javascripts/lib/popover/images/po_top_right._V1_.png)}.ap_popover_unsprited .ap_header .ap_middle{background-image:url(https://images-na.ssl-images-amazon.com/images/G/01/javascripts/lib/popover/images/po_top._V1_.png)}.ap_popover_unsprited .ap_footer .ap_left{background-image:url(https://images-na.ssl-images-amazon.com/images/G/01/javascripts/lib/popover/images/po_bottom_left._V1_.png)}.ap_popover_unsprited .ap_footer .ap_right{background-image:url(https://images-na.ssl-images-amazon.com/images/G/01/javascripts/lib/popover/images/po_bottom_right._V1_.png)}.ap_popover_unsprited .ap_footer .ap_middle{background-image:url(https://images-na.ssl-images-amazon.com/images/G/01/javascripts/lib/popover/images/po_bottom._V1_.png)}.ap_popover_sprited .ap_body .ap_left,.ap_popover_sprited .ap_body .ap_right{background-image:url(https://images-na.ssl-images-amazon.com/images/G/01/javascripts/lib/popover/images/light/sprite-v._V1_.png)}.ap_popover_sprited .ap_closebutton,.ap_popover_sprited .ap_footer .ap_left,.ap_popover_sprited .ap_footer .ap_middle,.ap_popover_sprited .ap_footer .ap_right,.ap_popover_sprited .ap_header .ap_left,.ap_popover_sprited .ap_header .ap_middle,.ap_popover_sprited .ap_header .ap_right{background-image:url(https://images-na.ssl-images-amazon.com/images/G/01/javascripts/lib/popover/images/light/sprite-h._V1_.png)}.ap_popover_sprited .ap_body .ap_left-arrow,.ap_popover_sprited .ap_body .ap_right-arrow{background-image:url(https://images-na.ssl-images-amazon.com/images/G/01/javascripts/lib/popover/images/light/sprite-arrow-v._V1_.png)}.ap_popover{position:absolute;outline:0}.ap_body{height:100%;min-height:36px;position:relative;background-color:#fff;margin:0 17px}.ap_body .ap_left,.ap_popover_sprited .ap_body .ap_left-arrow{width:17px;height:100%;position:absolute;top:0;left:-17px;background-attachment:scroll;background-repeat:repeat-y}.ap_popover_sprited .ap_body .ap_left{background-position:0 top}.ap_body .ap_right,.ap_popover_sprited .ap_body .ap_right-arrow{width:17px;height:100%;position:absolute;top:0;right:-17px;background-attachment:scroll;background-repeat:repeat-y}.ap_popover_sprited .ap_body .ap_right{background-position:-51px top}.ap_footer,.ap_header{position:relative;width:100%}.ap_footer *,.ap_header *{height:26px}.ap_header .ap_left{position:absolute;top:0;left:0;width:34px;background-attachment:scroll;background-repeat:no-repeat}.ap_popover_sprited .ap_header .ap_left{background-position:left -2px}.ap_header .ap_right{width:34px;position:absolute;top:0;right:0;background-attachment:scroll;background-repeat:no-repeat}.ap_popover_sprited .ap_header .ap_right{background-position:right -2px}.ap_header .ap_middle{margin:0 34px;background-attachment:scroll;background-repeat:repeat-x}.ap_popover_sprited .ap_header .ap_middle{background-position:0 -70px}.ap_footer .ap_left{position:absolute;top:0;left:0;width:34px;background-attachment:scroll;background-repeat:no-repeat}.ap_popover_sprited .ap_footer .ap_left{background-position:left -40px}.ap_footer .ap_right{width:34px;position:absolute;top:0;right:0;background-attachment:scroll;background-repeat:no-repeat}.ap_popover_sprited .ap_footer .ap_right{background-position:right -40px}.ap_footer .ap_middle{margin:0 34px;background-attachment:scroll;background-repeat:repeat-x}.ap_popover_sprited .ap_footer .ap_middle{background-position:0 -108px}.ap_popover .ap_titlebar{display:none;position:absolute;left:0;top:0;background-color:#EAF3FE;border-bottom:1px solid #C2DDF2;font-size:14px;font-weight:700;margin:8px 18px;white-space:nowrap;overflow:hidden}.ap_popover .ap_titlebar.multiline{white-space:normal;overflow:visible}.ap_popover .ap_titlebar .ap_title{padding:4px 0;margin-left:10px;overflow:hidden}#ap_overlay,#ap_overlay div{background-color:#3F4C58;width:100%;position:absolute;top:0;left:0;z-index:99}.ap_popover .ap_close{position:absolute;right:18px;top:13px}.ap_popover .ap_close a{padding:5px;text-decoration:none;outline:0}.ap_popover .ap_close .ap_closetext{display:none;margin-right:5px;line-height:1em}.ap_popover .ap_closebutton{display:-moz-inline-box;display:inline-block;width:15px;height:15px;background-repeat:no-repeat;background-position:0 -136px;position:relative;overflow:hidden;vertical-align:top}.ap_popover .ap_closebutton span{position:absolute;top:-9999px}.ap_popover .ap_close img{vertical-align:top}.ap_classic{border-top:1px solid #ccc;border-left:1px solid #ccc;border-bottom:1px solid #2F2F1D;border-right:1px solid #2F2F1D;background-color:#EFEDD4;padding:3px}.ap_classic .ap_titlebar{color:#86875D;font-size:12px;padding:0 0 3px 0;line-height:1em}.ap_classic .ap_close{float:right}.ap_classic .ap_content{clear:both;background-color:#fff;border:1px solid #ACA976;padding:8px;font-size:11px}\\n\\n\\n\\n\\n(function(d,b,m){function c(a){return\"--private-amznjqshim-\"+a}function e(a,l){var b=c(l);d.now(b).execute(c(a+\"-\"+b)+\"-\"+f++,function(a){void 0===a&&d.declare(b,!0)})}function h(a){e(\"markRequested\",\"functionality-requested:\"+a)}function g(a){e(\"completedStage\",\"stage-\"+a)}b.goN2Debug||(b.goN2Debug={info:function(){}});\"use strict\";var f=0,k=b.amznJQ=new function(){this.addLogical=this.addStyle=this.addStyles=this.PLNow=this.windowOnLoad=function(){};this.declareAvailable=function(a){e(\"declaring\",\\na)};this.available=function(a,b){a=c(a);h(a);d.when(a,c(\"jQuery\")).execute(c(\"available-\"+a)+\"-\"+f++,b)};this.onReady=function(a,b){a=c(a);h(a);d.when(a,\"a-domready\",c(\"jQuery\")).execute(c(\"onReady-\"+a)+\"-\"+f++,b)};this.onCompletion=function(a,b){var e=c(\"stage-\"+a);d.when(e,c(\"jQuery\")).execute(b)};this.completedStage=function(a){g(a)};this.addPL=function(a){d.when(\"a-preload\").execute(c(\"Preloader\")+\"-\"+f++,function(b){b.preload(a)})};this.strings={};this.chars={}};d.when(\"load\").execute(c(\"fail-safe-stages\"),\\nfunction(){g(\"amznJQ.theFold\");g(\"amznJQ.criticalFeature\")});d.when(\"jQuery\").execute(\"define amznJQ jQuery\",function(a){b.jQuery||(b.jQuery=a);k.jQuery||(k.jQuery=a);e(\"declaring\",\"jQuery\")})})(window.P||window.AmazonUIPageJS,window,document);\\n(window.AmazonUIPageJS ? AmazonUIPageJS : P).when(\\'atf\\').execute(function(){\\n  (window.AmazonUIPageJS ? AmazonUIPageJS : P).load.js(\\'https://images-na.ssl-images-amazon.com/images/I/417QjYmMtBL.js?AUIClients/AmazonPopoversAUIShim#us\\');\\n  (window.AmazonUIPageJS ? AmazonUIPageJS : P).load.js(\\'https://images-na.ssl-images-amazon.com/images/I/31gnJjWvxPL._RC|11div+n5b+L.js,21lOtnkorWL.js,51CysS8km3L.js,31g6QUCju5L.js,21+4XneTXRL.js,318rs4piGPL.js,01jEqq6I0UL.js,0185ITV0M6L.js,41+MVzL0WbL.js,217XOv1WjVL.js,01Gx8DhrplL.js,011qZnP-NfL.js,11H+quk5jAL.js,21FBJlPfM6L.js,11ZdiaYG8gL.js,81Mo7y0dCeL.js,6179IBZcR+L.js,31UjTApGOPL.js,01LHJt5PiyL.js,11B9yJN+bnL.js,31Ac-cQ+ZWL.js,01fEkjo0KKL.js,0193uyIciNL.js,41D4kRuiy9L.js,31ad06VRAqL.js,11e9-8uUHQL.js,01s9HEfbt3L.js,11iHZuQapKL.js,61iXRFOTloL.js,11WBo+4152L.js,11MQqFPEK+L.js,41EDKFa-8YL.js,11G4c43OZvL.js,21Ug6yrFIdL.js,3133OUNaHqL.js,11jf5oS-4FL.js,01X2zigX4kL.js,210mdW2-ZEL.js,21mymEONFtL.js,61+TkNaM7yL.js,515EXqsrGfL.js,21OJDARBhQL.js,41s+OBPxTPL.js,01IWUb29Q4L.js,01JzE3-DfLL.js_.js?AUIClients/USHardlinesDetailPageMetaAssetFixed#desktop.us.164772-T1.141052-T1.146207-T1.172469-T1.155915-T1.111960-T1.146883-T1.151985-T1.136850-T1.123392-T1.114779-T1.120067-T1.131900-T1.184660-C.162909-C.108310-T1.156391-T1.80562-T1.107686-T1.172346-T1.133003-T1\\');\\n  (window.AmazonUIPageJS ? AmazonUIPageJS : P).load.js(\\'https://images-na.ssl-images-amazon.com/images/I/21e71NrLt3L._RC|11Ze1YhMgJL.js,21Wa0ZZVAmL.js,31qpl48GBDL.js,41UXUgXh7tL.js,31bQ6uPDcgL.js,312xLUEw6sL.js,51EkUAdxEhL.js,21NDIsf0a1L.js,015TRQC5i+L.js,61e7xszHEhL.js,01lcH4zcTaL.js,01OtvpwikQL.js,51TAluzWqWL.js,01qwoVEkKlL.js,21mR+GlPoIL.js,01qXU4-2A0L.js,11wTwl+500L.js,517jAXjzzNL.js,01qPwv8D5hL.js,01YivelYW5L.js,016QFWAAdML.js,41dzl0sSZuL.js,11Gx+6S5O-L.js,21IZ0MO8WtL.js,41FZjmiJywL.js,017s5z---TL.js,31ZS5TQVWDL.js,51p2fLVTtlL.js,51ldtX6xp6L.js,21w43LSQ1-L.js,01FOcSLtmBL.js_.js?AUIClients/USHardlinesDetailPageMetaAssetVariable_TURBO_DESKTOP#desktop.us.171964-T1.137613-T1.159929-T1.146207-T1.167162-T1.153662-T1.103061-T1.123392-T1.153197-T1.150150-T1.152622-T1.127433-T1.126331-T1.179985-T1.87783-T2.159402-T1.108343-T1.109378-T1.143147-T1.147957-T1.154031-T1.171818-T1.169593-T1\\');\\n});\\n\\n{\"deviceType\":\"web\"}\\n{\"widgetSchema\":\"dp:widget:\",\"dimensionSchema\":\"dp:dims:\"}\\n\\n\\n  #cm_cr_dpwidget .a-size-micro {\\n    font-size: 9px;\\n  } \\n\\n  #cm_cr_dpwidget .c7yTopDownDashedStrike {\\n    border-top: 1px dashed #A9A9A9;\\n    border-bottom: 1px dashed #A9A9A9;\\n  }\\n\\n  #cm_cr_dpwidget .c7yBadgeAUI {\\n    text-transform: uppercase;\\n    letter-spacing: 0.5px;\\n    padding: 2px;\\n    white-space: nowrap;\\n  }\\n\\n\\n.nav-sprite-v1 .nav-sprite, .nav-sprite-v1 .nav-icon {\\n  background-image: url(https://images-na.ssl-images-amazon.com/images/G/01/gno/sprites/nav-sprite-global_bluebeacon-V3-1x_optimized._CB483188077_.png);\\n  background-position: 0 1000px;\\n  background-repeat: repeat-x;\\n}\\n.nav-spinner {\\n  background-image: url(https://images-na.ssl-images-amazon.com/images/G/01/javascripts/lib/popover/images/snake._CB192571611_.gif);\\n  background-position: center center;\\n  background-repeat: no-repeat;\\n}\\n.nav-timeline-icon, .nav-access-image, .nav-timeline-prime-icon {\\n  background-image: url(https://images-na.ssl-images-amazon.com/images/G/01/gno/sprites/timeline_sprite_1x._CB276239408_.png);\\n  background-repeat: no-repeat;\\n}\\n\\n\\n  \\n    .tagEdit {\\n      padding-bottom:4px;\\n      padding-top:4px;\\n    }\\n\\n    .edit-tag {\\n      width: 155px;\\n      margin-left: 10px;\\n    }\\n\\n    .list-tags {\\n      white-space: nowrap;\\n      padding: 1px 0px 0px 0px;\\n    }\\n\\n   #suggest-table {\\n      display: none;\\n      position: absolute;\\n      z-index: 2;\\n      background-color: #fff;\\n      border: 1px solid #9ac;\\n    }\\n\\n    #suggest-table tr td{\\n      color: #333;\\n      font: 11px Verdana, sans-serif;\\n      padding: 2px;\\n    }\\n\\n    #suggest-table tr.hovered {\\n      color: #efedd4;\\n      background-color: #9ac;\\n    }\\n\\n  \\n  .see-popular {\\n    padding: 1.3em 0 0 0;\\n  }\\n\\n  .tag-cols {\\n    border-collapse: collapse;\\n  }\\n\\n  .tag-cols td {\\n    vertical-align: top;\\n    width: 250px;\\n    padding-right: 30px;\\n  }\\n\\n  .tag-cols .tag-row {\\n    padding: 0 0 7px 0px;\\n  }\\n\\n  .tag-cols .see-all {\\n    white-space: nowrap;\\n    padding-top: 5px;\\n  }\\n\\n  .tags-piles-feedback {\\n    display: none;\\n    color: #000;\\n    font-size: 0.9em;\\n    font-weight: bold;\\n    margin: 0px 0 0 0;\\n   }\\n\\n  .tag-cols i {\\n    display: none;\\n    cursor: pointer;\\n    cursor: hand;\\n    float: left;\\n    font-style: normal;\\n    font-size: 0px;\\n    vertical-align: bottom;\\n    width: 16px;\\n    height: 16px;\\n    margin-top: 1px;\\n    margin-right: 3px;\\n  }\\n\\n  .tag-cols .snake {\\n    display: block;\\n    background: url(\\'https://images-na.ssl-images-amazon.com/images/G/01/x-locale/communities/tags/graysnake._CB192250049_.gif\\');\\n  }\\n\\n  #tagContentHolder .tip {\\n    display: none;\\n    color: #999;\\n    font-size: 10px;\\n    padding-top: 0.25em;\\n  }\\n\\n  #tagContentHolder .tip a {\\n    color: #999 !important;\\n    text-decoration: none !important;\\n    border-bottom: solid 1px #CCC;\\n  }\\n\\n  .nowrap {\\n    white-space: nowrap;\\n  }\\n\\n  #tgEnableVoting {\\n    display: none;\\n  }\\n\\n  #tagContentHolder .count {\\n    color: #666;\\n    font-size: 10px;\\n    margin-left: 3px;\\n    white-space: nowrap;\\n  }\\n\\n  .count.tgVoting {\\n    cursor: pointer;\\n  }\\n\\n  .tgVoting .tgCounter {\\n    margin-right: 3px;\\n    border-bottom: 1px dashed #003399;\\n    color: #003399;\\n  }\\n\\n\\n.c2c-inline-sprite {\\n    display: -moz-inline-box;\\n    display: inline-block;\\n    margin: 0;padding: 0; \\n    position: relative;\\n    overflow: hidden;\\n    vertical-align: middle;\\n    background-image: url(https://images-na.ssl-images-amazon.com/images/G/01/electronics/click2call/click2call-sprite._CB156431432_.png);\\n    background-repeat: no-repeat;\\n}\\n.c2c-inline-sprite span {\\n    position:absolute;\\n    top:-9999px;\\n}\\n\\n.dp-call-me-button {\\n    width:52px;\\n    height:22px;\\n    background-position:0px -57px; \\n}\\n\\n\\n/* Different sprites/images used CSS Start */\\n.swSprite {background-image: url(https://images-na.ssl-images-amazon.com/images/G/01/common/sprites/sprite-site-wide-3._CB375430972_.png); }\\n.dpSprite {background-image: url(https://images-na.ssl-images-amazon.com/images/G/01/common/sprites/sprite-dp-2._CB384267953_.png); }\\n.wl-button-sprite {background-image: url(https://images-na.ssl-images-amazon.com/images/G/01/x-locale/communities/wishlist/add-to-wl-button-sprite._CB192250042_.gif); }\\n.cBoxTL, .cBoxTR, .cBoxBL, .cBoxBR { background-image:url(https://images-na.ssl-images-amazon.com/images/G/01/common/sprites/sprite-site-wide-2._CB146303866_.png); }\\n.auiTestSprite { background: url(https://images-na.ssl-images-amazon.com/images/G/01/nav2/images/sprite-carousel-btns-stars2._CB376388587_.png) no-repeat scroll 0 0 transparent; }\\nspan.amtchelp { background: url(https://images-na.ssl-images-amazon.com/images/G/01/SellerForums/amz/images/help-16x16._CB137691369_.gif) no-repeat scroll right bottom transparent; }\\n.shuttleGradient { background: url(https://images-na.ssl-images-amazon.com/images/G/01/x-locale/communities/customerimage/shuttle-gradient._CB192250138_.gif); }\\n.twisterPopoverArrow { background: url(https://images-na.ssl-images-amazon.com/images/G/01/gateway/csw/tri-down._CB155542082_.png); }\\n#finderUpdateButton img, #finderShowMoreDevicesLink, #finderHideMoreDevicesLink {background-image: url(https://images-na.ssl-images-amazon.com/images/G/01/nav2/finders/finder-fits-sprites._CB192545788_.gif);}\\n.cmtySprite { background-image: url(https://images-na.ssl-images-amazon.com/images/G/01/common/sprites/sprite-communities._CB320811603_.png); background-repeat: no-repeat; }\\n\\n/* Different sprites/images used CSS End */\\n\\n\\n\\n/* Best Seller Badging */\\n.simsWrapper .shoveler ul { height: 220px;}\\n\\n\\n  .medSprite { background-image: url(\\'https://images-na.ssl-images-amazon.com/images/G/01/common/sprites/sprite-media-platform._CB247725847_.png\\'); background-repeat: no-repeat; }\\n\\n\\n\\n<!--\\nfunction amz_js_PopWin(url,name,options){\\n  var ContextWindow = window.open(url,name,options);\\n  ContextWindow.focus();\\n  return false;\\n}\\n//-->\\n\\n\\n\\n\\n\\n\\nAmazon.com : Dove Dark Chocolate Bar- 18/Box : Grocery & Gourmet Food\\n\\n\\n\\n// =============================================================================\\n// Function Class: Show/Hide product promotions & special offers link\\n// =============================================================================\\n\\nfunction showElement(id) {\\n  var elm = document.getElementById(id);\\n  if (elm) {\\n    elm.style.visibility = \\'visible\\';\\n    if (elm.getAttribute(\\'name\\') == \\'heroQuickPromoDiv\\') {\\n      elm.style.display = \\'block\\';\\n    }\\n  }\\n}\\nfunction hideElement(id) {\\n  var elm = document.getElementById(id);\\n  if (elm) {\\n    elm.style.visibility = \\'hidden\\';\\n    if (elm.getAttribute(\\'name\\') == \\'heroQuickPromoDiv\\') {\\n      elm.style.display = \\'none\\';\\n    }\\n  }\\n}\\nfunction showHideElement(h_id, div_id) {\\n  var hiddenTag = document.getElementById(h_id);\\n  if (hiddenTag) {\\n    showElement(div_id);\\n  } else {\\n    hideElement(div_id);\\n  }\\n}\\n\\n    if(typeof P === \\'object\\' && typeof P.when === \\'function\\'){\\n    P.register(\"isLazyLoadWeblabEnabled\", function(){\\n        var  isWeblabEnabled = 1;\\n        return isWeblabEnabled;\\n      });\\n    }\\n\\n\\twindow.isBowserFeatureCleanup = 0;\\n\\t\\nvar touchDeviceDetected = false;\\n\\n\\n        P.when(\\'atf\\').register(\\'sp.load.js\\');\\n\\n\\nvar CSMReqs={af:{c:2,p:\\'atf\\'},cf:{c:2,p:\\'cf\\'},x1:{c:1,p:\\'x1\\'},x2:{c:1,p:\\'x2\\'}};\\nfunction setCSMReq(a){\\n    a=a.toLowerCase();\\n    var b=CSMReqsa;\\n    if(b&&--b.c==0){\\n        if(typeof uet==\\'function\\'){uet(a); (a == \\'af\\') && (typeof replaceImg === \\'function\\') && replaceImg();};\\n        if(typeof P != \\'undefined\\'){\\n            P.register(b.p);\\n            if(a == \\'af\\') {\\n                if(typeof uet === \\'function\\') {\\n                    uet(\\'bb\\', \\'TwisterAUIWait\\', {wb: 1});\\n                }\\n            }\\n        };\\n    }\\n}\\nif(typeof P != \\'undefined\\') {\\n    P.when(\\'A\\').execute(function(A) {\\n        if(typeof uet === \\'function\\') {\\n            uet(\\'af\\', \\'TwisterAUIWait\\', {wb: 1});\\n        }\\n    });\\n}\\n\\nvar addlongPoleTag = function(marker,customtag){\\n    marker=marker.toLowerCase();\\n    var b=CSMReqsmarker;\\n    if(b.c == 0){\\n        if(window.ue && typeof ue.tag === \\'function\\') {\\n            ue.tag(customtag);\\n        }\\n    }\\n};\\n;(function(_onerror){\\n  var old_error_handler = _onerror;\\n  var attributionMap = {\\n          \"BrowserAddon\":{\\n            logLevel: \"ERROR\",\\n            files:\\n                /^res:\\\\/\\\\//, \\n                /^resource:\\\\/\\\\//, /^chrome:\\\\/\\\\//, \\n                /^chrome-extension:\\\\/\\\\//, /^extensions\\\\//, \\n                /^file:\\\\/\\\\/\\\\//, /^chrome\\\\/RendererExtensionBindings/, \\n                /^plugin\\\\/amazon_com_detail\\\\.js/, \\n                /^miscellaneous_bindings/, \\n              \\n                // plugin in china\\n                /^http.?:\\\\/\\\\/(^\\\\s\\\\.+\\\\.)*qhimg\\\\.com/,\\n              \\n                // plugin in India\\n                /^http.?:\\\\/\\\\/(^\\\\s\\\\.+\\\\.)*datafastguru\\\\.info/,\\n\\n                /^http.?:\\\\/\\\\/sc1\\\\.checkpoint\\\\.com\\\\/dev\\\\/abine\\\\/scripts\\\\/inject\\\\.js/,\\n\\n                /^http.?:\\\\/\\\\/(^\\\\s\\\\.+\\\\.)*image2play\\\\.com/,\\n\\n                /^http.?:\\\\/\\\\/(^\\\\s\\\\.+\\\\.)*wajam\\\\.com/,\\n\\n                /^http.?:\\\\/\\\\/(^\\\\s\\\\.+\\\\.)*ydstatic\\\\.com/,\\n\\n\\t\\t/^https?:\\\\/\\\\/(^\\\\s\\\\.+\\\\.)*googleapis\\\\.com\\\\/ajax\\\\/libs\\\\/jquery/,\\n\\n\\t\\t/^https?:\\\\/\\\\/www\\\\.superfish\\\\.com\\\\/ws/,\\n\\n\\t\\t/^https?:\\\\/\\\\/api.imideo.com\\\\/v2/,\\n\\n\\t\\t/^https?:\\\\/\\\\/minibar.iminent.com/,\\n\\n\\t\\t/^https?:\\\\/\\\\/translate.googleusercontent.com/,\\n\\t\\n\\t\\t/^includes\\\\/helper/\\n            \\n          }\\n  };\\n\\n    function findMatch(f){\\n\\tfor(var attribution in attributionMap){\\n\\t    var i=0;\\n\\t    var attributionValue = attributionMapattribution;\\n\\t    var files = attributionValue\\'files\\';\\n\\t    while(filesi){\\n\\t\\tif(f.match(filesi)){\\n\\t            var exception={};\\n\\t\\t    exception.attribution = attribution;\\n\\t\\t    if(attributionValue.hasOwnProperty(\"logLevel\")){\\n\\t\\t\\texception.logLevel = attributionValue\\'logLevel\\';\\t\\n\\t\\t    }\\n\\t\\treturn exception;\\n           \\t}\\n\\t\\ti++;\\n\\t    }\\n        }\\n\\treturn null;\\n    }\\n\\n\\n    function dpOnErrorOverride(message, file, line, col, error){\\n     var matchingErrorFound = false;\\n     if(typeof file == \"string\"){\\n        try{\\n\\t    var jsException = findMatch(file);\\n\\t    if(jsException && typeof jsException === \"object\"){\\n                jsException.m =  message;\\n                jsException.f = file;\\n                jsException.l = line;\\n                jsException.c =  \"\" + (col || \"\");\\n                jsException.err =  error;\\n                jsException.fromOnError = 1;\\n                jsException.args = arguments;\\n                if(window.ueLogError){\\n               \\t    window.ueLogError(jsException);\\n\\t\\t    matchingErrorFound = true;\\n\\t\\t    if(ue && ue.count){\\n\\t\\t        ue.count(\"dpJavascriptAffectedErrors\", (ue.count(\"dpJavascriptAffectedErrors\") || 0) + 1);\\n\\t\\t        ue.count(\"dpJSError\" + jsException.attribution, (ue.count(\"dpJSError\" + jsException.attribution) || 0) + 1);\\n\\t\\t    }\\n\\t        }\\n            }\\n\\t}catch(exception){\\n\\t    if(window.ueLogError){\\n\\t        window.ueLogError(exception,{message: \"dpOnErrorOverride: error occurred - \", logLevel:\"FATAL\"});\\n\\t    }\\n\\t}\\n    }\\n\\tif(!matchingErrorFound){ \\n          old_error_handler.apply(this, arguments);\\n\\t}\\n        return false;\\n    }\\n\\n      dpOnErrorOverride.skipTrace = 1;\\n      window.onerror = dpOnErrorOverride;\\n    })(window.onerror);\\n\\n\\nvar gbEnableTwisterJS  = 0;\\nvar isTwisterPage = 0;\\n\\n\\n\\n/* Override for Native DropDown changes */\\n       #buybox_feature_div .a-native-dropdown, #buybox .a-native-dropdown { opacity: 1; filter: alpha(opacity=100); z-index: auto; position: static; display: inline; font-weight: normal;}\\n       #buybox_feature_div label.a-native-dropdown, #buybox label.a-native-dropdown {padding-right: 5px;}\\n       #buybox_feature_div .a-dropdown-container .a-button-dropdown, #buybox .a-dropdown-container .a-button-dropdown  { display: none !important;}\\n     #buybox_feature_div #OneClickBox, #buybox #OneClickBox { text-align:center;}\\n     #buybox_feature_div #oneClickAvailable, #buybox #oneClickAvailable { text-align:center;}\\n     #defaultChildDropdown_feature_div .a-native-dropdown { display: inline;}\\n     #defaultChildDropdown_feature_div .a-dropdown-container .a-button-dropdown { display: none !important;}\\n\\n\\n\\n\\n\\nP.when(\"p-detect\").execute(function() {\\n    var h = document.documentElement;\\n    h.className = h.className.replace(/(^|\\\\b)a-touch(\\\\b|$)/g,\"\");\\n});\\n\\nwindow.weblabs = {};\\n\\n\\n\\n\\nwindow.ue_ihe = (window.ue_ihe || 0) + 1;\\nif (window.ue_ihe === 1) {\\n(function(e,c){function h(b,a){f.push(b,a)}function g(b,a){if(b){var c=e.head||e.getElementsByTagName(\"head\")0||e.documentElement,d=e.createElement(\"script\");d.async=\"async\";d.src=b;d.setAttribute(\"crossorigin\",\"anonymous\");a&&a.onerror&&(d.onerror=a.onerror);a&&a.onload&&(d.onload=a.onload);c.insertBefore(d,c.firstChild)}}function k(){ue.uels=g;for(var b=0;b<f.length;b++){var a=fb;g(a0,a1)}ue.deffered=1}var f=;c.ue&&(ue.uels=h,c.ue.attach&&c.ue.attach(\"load\",k))})(document,window);\\n(function(k,l,g){function m(a){c||(c=ba.type.id,\"undefined\"===typeof a.clientX?(e=a.pageX,f=a.pageY):(e=a.clientX,f=a.clientY),2!=c||h&&(h!=e||n!=f)?(r(),d.isl&&l.setTimeout(function(){p(\"at\",d.id)},0)):(h=e,n=f,c=0))}function r(){for(var a in b)b.hasOwnProperty(a)&&d.detach(a,m,ba.parent)}function s(){for(var a in b)b.hasOwnProperty(a)&&d.attach(a,m,ba.parent)}function t(){var a=\"\";!q&&c&&(q=1,a+=\"&ui=\"+c);return a}var d=k.ue,p=k.uex,q=0,c=0,h,n,e,f,b={click:{id:1,parent:g},mousemove:{id:2,\\nparent:g},scroll:{id:3,parent:l},keydown:{id:4,parent:g}};d&&p&&(s(),d._ui=t)})(ue_csm,window,document);\\n\\n\\n\\n    if (window.ue && window.ue.uels) {\\n            var cel_widgets =  { \"c\":\"celwidget\" },{ \"c\":\"feature\" } ;\\n\\n                ue.uels(\"https://images-na.ssl-images-amazon.com/images/G/01/AUIClients/ClientSideMetricsAUIJavascript@jserrorsForester.10f2559e93ec589d92509318a7e2acbac74c343a._V2_.js\");\\n    }\\n\\n(function(k,c){function l(a,b){return a.filter(function(a){return a.initiatorType==b})}function f(a,c){if(b.ta){var g=b.ta-b._t0,e=c.filter(function(a){return 0!==a.responseEnd&&m(a)<g}),f=l(e,\"script\"),h=l(e,\"link\"),k=l(e,\"img\"),n=e.map(function(a){return a.name.split(\"/\")2}).filter(function(a,b,c){return a&&c.lastIndexOf(a)==b}),q=e.filter(function(a){return a.duration<p}),s=g-Math.max.apply(null,e.map(m))<r|0;\"af\"==a&&(b._afjs=f.length);return a+\":\"+ed,fd,hd,kd,nd,qd,s.join(\"-\")}}\\nfunction m(a){return a.responseEnd-(b._t0-c.timing.navigationStart)}function n(){var a=ch(\"resource\"),d=f(\"cf\",a),g=f(\"af\",a),a=f(\"ld\",a);delete b._rt;b._ld=b.t.ld-b._t0;b._art&&b._art();returnd,g,a.join(\"_\")}var p=20,r=50,d=\"length\",b=k.ue,h=\"getEntriesByType\";b._rre=m;b._rt=c&&c.timing&&ch&&n})(ue_csm,window.performance);\\n\\n\\n(function(s,l){function m(b,e,c){c=c||new Date(+new Date+t);c=\"expires=\"+c.toUTCString();n.cookie=b+\"=\"+e+\";\"+c+\";path=/\"}function p(b){b+=\"=\";for(var e=n.cookie.split(\";\"),c=0;c<e.length;c++){for(var a=ec;\" \"==a.charAt(0);)a=a.substring(1);if(0===a.indexOf(b))return decodeURIComponent(a.substring(b.length,a.length))}return\"\"}function q(b,e,c){if(!e)return b;-1<b.indexOf(\"{\")&&(b=\"\");for(var a=b.split(\"&\"),f,d=!1,h=!1,g=0;g<a.length;g++)f=ag.split(\":\"),f0==e?(!c||d?a.splice(g,1):(f1=c,ag=\\nf.join(\":\")),h=d=!0):2>f.length&&(a.splice(g,1),h=!0);h&&(b=a.join(\"&\"));!d&&c&&(0<b.length&&(b+=\"&\"),b+=e+\":\"+c);return b}var k=s.ue||{},t=6048E7,n=ue_csm.document||l.document,r=null,d;a:{try{d=l.localStorage;break a}catch(u){}d=void 0}k.count&&k.count(\"csm.cookieSize\",document.cookie.length);k.cookie={get:p,set:m,updateCsmHit:function(b,e,c){try{var a;if(!(a=r)){var f;a:{try{if(d&&d.getItem){f=d.getItem(\"csm-hit\");break a}}catch(k){}f=void 0}a=f||p(\"csm-hit\")||\"{}\"}a=q(a,b,e);r=a=q(a,\"t\",+new Date);\\ntry{d&&d.setItem&&d.setItem(\"csm-hit\",a)}catch(h){}m(\"csm-hit\",a,c)}catch(g){\"function\"==typeof l.ueLogError&&ueLogError(Error(\"Cookie manager: \"+g.message),{logLevel:\"WARN\"})}}}})(ue_csm,window);\\n\\n(function(l,d){function c(b){b=\"\";var c=a.isBFT?\"b\":\"s\",d=\"\"+a.oid,f=\"\"+a.lid,g=d;d!=f&&20==f.length&&(c+=\"a\",g+=\"-\"+f);a.tabid&&(b=a.tabid+\"+\");b+=c+\"-\"+g;b!=e&&100>b.length&&(e=b,a.cookie?a.cookie.updateCsmHit(m,b+(\"|\"+ +new Date)):document.cookie=\"csm-hit=\"+b+(\"|\"+ +new Date)+n+\"; path=/\")}function p(){e=0}function h(b){!0===da.pageViz.propHid?e=0:!1===da.pageViz.propHid&&c({type:\"visible\"})}var n=\"; expires=\"+(new Date(+new Date+6048E5)).toGMTString(),m=\"tb\",e,a=l.ue||{},k=a.pageViz&&a.pageViz.event&&\\na.pageViz.propHid;a.attach&&(a.attach(\"click\",c),a.attach(\"keyup\",c),k||(a.attach(\"focus\",c),a.attach(\"blur\",p)),k&&(a.attach(a.pageViz.event,h,d),h({})));a.aftb=1})(ue_csm,document);\\n\\n\\nue_csm.ue.stub(ue,\"impression\");\\n\\n\\n(function(k,d,h){function f(a,c,b){a&&a.indexOf&&0===a.indexOf(\"http\")&&0!==a.indexOf(\"https\")&&l(s,c,a,b)}function g(a,c,b){a&&a.indexOf&&(location.href.split(\"#\")0!=a&&null!==a&&\"undefined\"!==typeof a||l(t,c,a,b))}function l(a,c,b,e){mb||(e=u&&e?n(e):\"N/A\",d.ueLogError&&d.ueLogError({message:a+c+\" : \"+b,logLevel:v,stack:\"N/A\"},{attribution:e}),mb=1,p++)}function e(a,c){if(a&&c)for(var b=0;b<a.length;b++)try{c(ab)}catch(d){}}function q(){return d.performance&&d.performance.getEntriesByType?\\nd.performance.getEntriesByType(\"resource\"):}function n(a){if(a.id)return\"//*@id=\\'\"+a.id+\"\\'\";var c;c=1;var b;for(b=a.previousSibling;b;b=b.previousSibling)b.nodeName==a.nodeName&&(c+=1);b=a.nodeName;1!=c&&(b+=\"\"+c+\"\");a.parentNode&&(b=n(a.parentNode)+\"/\"+b);return b}function w(){var a=h.images;a&&a.length&&e(a,function(a){var b=a.getAttribute(\"src\");f(b,\"img\",a);g(b,\"img\",a)})}function x(){var a=h.scripts;a&&a.length&&e(a,function(a){var b=a.getAttribute(\"src\");f(b,\"script\",a);g(b,\"script\",a)})}\\nfunction y(){var a=h.styleSheets;a&&a.length&&e(a,function(a){if(a=a.ownerNode){var b=a.getAttribute(\"href\");f(b,\"style\",a);g(b,\"style\",a)}})}function z(){if(A){var a=q();e(a,function(a){f(a.name,a.initiatorType)})}}function B(){e(q(),function(a){g(a.name,a.initiatorType)})}function r(){var a;a=d.location&&d.location.protocol?d.location.protocol:void 0;\"https:\"==a&&(z(),w(),x(),y(),B(),p<C&&setTimeout(r,D))}var s=\"CSM Insecure content detected \",t=\"CSM Ajax request to same page detected \",v=\"WARN\",\\nm={},p=0,D=k.ue_nsip||1E3,C=5,A=1==k.ue_urt,u=!0;ue_csm.ue_disableNonSecure||(d.performance&&d.performance.setResourceTimingBufferSize&&d.performance.setResourceTimingBufferSize(300),r())})(ue_csm,window,document);\\n\\n(function(d){d.ue_cel_stub||(d.ue_cel_stub=function(){var b={};return{registerModule:function(a,c){ba||(ba=c,ba.on())},replayModule:function(a,c){ba&&(ba.replay(c),ba.off(),delete ba)}}}())})(ue_csm);\\n(function(a,d,h){a.ue_mcm_stub||a.ue&&a.ue.isBF||(a.ue_mcm_stub=function(){function e(a){var b=c.d(),e=(d.body||{}).scrollWidth,k=(d.body||{}).scrollHeight,f;h&&\"function\"===typeof h.now&&a.timeStamp&&(f=h.now()-a.timeStamp,f=parseFloat(f.toFixed(2)));g.push({rawEvent:a,additionalData:{ots:b,ow:e,oh:k,odt:f}})}var c=a.ue,g=;return{on:function(){c.attach&&c.attach(\"click\",e,d)},off:function(){c.detach&&c.detach(\"click\",e,d)},replay:function(a){for(var b=0;b<g.length;b++)a(gb.rawEvent,gb.additionalData)}}}(),\\na.ue_cel_stub&&a.ue_cel_stub.registerModule(\"mcm\",a.ue_mcm_stub))})(ue_csm,document,window.performance);\\n\\n\\nue.stub(ue,\"trigger\");ue.trigger&&ue.trigger(\"CSM_CLIENT_WEBLAB_TRIGGER\",\"C\");\\n\\n\\nif(window.ue&&uet) { uet(\\'bb\\'); }\\n\\n}\\n\\n\\nwindow.P && P.register(\\'bb\\');\\nif (typeof ues === \\'function\\') {\\n  ues(\\'t0\\', \\'portal-bb\\', new Date());\\n  ues(\\'ctb\\', \\'portal-bb\\', 1);\\n}\\n\\n\\n{\"AUI_160684\":\"C\",\"AUI_157141\":\"C\",\"AUI_TNR_V2_180836\":\"C\",\"AUI_UX_114039\":\"C\",\"AUI_UX_113788\":\"C\",\"AUI_UX_145937\":\"C\",\"AUI_57326\":\"C\",\"AUI_158613\":\"C\",\"AUI_149818\":\"C\",\"AUI_72554\":\"C\",\"AUI_BOLT_62845\":\"C\",\"AUI_UX_60000\":\"C\",\"AUI_ATTR_VALIDATIONS_1_51371\":\"C\",\"AUI_ACCESSIBILITY_49860\":\"C\",\"AUI_152852\":\"C\",\"AUI_PERF_130093\":\"C\",\"AUI_UX_138741\":\"C\"}typeof uex === \\'function\\' && uex(\\'ld\\', \\'portal-bb\\', {wb: 1})\\n\\n\\n\\n(function(d){document.createElement(\"header\");function b(e){return.slice.call(e)}function c(f,e){return{m:f,a:b(e)}}var a=function(f){var g={};g._sourceName=f;g._replay=;g.getNow=function(i,h){return h};function e(i,h,j){ij=function(){g._replay.push(h.concat(c(j,arguments)))}}g.when=function(){var i=c(\"when\",arguments);var h={};e(h,i,\"run\");e(h,i,\"declare\");e(h,i,\"publish\");e(h,i,\"build\");return h};e(g,,\"declare\");e(g,,\"build\");e(g,,\"publish\");e(g,,\"importEvent\");a._shims.push(g);return g};a._shims=;if(!d.$Nav){d.$Nav=a(\"rcx-nav\")}if(!d.$Nav.make){d.$Nav.make=a}}(window));\\n$Nav.importEvent(\\'navbarJS-beaconbelt\\');\\n$Nav.declare(\\'img.sprite\\', {\\n  \\'png8\\': \\'https://images-na.ssl-images-amazon.com/images/G/01/gno/sprites/global-sprite_bluebeacon-v1._CB327533540_.png\\',\\n  \\'png32\\': \\'https://images-na.ssl-images-amazon.com/images/G/01/gno/sprites/nav-sprite-global_bluebeacon-V3-1x_optimized._CB483188077_.png\\',\\n  \\'png32-2x\\': \\'https://images-na.ssl-images-amazon.com/images/G/01/gno/sprites/nav-sprite-global_bluebeacon-V3-2x_optimized._CB474516457_.png\\'\\n});\\nwindow._navbarSpriteUrl = \\'https://images-na.ssl-images-amazon.com/images/G/01/gno/sprites/nav-sprite-global_bluebeacon-V3-1x_optimized._CB483188077_.png\\';\\n$Nav.declare(\\'img.pixel\\', \\'https://images-na.ssl-images-amazon.com/images/G/01/x-locale/common/transparent-pixel._CB386942464_.gif\\');\\n\\n\\n\\n\\n\\n(window.AmazonUIPageJS ? AmazonUIPageJS : P).when(\\'navCF\\').execute(function(){\\n  (window.AmazonUIPageJS ? AmazonUIPageJS : P).load.js(\\'https://images-na.ssl-images-amazon.com/images/I/41hnizKJASL._RC|71SIAV5MN4L.js,61ybdwam-8L.js,41MSv8-3arL.js,113NkCQYmFL.js,01wBjiz9OvL.js,21YI5xZWAwL.js,31SFwv+1S1L.js,51+klsvwgqL.js,31Sch+N9NhL.js_.js?AUIClients/AmazonNavigationDesktopMetaAsset#desktop\\');\\n});\\n\\n\\n\\n\\n\\n\\n    if(window.navmet===undefined) {\\n      window.navmet=;\\n      if (window.performance && window.performance.timing && window.ue_t0) {\\n        var t = window.performance.timing;\\n        var now = + new Date();\\n        window.navmet.basic = {\\n          \\'networkLatency\\': (t.responseStart - t.fetchStart),\\n          \\'navFirstPaint\\': (now - t.responseStart),\\n          \\'NavStart\\': (now - window.ue_t0)\\n        };\\n      }\\n    }\\n\\nwindow.navmet.tmp=+new Date();\\n\\n    window.uet && uet(\\'ns\\');\\n    window._navbar = (function (o) {\\n      o.componentLoaded = o.loading = function(){};\\n      o.browsepromos = {};\\n      o.issPromos = ;\\n      return o;\\n    }(window._navbar || {}));\\n    window._navbar.declareOnLoad = function () { window.$Nav && $Nav.declare(\\'page.load\\'); };\\n    if (window.addEventListener) {\\n      window.addEventListener(\"load\", window._navbar.declareOnLoad, false);\\n    } else if (window.attachEvent) {\\n      window.attachEvent(\"onload\", window._navbar.declareOnLoad);\\n    } else if (window.$Nav) {\\n      $Nav.when(\\'page.domReady\\').run(\"OnloadFallbackSetup\", function () {\\n        window._navbar.declareOnLoad();\\n      });\\n    }\\n    window.$Nav && $Nav.declare(\\'logEvent.enabled\\',\\n      \\'false\\');\\n\\n    window.$Nav && $Nav.declare(\\'config.lightningDeals\\', {});\\n  \\n\\n      div#navSwmHoliday.nav-focus {border: none;margin: 0;}\\n    \\n\\n      try {\\n        if(window.navmet===undefined)window.navmet=; if(window.$Nav) { $Nav.when(\\'$\\', \\'config\\', \\'flyout.accountList\\', \\'SignInRedirect\\', \\'dataPanel\\').run(\\'accountListRedirectFix\\', function ($, config, flyout, SignInRedirect, dataPanel) { if (!config.accountList) { return; } flyout.getPanel().onData(function (data) { if (SignInRedirect) { var $anchors = $(\\'data-nav-role=signin\\', flyout.elem()); $.each($anchors, function(i, anchorEl) {SignInRedirect.setRedirectUrl($(anchorEl), null, null);});}});}); $Nav.when(\\'$\\', \\'config\\').run(\\'subnavSpacious\\', function ($, config) {if(config.pageType === \\'ShoppingCart\\' && config.subPageType === \\'NewHUC\\') { $(\\'#nav-subnav.spacious\\').hide(); }}); $Nav.when(\\'$\\').run(\\'defineIsArray\\', function(jQuery) { if(jQuery.isArray===undefined) { jQuery.isArray=function(param) { if(param.length===undefined) { return false; } return true; }; } }); $Nav.declare(\\'config.cartFlyoutDisabled\\', \\'true\\'); $Nav.when(\\'$\\',\\'$F\\',\\'config\\',\\'logEvent\\',\\'panels\\',\\'phoneHome\\',\\'dataPanel\\',\\'flyouts.renderPromo\\',\\'flyouts.sloppyTrigger\\',\\'flyouts.accessibility\\',\\'util.mouseOut\\',\\'util.onKey\\',\\'debug.param\\').build(\\'flyouts.buildSubPanels\\',function($,$F,config,logEvent,panels,phoneHome,dataPanel,renderPromo,createSloppyTrigger,a11yHandler,mouseOutUtility,onKey,debugParam){var flyoutDebug=debugParam(\\'navFlyoutClick\\');return function(flyout,event){var linkKeys=;$(\\'.nav-item\\',flyout.elem()).each(function(){var $item=$(this);linkKeys.push({link:$item,panelKey:$item.attr(\\'data-nav-panelkey\\')});});if(linkKeys.length===0){return;} var visible=false;var $parent=$(\\'<div class=\\\\\\'nav-subcats\\\\\\'></'\n",
      "\n",
      " Рекомендуем Вам посмотреть на 'Green Mountain Coffee French Vanilla Keurig K-Cups Coffee, 12 Count'\n",
      "\n",
      " Рекомендуем Вам посмотреть на 'Keurig 2.0 Green Mountain Breakfast Blend Decaf Coffee , K-Carafe Packs (8)'\n",
      "\n",
      " Рекомендуем Вам посмотреть на 'New Zealand Whole Milk Powder(certified organic milk source)'\n"
     ]
    }
   ],
   "source": [
    "# выведем более понятные имена\n",
    "print(f'Для {titles.title.loc[58]}')\n",
    "for item in nbm:\n",
    "    print(f'\\n Рекомендуем Вам посмотреть на {titles.title.loc[item]}')"
   ]
  },
  {
   "cell_type": "code",
   "execution_count": 96,
   "metadata": {
    "pycharm": {
     "name": "#%%\n"
    }
   },
   "outputs": [],
   "source": [
    "# Уберем длинные \"страшные\" названия (какая-то ошибка в изначальном файле json)\n",
    "titles.title = titles.title.apply(\n",
    "    lambda x: 'Unamed item' if 'var' in str(x) else x)"
   ]
  },
  {
   "cell_type": "code",
   "execution_count": null,
   "metadata": {
    "pycharm": {
     "name": "#%%\n"
    }
   },
   "outputs": [],
   "source": [
    "titles.to_csv('titles_new.csv', index=False)"
   ]
  },
  {
   "cell_type": "code",
   "execution_count": null,
   "metadata": {},
   "outputs": [],
   "source": [
    "# Теперь перенесем это в отдельный файл для прототипирования и последующего деплоя на Heroku"
   ]
  }
 ],
 "metadata": {
  "kernelspec": {
   "display_name": "Python 3",
   "language": "python",
   "name": "python3"
  },
  "language_info": {
   "codemirror_mode": {
    "name": "ipython",
    "version": 3
   },
   "file_extension": ".py",
   "mimetype": "text/x-python",
   "name": "python",
   "nbconvert_exporter": "python",
   "pygments_lexer": "ipython3",
   "version": "3.8.3"
  }
 },
 "nbformat": 4,
 "nbformat_minor": 1
}
